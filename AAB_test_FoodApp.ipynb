{
 "cells": [
  {
   "cell_type": "code",
   "execution_count": 1,
   "metadata": {},
   "outputs": [
    {
     "name": "stdout",
     "output_type": "stream",
     "text": [
      "Requirement already satisfied: sidetable in c:\\users\\dell\\miniconda3\\lib\\site-packages (0.9.1)\n",
      "Requirement already satisfied: pandas>=1.0 in c:\\users\\dell\\miniconda3\\lib\\site-packages (from sidetable) (1.3.4)\n",
      "Requirement already satisfied: pytz>=2017.3 in c:\\users\\dell\\miniconda3\\lib\\site-packages (from pandas>=1.0->sidetable) (2021.3)\n",
      "Requirement already satisfied: numpy>=1.17.3 in c:\\users\\dell\\miniconda3\\lib\\site-packages (from pandas>=1.0->sidetable) (1.21.4)\n",
      "Requirement already satisfied: python-dateutil>=2.7.3 in c:\\users\\dell\\miniconda3\\lib\\site-packages (from pandas>=1.0->sidetable) (2.8.2)\n",
      "Requirement already satisfied: six>=1.5 in c:\\users\\dell\\miniconda3\\lib\\site-packages (from python-dateutil>=2.7.3->pandas>=1.0->sidetable) (1.16.0)\n"
     ]
    }
   ],
   "source": [
    "!pip install sidetable -U"
   ]
  },
  {
   "cell_type": "markdown",
   "metadata": {},
   "source": [
    "# Project description   \n",
    "\n",
    "We work at a startup that sells food products. **We need to investigate user behavior for the company's app.**   \n",
    "Let's define our probable steps and what we are going do with data:    \n",
    "\n",
    "*Step 1. We'll just take a look on data and prepare and make changes, if needed (working with missing values, incorrect data types, making necessary calculations)   \n",
    "Step 2. We'll check data in terms of preparing for further A/A/B test.   \n",
    "Step 3. We'll study the sales funnel: we'll find out how users reach the purchase stage, how many users actually make it to this stage or how many get stuck at previous stages etc.    \n",
    "Step 4. Then we have to provide an A/A/B test, because designers would like to change the fonts for the entire app, but the managers decide to make a decision based on the results of an A/A/B test: to do or not to do.     \n",
    "The users are split into three groups: two control groups get the old fonts and one test group gets the new ones. Find out which set of fonts produces better results.*"
   ]
  },
  {
   "cell_type": "markdown",
   "metadata": {},
   "source": [
    "## Step 1. Look in general on data. Prepare the data for analysis"
   ]
  },
  {
   "cell_type": "code",
   "execution_count": 2,
   "metadata": {},
   "outputs": [],
   "source": [
    "import pandas as pd\n",
    "import sidetable\n",
    "from datetime import datetime\n",
    "import plotly.express as px\n",
    "from plotly import graph_objects as go\n",
    "from scipy import stats\n",
    "import math as mth"
   ]
  },
  {
   "cell_type": "code",
   "execution_count": 3,
   "metadata": {},
   "outputs": [],
   "source": [
    "try: \n",
    "    data = pd.read_csv('C:/Users/Dell/Documents/tempPy/myProjects/ForGit/AB_test_analysis/logs_exp_us.csv', sep = '\\t')\n",
    "except:\n",
    "    print('Oops, something wrong')"
   ]
  },
  {
   "cell_type": "code",
   "execution_count": 4,
   "metadata": {},
   "outputs": [
    {
     "data": {
      "text/html": [
       "<div>\n",
       "<style scoped>\n",
       "    .dataframe tbody tr th:only-of-type {\n",
       "        vertical-align: middle;\n",
       "    }\n",
       "\n",
       "    .dataframe tbody tr th {\n",
       "        vertical-align: top;\n",
       "    }\n",
       "\n",
       "    .dataframe thead th {\n",
       "        text-align: right;\n",
       "    }\n",
       "</style>\n",
       "<table border=\"1\" class=\"dataframe\">\n",
       "  <thead>\n",
       "    <tr style=\"text-align: right;\">\n",
       "      <th></th>\n",
       "      <th>EventName</th>\n",
       "      <th>DeviceIDHash</th>\n",
       "      <th>EventTimestamp</th>\n",
       "      <th>ExpId</th>\n",
       "    </tr>\n",
       "  </thead>\n",
       "  <tbody>\n",
       "    <tr>\n",
       "      <th>138844</th>\n",
       "      <td>MainScreenAppear</td>\n",
       "      <td>1395464111704798775</td>\n",
       "      <td>1564948698</td>\n",
       "      <td>248</td>\n",
       "    </tr>\n",
       "    <tr>\n",
       "      <th>162248</th>\n",
       "      <td>MainScreenAppear</td>\n",
       "      <td>7402219874284425208</td>\n",
       "      <td>1565015630</td>\n",
       "      <td>248</td>\n",
       "    </tr>\n",
       "    <tr>\n",
       "      <th>146999</th>\n",
       "      <td>OffersScreenAppear</td>\n",
       "      <td>3555990757384986950</td>\n",
       "      <td>1564990966</td>\n",
       "      <td>248</td>\n",
       "    </tr>\n",
       "    <tr>\n",
       "      <th>217734</th>\n",
       "      <td>MainScreenAppear</td>\n",
       "      <td>3923636119268104181</td>\n",
       "      <td>1565160514</td>\n",
       "      <td>248</td>\n",
       "    </tr>\n",
       "    <tr>\n",
       "      <th>58768</th>\n",
       "      <td>MainScreenAppear</td>\n",
       "      <td>6224840966394928541</td>\n",
       "      <td>1564753051</td>\n",
       "      <td>247</td>\n",
       "    </tr>\n",
       "    <tr>\n",
       "      <th>7996</th>\n",
       "      <td>MainScreenAppear</td>\n",
       "      <td>3090628203932190912</td>\n",
       "      <td>1564643747</td>\n",
       "      <td>247</td>\n",
       "    </tr>\n",
       "    <tr>\n",
       "      <th>53183</th>\n",
       "      <td>MainScreenAppear</td>\n",
       "      <td>4081374760451203066</td>\n",
       "      <td>1564743702</td>\n",
       "      <td>247</td>\n",
       "    </tr>\n",
       "    <tr>\n",
       "      <th>86416</th>\n",
       "      <td>OffersScreenAppear</td>\n",
       "      <td>1035766790164458922</td>\n",
       "      <td>1564829129</td>\n",
       "      <td>246</td>\n",
       "    </tr>\n",
       "    <tr>\n",
       "      <th>178344</th>\n",
       "      <td>CartScreenAppear</td>\n",
       "      <td>8898608114522007125</td>\n",
       "      <td>1565062585</td>\n",
       "      <td>247</td>\n",
       "    </tr>\n",
       "    <tr>\n",
       "      <th>141152</th>\n",
       "      <td>MainScreenAppear</td>\n",
       "      <td>3167390091686880227</td>\n",
       "      <td>1564965234</td>\n",
       "      <td>247</td>\n",
       "    </tr>\n",
       "  </tbody>\n",
       "</table>\n",
       "</div>"
      ],
      "text/plain": [
       "                 EventName         DeviceIDHash  EventTimestamp  ExpId\n",
       "138844    MainScreenAppear  1395464111704798775      1564948698    248\n",
       "162248    MainScreenAppear  7402219874284425208      1565015630    248\n",
       "146999  OffersScreenAppear  3555990757384986950      1564990966    248\n",
       "217734    MainScreenAppear  3923636119268104181      1565160514    248\n",
       "58768     MainScreenAppear  6224840966394928541      1564753051    247\n",
       "7996      MainScreenAppear  3090628203932190912      1564643747    247\n",
       "53183     MainScreenAppear  4081374760451203066      1564743702    247\n",
       "86416   OffersScreenAppear  1035766790164458922      1564829129    246\n",
       "178344    CartScreenAppear  8898608114522007125      1565062585    247\n",
       "141152    MainScreenAppear  3167390091686880227      1564965234    247"
      ]
     },
     "execution_count": 4,
     "metadata": {},
     "output_type": "execute_result"
    }
   ],
   "source": [
    "data.sample(10)"
   ]
  },
  {
   "cell_type": "code",
   "execution_count": 5,
   "metadata": {},
   "outputs": [
    {
     "name": "stdout",
     "output_type": "stream",
     "text": [
      "<class 'pandas.core.frame.DataFrame'>\n",
      "RangeIndex: 244126 entries, 0 to 244125\n",
      "Data columns (total 4 columns):\n",
      " #   Column          Non-Null Count   Dtype \n",
      "---  ------          --------------   ----- \n",
      " 0   EventName       244126 non-null  object\n",
      " 1   DeviceIDHash    244126 non-null  int64 \n",
      " 2   EventTimestamp  244126 non-null  int64 \n",
      " 3   ExpId           244126 non-null  int64 \n",
      "dtypes: int64(3), object(1)\n",
      "memory usage: 22.9 MB\n"
     ]
    }
   ],
   "source": [
    "data.info(memory_usage = 'deep')"
   ]
  },
  {
   "cell_type": "code",
   "execution_count": 6,
   "metadata": {},
   "outputs": [
    {
     "data": {
      "text/html": [
       "<div>\n",
       "<style scoped>\n",
       "    .dataframe tbody tr th:only-of-type {\n",
       "        vertical-align: middle;\n",
       "    }\n",
       "\n",
       "    .dataframe tbody tr th {\n",
       "        vertical-align: top;\n",
       "    }\n",
       "\n",
       "    .dataframe thead th {\n",
       "        text-align: right;\n",
       "    }\n",
       "</style>\n",
       "<table border=\"1\" class=\"dataframe\">\n",
       "  <thead>\n",
       "    <tr style=\"text-align: right;\">\n",
       "      <th></th>\n",
       "      <th>EventName</th>\n",
       "    </tr>\n",
       "  </thead>\n",
       "  <tbody>\n",
       "    <tr>\n",
       "      <th>count</th>\n",
       "      <td>244126</td>\n",
       "    </tr>\n",
       "    <tr>\n",
       "      <th>unique</th>\n",
       "      <td>5</td>\n",
       "    </tr>\n",
       "    <tr>\n",
       "      <th>top</th>\n",
       "      <td>MainScreenAppear</td>\n",
       "    </tr>\n",
       "    <tr>\n",
       "      <th>freq</th>\n",
       "      <td>119205</td>\n",
       "    </tr>\n",
       "  </tbody>\n",
       "</table>\n",
       "</div>"
      ],
      "text/plain": [
       "               EventName\n",
       "count             244126\n",
       "unique                 5\n",
       "top     MainScreenAppear\n",
       "freq              119205"
      ]
     },
     "execution_count": 6,
     "metadata": {},
     "output_type": "execute_result"
    }
   ],
   "source": [
    "data.describe(include = 'object')"
   ]
  },
  {
   "cell_type": "markdown",
   "metadata": {},
   "source": [
    "Let's rename columns, change type of timestamp column and add new date column:"
   ]
  },
  {
   "cell_type": "code",
   "execution_count": 7,
   "metadata": {},
   "outputs": [
    {
     "data": {
      "text/html": [
       "<div>\n",
       "<style scoped>\n",
       "    .dataframe tbody tr th:only-of-type {\n",
       "        vertical-align: middle;\n",
       "    }\n",
       "\n",
       "    .dataframe tbody tr th {\n",
       "        vertical-align: top;\n",
       "    }\n",
       "\n",
       "    .dataframe thead th {\n",
       "        text-align: right;\n",
       "    }\n",
       "</style>\n",
       "<table border=\"1\" class=\"dataframe\">\n",
       "  <thead>\n",
       "    <tr style=\"text-align: right;\">\n",
       "      <th></th>\n",
       "      <th>event_name</th>\n",
       "      <th>device_id</th>\n",
       "      <th>event_timestamp</th>\n",
       "      <th>exp_id</th>\n",
       "    </tr>\n",
       "  </thead>\n",
       "  <tbody>\n",
       "    <tr>\n",
       "      <th>0</th>\n",
       "      <td>MainScreenAppear</td>\n",
       "      <td>4575588528974610257</td>\n",
       "      <td>1564029816</td>\n",
       "      <td>246</td>\n",
       "    </tr>\n",
       "    <tr>\n",
       "      <th>1</th>\n",
       "      <td>MainScreenAppear</td>\n",
       "      <td>7416695313311560658</td>\n",
       "      <td>1564053102</td>\n",
       "      <td>246</td>\n",
       "    </tr>\n",
       "    <tr>\n",
       "      <th>2</th>\n",
       "      <td>PaymentScreenSuccessful</td>\n",
       "      <td>3518123091307005509</td>\n",
       "      <td>1564054127</td>\n",
       "      <td>248</td>\n",
       "    </tr>\n",
       "    <tr>\n",
       "      <th>3</th>\n",
       "      <td>CartScreenAppear</td>\n",
       "      <td>3518123091307005509</td>\n",
       "      <td>1564054127</td>\n",
       "      <td>248</td>\n",
       "    </tr>\n",
       "    <tr>\n",
       "      <th>4</th>\n",
       "      <td>PaymentScreenSuccessful</td>\n",
       "      <td>6217807653094995999</td>\n",
       "      <td>1564055322</td>\n",
       "      <td>248</td>\n",
       "    </tr>\n",
       "  </tbody>\n",
       "</table>\n",
       "</div>"
      ],
      "text/plain": [
       "                event_name            device_id  event_timestamp  exp_id\n",
       "0         MainScreenAppear  4575588528974610257       1564029816     246\n",
       "1         MainScreenAppear  7416695313311560658       1564053102     246\n",
       "2  PaymentScreenSuccessful  3518123091307005509       1564054127     248\n",
       "3         CartScreenAppear  3518123091307005509       1564054127     248\n",
       "4  PaymentScreenSuccessful  6217807653094995999       1564055322     248"
      ]
     },
     "execution_count": 7,
     "metadata": {},
     "output_type": "execute_result"
    }
   ],
   "source": [
    "data.columns = data.columns.str.lower()\n",
    "data.columns = ['event_name', 'device_id', 'event_timestamp', 'exp_id']\n",
    "data.head()"
   ]
  },
  {
   "cell_type": "code",
   "execution_count": 8,
   "metadata": {},
   "outputs": [
    {
     "data": {
      "text/html": [
       "<div>\n",
       "<style scoped>\n",
       "    .dataframe tbody tr th:only-of-type {\n",
       "        vertical-align: middle;\n",
       "    }\n",
       "\n",
       "    .dataframe tbody tr th {\n",
       "        vertical-align: top;\n",
       "    }\n",
       "\n",
       "    .dataframe thead th {\n",
       "        text-align: right;\n",
       "    }\n",
       "</style>\n",
       "<table border=\"1\" class=\"dataframe\">\n",
       "  <thead>\n",
       "    <tr style=\"text-align: right;\">\n",
       "      <th></th>\n",
       "      <th>event_name</th>\n",
       "      <th>device_id</th>\n",
       "      <th>event_timestamp</th>\n",
       "      <th>exp_id</th>\n",
       "    </tr>\n",
       "  </thead>\n",
       "  <tbody>\n",
       "    <tr>\n",
       "      <th>0</th>\n",
       "      <td>MainScreenAppear</td>\n",
       "      <td>4575588528974610257</td>\n",
       "      <td>2019-07-25 07:43:36</td>\n",
       "      <td>246</td>\n",
       "    </tr>\n",
       "    <tr>\n",
       "      <th>1</th>\n",
       "      <td>MainScreenAppear</td>\n",
       "      <td>7416695313311560658</td>\n",
       "      <td>2019-07-25 14:11:42</td>\n",
       "      <td>246</td>\n",
       "    </tr>\n",
       "    <tr>\n",
       "      <th>2</th>\n",
       "      <td>PaymentScreenSuccessful</td>\n",
       "      <td>3518123091307005509</td>\n",
       "      <td>2019-07-25 14:28:47</td>\n",
       "      <td>248</td>\n",
       "    </tr>\n",
       "    <tr>\n",
       "      <th>3</th>\n",
       "      <td>CartScreenAppear</td>\n",
       "      <td>3518123091307005509</td>\n",
       "      <td>2019-07-25 14:28:47</td>\n",
       "      <td>248</td>\n",
       "    </tr>\n",
       "    <tr>\n",
       "      <th>4</th>\n",
       "      <td>PaymentScreenSuccessful</td>\n",
       "      <td>6217807653094995999</td>\n",
       "      <td>2019-07-25 14:48:42</td>\n",
       "      <td>248</td>\n",
       "    </tr>\n",
       "  </tbody>\n",
       "</table>\n",
       "</div>"
      ],
      "text/plain": [
       "                event_name            device_id     event_timestamp  exp_id\n",
       "0         MainScreenAppear  4575588528974610257 2019-07-25 07:43:36     246\n",
       "1         MainScreenAppear  7416695313311560658 2019-07-25 14:11:42     246\n",
       "2  PaymentScreenSuccessful  3518123091307005509 2019-07-25 14:28:47     248\n",
       "3         CartScreenAppear  3518123091307005509 2019-07-25 14:28:47     248\n",
       "4  PaymentScreenSuccessful  6217807653094995999 2019-07-25 14:48:42     248"
      ]
     },
     "execution_count": 8,
     "metadata": {},
     "output_type": "execute_result"
    }
   ],
   "source": [
    "data['event_timestamp'] = data['event_timestamp'].apply(lambda x: datetime.fromtimestamp(x))\n",
    "data.head()"
   ]
  },
  {
   "cell_type": "code",
   "execution_count": 9,
   "metadata": {},
   "outputs": [
    {
     "data": {
      "text/html": [
       "<div>\n",
       "<style scoped>\n",
       "    .dataframe tbody tr th:only-of-type {\n",
       "        vertical-align: middle;\n",
       "    }\n",
       "\n",
       "    .dataframe tbody tr th {\n",
       "        vertical-align: top;\n",
       "    }\n",
       "\n",
       "    .dataframe thead th {\n",
       "        text-align: right;\n",
       "    }\n",
       "</style>\n",
       "<table border=\"1\" class=\"dataframe\">\n",
       "  <thead>\n",
       "    <tr style=\"text-align: right;\">\n",
       "      <th></th>\n",
       "      <th>event_name</th>\n",
       "      <th>device_id</th>\n",
       "      <th>event_timestamp</th>\n",
       "      <th>exp_id</th>\n",
       "      <th>date</th>\n",
       "    </tr>\n",
       "  </thead>\n",
       "  <tbody>\n",
       "    <tr>\n",
       "      <th>0</th>\n",
       "      <td>MainScreenAppear</td>\n",
       "      <td>4575588528974610257</td>\n",
       "      <td>2019-07-25 07:43:36</td>\n",
       "      <td>246</td>\n",
       "      <td>2019-07-25</td>\n",
       "    </tr>\n",
       "    <tr>\n",
       "      <th>1</th>\n",
       "      <td>MainScreenAppear</td>\n",
       "      <td>7416695313311560658</td>\n",
       "      <td>2019-07-25 14:11:42</td>\n",
       "      <td>246</td>\n",
       "      <td>2019-07-25</td>\n",
       "    </tr>\n",
       "    <tr>\n",
       "      <th>2</th>\n",
       "      <td>PaymentScreenSuccessful</td>\n",
       "      <td>3518123091307005509</td>\n",
       "      <td>2019-07-25 14:28:47</td>\n",
       "      <td>248</td>\n",
       "      <td>2019-07-25</td>\n",
       "    </tr>\n",
       "    <tr>\n",
       "      <th>3</th>\n",
       "      <td>CartScreenAppear</td>\n",
       "      <td>3518123091307005509</td>\n",
       "      <td>2019-07-25 14:28:47</td>\n",
       "      <td>248</td>\n",
       "      <td>2019-07-25</td>\n",
       "    </tr>\n",
       "    <tr>\n",
       "      <th>4</th>\n",
       "      <td>PaymentScreenSuccessful</td>\n",
       "      <td>6217807653094995999</td>\n",
       "      <td>2019-07-25 14:48:42</td>\n",
       "      <td>248</td>\n",
       "      <td>2019-07-25</td>\n",
       "    </tr>\n",
       "  </tbody>\n",
       "</table>\n",
       "</div>"
      ],
      "text/plain": [
       "                event_name            device_id     event_timestamp  exp_id  \\\n",
       "0         MainScreenAppear  4575588528974610257 2019-07-25 07:43:36     246   \n",
       "1         MainScreenAppear  7416695313311560658 2019-07-25 14:11:42     246   \n",
       "2  PaymentScreenSuccessful  3518123091307005509 2019-07-25 14:28:47     248   \n",
       "3         CartScreenAppear  3518123091307005509 2019-07-25 14:28:47     248   \n",
       "4  PaymentScreenSuccessful  6217807653094995999 2019-07-25 14:48:42     248   \n",
       "\n",
       "         date  \n",
       "0  2019-07-25  \n",
       "1  2019-07-25  \n",
       "2  2019-07-25  \n",
       "3  2019-07-25  \n",
       "4  2019-07-25  "
      ]
     },
     "execution_count": 9,
     "metadata": {},
     "output_type": "execute_result"
    }
   ],
   "source": [
    "data['date'] = data['event_timestamp'].dt.date\n",
    "data.head()"
   ]
  },
  {
   "cell_type": "markdown",
   "metadata": {},
   "source": [
    "**Conclusion:**    \n",
    "\n",
    "So, now it looks more we could proceed for next step"
   ]
  },
  {
   "cell_type": "markdown",
   "metadata": {},
   "source": [
    "## Step 2. Study and check the data"
   ]
  },
  {
   "cell_type": "markdown",
   "metadata": {},
   "source": [
    "### How many events are in the logs?"
   ]
  },
  {
   "cell_type": "markdown",
   "metadata": {},
   "source": [
    "As we could mention before - we have 5 events in the logs"
   ]
  },
  {
   "cell_type": "markdown",
   "metadata": {},
   "source": [
    "### How many users are in the logs?"
   ]
  },
  {
   "cell_type": "code",
   "execution_count": 10,
   "metadata": {},
   "outputs": [
    {
     "data": {
      "text/plain": [
       "7551"
      ]
     },
     "execution_count": 10,
     "metadata": {},
     "output_type": "execute_result"
    }
   ],
   "source": [
    "data['device_id'].nunique()"
   ]
  },
  {
   "cell_type": "markdown",
   "metadata": {},
   "source": [
    "### What's the average number of events per user?"
   ]
  },
  {
   "cell_type": "code",
   "execution_count": 11,
   "metadata": {},
   "outputs": [
    {
     "data": {
      "text/plain": [
       "32.33028737915508"
      ]
     },
     "execution_count": 11,
     "metadata": {},
     "output_type": "execute_result"
    }
   ],
   "source": [
    "data.groupby('device_id')['event_name'].count().mean()"
   ]
  },
  {
   "cell_type": "code",
   "execution_count": 12,
   "metadata": {},
   "outputs": [
    {
     "data": {
      "text/plain": [
       "2.6744802012978415"
      ]
     },
     "execution_count": 12,
     "metadata": {},
     "output_type": "execute_result"
    }
   ],
   "source": [
    "data.groupby('device_id')['event_name'].nunique().reset_index()['event_name'].mean()"
   ]
  },
  {
   "cell_type": "markdown",
   "metadata": {},
   "source": [
    "As we could mention for each particular user it takes nearly 2-3 steps on average."
   ]
  },
  {
   "cell_type": "markdown",
   "metadata": {},
   "source": [
    "### What period of time does the data cover? Find the maximum and the minimum date. Plot a histogram by date and time. Can you be sure that you have equally complete data for the entire period? Older events could end up in some users' logs for technical reasons, and this could skew the overall picture. Find the moment at which the data starts to be complete and ignore the earlier section. What period does the data actually represent?"
   ]
  },
  {
   "cell_type": "code",
   "execution_count": 13,
   "metadata": {},
   "outputs": [
    {
     "data": {
      "text/plain": [
       "Timestamp('2019-07-25 07:43:36')"
      ]
     },
     "execution_count": 13,
     "metadata": {},
     "output_type": "execute_result"
    }
   ],
   "source": [
    "data['event_timestamp'].min()"
   ]
  },
  {
   "cell_type": "code",
   "execution_count": 14,
   "metadata": {},
   "outputs": [
    {
     "data": {
      "text/plain": [
       "Timestamp('2019-08-08 00:15:17')"
      ]
     },
     "execution_count": 14,
     "metadata": {},
     "output_type": "execute_result"
    }
   ],
   "source": [
    "data['event_timestamp'].max()"
   ]
  },
  {
   "cell_type": "code",
   "execution_count": 53,
   "metadata": {},
   "outputs": [
    {
     "data": {
      "image/svg+xml": [
       "<svg class=\"main-svg\" xmlns=\"http://www.w3.org/2000/svg\" xmlns:xlink=\"http://www.w3.org/1999/xlink\" width=\"700\" height=\"500\" style=\"\" viewBox=\"0 0 700 500\"><rect x=\"0\" y=\"0\" width=\"700\" height=\"500\" style=\"fill: rgb(255, 255, 255); fill-opacity: 1;\"/><defs id=\"defs-61e693\"><g class=\"clips\"><clipPath id=\"clip61e693xyplot\" class=\"plotclip\"><rect width=\"540\" height=\"320\"/></clipPath><clipPath class=\"axesclip\" id=\"clip61e693x\"><rect x=\"80\" y=\"0\" width=\"540\" height=\"500\"/></clipPath><clipPath class=\"axesclip\" id=\"clip61e693y\"><rect x=\"0\" y=\"100\" width=\"700\" height=\"320\"/></clipPath><clipPath class=\"axesclip\" id=\"clip61e693xy\"><rect x=\"80\" y=\"100\" width=\"540\" height=\"320\"/></clipPath></g><g class=\"gradients\"/><g class=\"patterns\"/></defs><g class=\"bglayer\"><rect class=\"bg\" x=\"80\" y=\"100\" width=\"540\" height=\"320\" style=\"fill: rgb(229, 236, 246); fill-opacity: 1; stroke-width: 0;\"/></g><g class=\"layer-below\"><g class=\"imagelayer\"/><g class=\"shapelayer\"/></g><g class=\"cartesianlayer\"><g class=\"subplot xy\"><g class=\"layer-subplot\"><g class=\"shapelayer\"/><g class=\"imagelayer\"/></g><g class=\"minor-gridlayer\"><g class=\"x\"/><g class=\"y\"/></g><g class=\"gridlayer\"><g class=\"x\"/><g class=\"y\"><path class=\"ygrid crisp\" transform=\"translate(0,368.4)\" d=\"M80,0h540\" style=\"stroke: rgb(255, 255, 255); stroke-opacity: 1; stroke-width: 1px;\"/><path class=\"ygrid crisp\" transform=\"translate(0,316.81)\" d=\"M80,0h540\" style=\"stroke: rgb(255, 255, 255); stroke-opacity: 1; stroke-width: 1px;\"/><path class=\"ygrid crisp\" transform=\"translate(0,265.21000000000004)\" d=\"M80,0h540\" style=\"stroke: rgb(255, 255, 255); stroke-opacity: 1; stroke-width: 1px;\"/><path class=\"ygrid crisp\" transform=\"translate(0,213.62)\" d=\"M80,0h540\" style=\"stroke: rgb(255, 255, 255); stroke-opacity: 1; stroke-width: 1px;\"/><path class=\"ygrid crisp\" transform=\"translate(0,162.02)\" d=\"M80,0h540\" style=\"stroke: rgb(255, 255, 255); stroke-opacity: 1; stroke-width: 1px;\"/><path class=\"ygrid crisp\" transform=\"translate(0,110.43)\" d=\"M80,0h540\" style=\"stroke: rgb(255, 255, 255); stroke-opacity: 1; stroke-width: 1px;\"/></g></g><g class=\"zerolinelayer\"><path class=\"yzl zl crisp\" transform=\"translate(0,420)\" d=\"M80,0h540\" style=\"stroke: rgb(255, 255, 255); stroke-opacity: 1; stroke-width: 2px;\"/></g><path class=\"xlines-below\"/><path class=\"ylines-below\"/><g class=\"overlines-below\"/><g class=\"xaxislayer-below\"/><g class=\"yaxislayer-below\"/><g class=\"overaxes-below\"/><g class=\"plot\" transform=\"translate(80,100)\" clip-path=\"url(#clip61e693xyplot)\"><g class=\"barlayer mlayer\"><g class=\"trace bars\" shape-rendering=\"crispEdges\" style=\"opacity: 1;\"><g class=\"points\"><g class=\"point\"><path d=\"M0,320V319.9H1.64V320Z\" style=\"vector-effect: none; opacity: 1; stroke-width: 0px; fill: rgb(99, 110, 250); fill-opacity: 1;\"/></g><g class=\"point\"><path d=\"M0,0Z\" style=\"vector-effect: none; opacity: 1; stroke-width: 0px; fill: rgb(99, 110, 250); fill-opacity: 1;\"/></g><g class=\"point\"><path d=\"M0,0Z\" style=\"vector-effect: none; opacity: 1; stroke-width: 0px; fill: rgb(99, 110, 250); fill-opacity: 1;\"/></g><g class=\"point\"><path d=\"M0,0Z\" style=\"vector-effect: none; opacity: 1; stroke-width: 0px; fill: rgb(99, 110, 250); fill-opacity: 1;\"/></g><g class=\"point\"><path d=\"M0,0Z\" style=\"vector-effect: none; opacity: 1; stroke-width: 0px; fill: rgb(99, 110, 250); fill-opacity: 1;\"/></g><g class=\"point\"><path d=\"M0,0Z\" style=\"vector-effect: none; opacity: 1; stroke-width: 0px; fill: rgb(99, 110, 250); fill-opacity: 1;\"/></g><g class=\"point\"><path d=\"M0,0Z\" style=\"vector-effect: none; opacity: 1; stroke-width: 0px; fill: rgb(99, 110, 250); fill-opacity: 1;\"/></g><g class=\"point\"><path d=\"M11.45,320V319.48H13.09V320Z\" style=\"vector-effect: none; opacity: 1; stroke-width: 0px; fill: rgb(99, 110, 250); fill-opacity: 1;\"/></g><g class=\"point\"><path d=\"M0,0Z\" style=\"vector-effect: none; opacity: 1; stroke-width: 0px; fill: rgb(99, 110, 250); fill-opacity: 1;\"/></g><g class=\"point\"><path d=\"M0,0Z\" style=\"vector-effect: none; opacity: 1; stroke-width: 0px; fill: rgb(99, 110, 250); fill-opacity: 1;\"/></g><g class=\"point\"><path d=\"M16.36,320V319.9H18V320Z\" style=\"vector-effect: none; opacity: 1; stroke-width: 0px; fill: rgb(99, 110, 250); fill-opacity: 1;\"/></g><g class=\"point\"><path d=\"M0,0Z\" style=\"vector-effect: none; opacity: 1; stroke-width: 0px; fill: rgb(99, 110, 250); fill-opacity: 1;\"/></g><g class=\"point\"><path d=\"M0,0Z\" style=\"vector-effect: none; opacity: 1; stroke-width: 0px; fill: rgb(99, 110, 250); fill-opacity: 1;\"/></g><g class=\"point\"><path d=\"M0,0Z\" style=\"vector-effect: none; opacity: 1; stroke-width: 0px; fill: rgb(99, 110, 250); fill-opacity: 1;\"/></g><g class=\"point\"><path d=\"M0,0Z\" style=\"vector-effect: none; opacity: 1; stroke-width: 0px; fill: rgb(99, 110, 250); fill-opacity: 1;\"/></g><g class=\"point\"><path d=\"M0,0Z\" style=\"vector-effect: none; opacity: 1; stroke-width: 0px; fill: rgb(99, 110, 250); fill-opacity: 1;\"/></g><g class=\"point\"><path d=\"M26.18,320V319.79H27.82V320Z\" style=\"vector-effect: none; opacity: 1; stroke-width: 0px; fill: rgb(99, 110, 250); fill-opacity: 1;\"/></g><g class=\"point\"><path d=\"M0,0Z\" style=\"vector-effect: none; opacity: 1; stroke-width: 0px; fill: rgb(99, 110, 250); fill-opacity: 1;\"/></g><g class=\"point\"><path d=\"M0,0Z\" style=\"vector-effect: none; opacity: 1; stroke-width: 0px; fill: rgb(99, 110, 250); fill-opacity: 1;\"/></g><g class=\"point\"><path d=\"M0,0Z\" style=\"vector-effect: none; opacity: 1; stroke-width: 0px; fill: rgb(99, 110, 250); fill-opacity: 1;\"/></g><g class=\"point\"><path d=\"M0,0Z\" style=\"vector-effect: none; opacity: 1; stroke-width: 0px; fill: rgb(99, 110, 250); fill-opacity: 1;\"/></g><g class=\"point\"><path d=\"M0,0Z\" style=\"vector-effect: none; opacity: 1; stroke-width: 0px; fill: rgb(99, 110, 250); fill-opacity: 1;\"/></g><g class=\"point\"><path d=\"M0,0Z\" style=\"vector-effect: none; opacity: 1; stroke-width: 0px; fill: rgb(99, 110, 250); fill-opacity: 1;\"/></g><g class=\"point\"><path d=\"M37.64,320V319.9H39.27V320Z\" style=\"vector-effect: none; opacity: 1; stroke-width: 0px; fill: rgb(99, 110, 250); fill-opacity: 1;\"/></g><g class=\"point\"><path d=\"M0,0Z\" style=\"vector-effect: none; opacity: 1; stroke-width: 0px; fill: rgb(99, 110, 250); fill-opacity: 1;\"/></g><g class=\"point\"><path d=\"M40.91,320V319.9H42.55V320Z\" style=\"vector-effect: none; opacity: 1; stroke-width: 0px; fill: rgb(99, 110, 250); fill-opacity: 1;\"/></g><g class=\"point\"><path d=\"M42.55,320V319.79H44.18V320Z\" style=\"vector-effect: none; opacity: 1; stroke-width: 0px; fill: rgb(99, 110, 250); fill-opacity: 1;\"/></g><g class=\"point\"><path d=\"M44.18,320V319.9H45.82V320Z\" style=\"vector-effect: none; opacity: 1; stroke-width: 0px; fill: rgb(99, 110, 250); fill-opacity: 1;\"/></g><g class=\"point\"><path d=\"M0,0Z\" style=\"vector-effect: none; opacity: 1; stroke-width: 0px; fill: rgb(99, 110, 250); fill-opacity: 1;\"/></g><g class=\"point\"><path d=\"M0,0Z\" style=\"vector-effect: none; opacity: 1; stroke-width: 0px; fill: rgb(99, 110, 250); fill-opacity: 1;\"/></g><g class=\"point\"><path d=\"M49.09,320V319.9H50.73V320Z\" style=\"vector-effect: none; opacity: 1; stroke-width: 0px; fill: rgb(99, 110, 250); fill-opacity: 1;\"/></g><g class=\"point\"><path d=\"M50.73,320V319.79H52.36V320Z\" style=\"vector-effect: none; opacity: 1; stroke-width: 0px; fill: rgb(99, 110, 250); fill-opacity: 1;\"/></g><g class=\"point\"><path d=\"M52.36,320V319.9H54V320Z\" style=\"vector-effect: none; opacity: 1; stroke-width: 0px; fill: rgb(99, 110, 250); fill-opacity: 1;\"/></g><g class=\"point\"><path d=\"M54,320V319.9H55.64V320Z\" style=\"vector-effect: none; opacity: 1; stroke-width: 0px; fill: rgb(99, 110, 250); fill-opacity: 1;\"/></g><g class=\"point\"><path d=\"M55.64,320V319.48H57.27V320Z\" style=\"vector-effect: none; opacity: 1; stroke-width: 0px; fill: rgb(99, 110, 250); fill-opacity: 1;\"/></g><g class=\"point\"><path d=\"M57.27,320V319.9H58.91V320Z\" style=\"vector-effect: none; opacity: 1; stroke-width: 0px; fill: rgb(99, 110, 250); fill-opacity: 1;\"/></g><g class=\"point\"><path d=\"M58.91,320V319.9H60.55V320Z\" style=\"vector-effect: none; opacity: 1; stroke-width: 0px; fill: rgb(99, 110, 250); fill-opacity: 1;\"/></g><g class=\"point\"><path d=\"M60.55,320V319.69H62.18V320Z\" style=\"vector-effect: none; opacity: 1; stroke-width: 0px; fill: rgb(99, 110, 250); fill-opacity: 1;\"/></g><g class=\"point\"><path d=\"M62.18,320V319.38H63.82V320Z\" style=\"vector-effect: none; opacity: 1; stroke-width: 0px; fill: rgb(99, 110, 250); fill-opacity: 1;\"/></g><g class=\"point\"><path d=\"M63.82,320V319.59H65.45V320Z\" style=\"vector-effect: none; opacity: 1; stroke-width: 0px; fill: rgb(99, 110, 250); fill-opacity: 1;\"/></g><g class=\"point\"><path d=\"M0,0Z\" style=\"vector-effect: none; opacity: 1; stroke-width: 0px; fill: rgb(99, 110, 250); fill-opacity: 1;\"/></g><g class=\"point\"><path d=\"M0,0Z\" style=\"vector-effect: none; opacity: 1; stroke-width: 0px; fill: rgb(99, 110, 250); fill-opacity: 1;\"/></g><g class=\"point\"><path d=\"M0,0Z\" style=\"vector-effect: none; opacity: 1; stroke-width: 0px; fill: rgb(99, 110, 250); fill-opacity: 1;\"/></g><g class=\"point\"><path d=\"M70.36,320V319.9H72V320Z\" style=\"vector-effect: none; opacity: 1; stroke-width: 0px; fill: rgb(99, 110, 250); fill-opacity: 1;\"/></g><g class=\"point\"><path d=\"M0,0Z\" style=\"vector-effect: none; opacity: 1; stroke-width: 0px; fill: rgb(99, 110, 250); fill-opacity: 1;\"/></g><g class=\"point\"><path d=\"M0,0Z\" style=\"vector-effect: none; opacity: 1; stroke-width: 0px; fill: rgb(99, 110, 250); fill-opacity: 1;\"/></g><g class=\"point\"><path d=\"M0,0Z\" style=\"vector-effect: none; opacity: 1; stroke-width: 0px; fill: rgb(99, 110, 250); fill-opacity: 1;\"/></g><g class=\"point\"><path d=\"M0,0Z\" style=\"vector-effect: none; opacity: 1; stroke-width: 0px; fill: rgb(99, 110, 250); fill-opacity: 1;\"/></g><g class=\"point\"><path d=\"M78.55,320V319.9H80.18V320Z\" style=\"vector-effect: none; opacity: 1; stroke-width: 0px; fill: rgb(99, 110, 250); fill-opacity: 1;\"/></g><g class=\"point\"><path d=\"M0,0Z\" style=\"vector-effect: none; opacity: 1; stroke-width: 0px; fill: rgb(99, 110, 250); fill-opacity: 1;\"/></g><g class=\"point\"><path d=\"M81.82,320V319.59H83.45V320Z\" style=\"vector-effect: none; opacity: 1; stroke-width: 0px; fill: rgb(99, 110, 250); fill-opacity: 1;\"/></g><g class=\"point\"><path d=\"M0,0Z\" style=\"vector-effect: none; opacity: 1; stroke-width: 0px; fill: rgb(99, 110, 250); fill-opacity: 1;\"/></g><g class=\"point\"><path d=\"M85.09,320V319.07H86.73V320Z\" style=\"vector-effect: none; opacity: 1; stroke-width: 0px; fill: rgb(99, 110, 250); fill-opacity: 1;\"/></g><g class=\"point\"><path d=\"M0,0Z\" style=\"vector-effect: none; opacity: 1; stroke-width: 0px; fill: rgb(99, 110, 250); fill-opacity: 1;\"/></g><g class=\"point\"><path d=\"M88.36,320V318.66H90V320Z\" style=\"vector-effect: none; opacity: 1; stroke-width: 0px; fill: rgb(99, 110, 250); fill-opacity: 1;\"/></g><g class=\"point\"><path d=\"M90,320V319.9H91.64V320Z\" style=\"vector-effect: none; opacity: 1; stroke-width: 0px; fill: rgb(99, 110, 250); fill-opacity: 1;\"/></g><g class=\"point\"><path d=\"M91.64,320V319.79H93.27V320Z\" style=\"vector-effect: none; opacity: 1; stroke-width: 0px; fill: rgb(99, 110, 250); fill-opacity: 1;\"/></g><g class=\"point\"><path d=\"M93.27,320V319.9H94.91V320Z\" style=\"vector-effect: none; opacity: 1; stroke-width: 0px; fill: rgb(99, 110, 250); fill-opacity: 1;\"/></g><g class=\"point\"><path d=\"M94.91,320V319.59H96.55V320Z\" style=\"vector-effect: none; opacity: 1; stroke-width: 0px; fill: rgb(99, 110, 250); fill-opacity: 1;\"/></g><g class=\"point\"><path d=\"M96.55,320V319.79H98.18V320Z\" style=\"vector-effect: none; opacity: 1; stroke-width: 0px; fill: rgb(99, 110, 250); fill-opacity: 1;\"/></g><g class=\"point\"><path d=\"M98.18,320V319.48H99.82V320Z\" style=\"vector-effect: none; opacity: 1; stroke-width: 0px; fill: rgb(99, 110, 250); fill-opacity: 1;\"/></g><g class=\"point\"><path d=\"M99.82,320V319.38H101.45V320Z\" style=\"vector-effect: none; opacity: 1; stroke-width: 0px; fill: rgb(99, 110, 250); fill-opacity: 1;\"/></g><g class=\"point\"><path d=\"M101.45,320V319.59H103.09V320Z\" style=\"vector-effect: none; opacity: 1; stroke-width: 0px; fill: rgb(99, 110, 250); fill-opacity: 1;\"/></g><g class=\"point\"><path d=\"M103.09,320V319.79H104.73V320Z\" style=\"vector-effect: none; opacity: 1; stroke-width: 0px; fill: rgb(99, 110, 250); fill-opacity: 1;\"/></g><g class=\"point\"><path d=\"M0,0Z\" style=\"vector-effect: none; opacity: 1; stroke-width: 0px; fill: rgb(99, 110, 250); fill-opacity: 1;\"/></g><g class=\"point\"><path d=\"M0,0Z\" style=\"vector-effect: none; opacity: 1; stroke-width: 0px; fill: rgb(99, 110, 250); fill-opacity: 1;\"/></g><g class=\"point\"><path d=\"M0,0Z\" style=\"vector-effect: none; opacity: 1; stroke-width: 0px; fill: rgb(99, 110, 250); fill-opacity: 1;\"/></g><g class=\"point\"><path d=\"M109.64,320V319.9H111.27V320Z\" style=\"vector-effect: none; opacity: 1; stroke-width: 0px; fill: rgb(99, 110, 250); fill-opacity: 1;\"/></g><g class=\"point\"><path d=\"M0,0Z\" style=\"vector-effect: none; opacity: 1; stroke-width: 0px; fill: rgb(99, 110, 250); fill-opacity: 1;\"/></g><g class=\"point\"><path d=\"M0,0Z\" style=\"vector-effect: none; opacity: 1; stroke-width: 0px; fill: rgb(99, 110, 250); fill-opacity: 1;\"/></g><g class=\"point\"><path d=\"M114.55,320V319.9H116.18V320Z\" style=\"vector-effect: none; opacity: 1; stroke-width: 0px; fill: rgb(99, 110, 250); fill-opacity: 1;\"/></g><g class=\"point\"><path d=\"M0,0Z\" style=\"vector-effect: none; opacity: 1; stroke-width: 0px; fill: rgb(99, 110, 250); fill-opacity: 1;\"/></g><g class=\"point\"><path d=\"M117.82,320V319.07H119.45V320Z\" style=\"vector-effect: none; opacity: 1; stroke-width: 0px; fill: rgb(99, 110, 250); fill-opacity: 1;\"/></g><g class=\"point\"><path d=\"M119.45,320V319.79H121.09V320Z\" style=\"vector-effect: none; opacity: 1; stroke-width: 0px; fill: rgb(99, 110, 250); fill-opacity: 1;\"/></g><g class=\"point\"><path d=\"M121.09,320V319.69H122.73V320Z\" style=\"vector-effect: none; opacity: 1; stroke-width: 0px; fill: rgb(99, 110, 250); fill-opacity: 1;\"/></g><g class=\"point\"><path d=\"M122.73,320V319.28H124.36V320Z\" style=\"vector-effect: none; opacity: 1; stroke-width: 0px; fill: rgb(99, 110, 250); fill-opacity: 1;\"/></g><g class=\"point\"><path d=\"M124.36,320V319.48H126V320Z\" style=\"vector-effect: none; opacity: 1; stroke-width: 0px; fill: rgb(99, 110, 250); fill-opacity: 1;\"/></g><g class=\"point\"><path d=\"M126,320V319.79H127.64V320Z\" style=\"vector-effect: none; opacity: 1; stroke-width: 0px; fill: rgb(99, 110, 250); fill-opacity: 1;\"/></g><g class=\"point\"><path d=\"M127.64,320V319.69H129.27V320Z\" style=\"vector-effect: none; opacity: 1; stroke-width: 0px; fill: rgb(99, 110, 250); fill-opacity: 1;\"/></g><g class=\"point\"><path d=\"M129.27,320V319.9H130.91V320Z\" style=\"vector-effect: none; opacity: 1; stroke-width: 0px; fill: rgb(99, 110, 250); fill-opacity: 1;\"/></g><g class=\"point\"><path d=\"M130.91,320V318.97H132.55V320Z\" style=\"vector-effect: none; opacity: 1; stroke-width: 0px; fill: rgb(99, 110, 250); fill-opacity: 1;\"/></g><g class=\"point\"><path d=\"M132.55,320V318.56H134.18V320Z\" style=\"vector-effect: none; opacity: 1; stroke-width: 0px; fill: rgb(99, 110, 250); fill-opacity: 1;\"/></g><g class=\"point\"><path d=\"M134.18,320V319.28H135.82V320Z\" style=\"vector-effect: none; opacity: 1; stroke-width: 0px; fill: rgb(99, 110, 250); fill-opacity: 1;\"/></g><g class=\"point\"><path d=\"M135.82,320V319.28H137.45V320Z\" style=\"vector-effect: none; opacity: 1; stroke-width: 0px; fill: rgb(99, 110, 250); fill-opacity: 1;\"/></g><g class=\"point\"><path d=\"M137.45,320V318.86H139.09V320Z\" style=\"vector-effect: none; opacity: 1; stroke-width: 0px; fill: rgb(99, 110, 250); fill-opacity: 1;\"/></g><g class=\"point\"><path d=\"M139.09,320V319.38H140.73V320Z\" style=\"vector-effect: none; opacity: 1; stroke-width: 0px; fill: rgb(99, 110, 250); fill-opacity: 1;\"/></g><g class=\"point\"><path d=\"M140.73,320V319.17H142.36V320Z\" style=\"vector-effect: none; opacity: 1; stroke-width: 0px; fill: rgb(99, 110, 250); fill-opacity: 1;\"/></g><g class=\"point\"><path d=\"M142.36,320V319.38H144V320Z\" style=\"vector-effect: none; opacity: 1; stroke-width: 0px; fill: rgb(99, 110, 250); fill-opacity: 1;\"/></g><g class=\"point\"><path d=\"M144,320V319.9H145.64V320Z\" style=\"vector-effect: none; opacity: 1; stroke-width: 0px; fill: rgb(99, 110, 250); fill-opacity: 1;\"/></g><g class=\"point\"><path d=\"M145.64,320V319.79H147.27V320Z\" style=\"vector-effect: none; opacity: 1; stroke-width: 0px; fill: rgb(99, 110, 250); fill-opacity: 1;\"/></g><g class=\"point\"><path d=\"M0,0Z\" style=\"vector-effect: none; opacity: 1; stroke-width: 0px; fill: rgb(99, 110, 250); fill-opacity: 1;\"/></g><g class=\"point\"><path d=\"M0,0Z\" style=\"vector-effect: none; opacity: 1; stroke-width: 0px; fill: rgb(99, 110, 250); fill-opacity: 1;\"/></g><g class=\"point\"><path d=\"M0,0Z\" style=\"vector-effect: none; opacity: 1; stroke-width: 0px; fill: rgb(99, 110, 250); fill-opacity: 1;\"/></g><g class=\"point\"><path d=\"M0,0Z\" style=\"vector-effect: none; opacity: 1; stroke-width: 0px; fill: rgb(99, 110, 250); fill-opacity: 1;\"/></g><g class=\"point\"><path d=\"M153.82,320V319.79H155.45V320Z\" style=\"vector-effect: none; opacity: 1; stroke-width: 0px; fill: rgb(99, 110, 250); fill-opacity: 1;\"/></g><g class=\"point\"><path d=\"M0,0Z\" style=\"vector-effect: none; opacity: 1; stroke-width: 0px; fill: rgb(99, 110, 250); fill-opacity: 1;\"/></g><g class=\"point\"><path d=\"M157.09,320V319.9H158.73V320Z\" style=\"vector-effect: none; opacity: 1; stroke-width: 0px; fill: rgb(99, 110, 250); fill-opacity: 1;\"/></g><g class=\"point\"><path d=\"M158.73,320V319.48H160.36V320Z\" style=\"vector-effect: none; opacity: 1; stroke-width: 0px; fill: rgb(99, 110, 250); fill-opacity: 1;\"/></g><g class=\"point\"><path d=\"M160.36,320V319.79H162V320Z\" style=\"vector-effect: none; opacity: 1; stroke-width: 0px; fill: rgb(99, 110, 250); fill-opacity: 1;\"/></g><g class=\"point\"><path d=\"M162,320V319.69H163.64V320Z\" style=\"vector-effect: none; opacity: 1; stroke-width: 0px; fill: rgb(99, 110, 250); fill-opacity: 1;\"/></g><g class=\"point\"><path d=\"M163.64,320V319.48H165.27V320Z\" style=\"vector-effect: none; opacity: 1; stroke-width: 0px; fill: rgb(99, 110, 250); fill-opacity: 1;\"/></g><g class=\"point\"><path d=\"M165.27,320V319.17H166.91V320Z\" style=\"vector-effect: none; opacity: 1; stroke-width: 0px; fill: rgb(99, 110, 250); fill-opacity: 1;\"/></g><g class=\"point\"><path d=\"M166.91,320V318.86H168.55V320Z\" style=\"vector-effect: none; opacity: 1; stroke-width: 0px; fill: rgb(99, 110, 250); fill-opacity: 1;\"/></g><g class=\"point\"><path d=\"M168.55,320V319.28H170.18V320Z\" style=\"vector-effect: none; opacity: 1; stroke-width: 0px; fill: rgb(99, 110, 250); fill-opacity: 1;\"/></g><g class=\"point\"><path d=\"M170.18,320V319.07H171.82V320Z\" style=\"vector-effect: none; opacity: 1; stroke-width: 0px; fill: rgb(99, 110, 250); fill-opacity: 1;\"/></g><g class=\"point\"><path d=\"M171.82,320V318.86H173.45V320Z\" style=\"vector-effect: none; opacity: 1; stroke-width: 0px; fill: rgb(99, 110, 250); fill-opacity: 1;\"/></g><g class=\"point\"><path d=\"M173.45,320V317.21H175.09V320Z\" style=\"vector-effect: none; opacity: 1; stroke-width: 0px; fill: rgb(99, 110, 250); fill-opacity: 1;\"/></g><g class=\"point\"><path d=\"M175.09,320V318.97H176.73V320Z\" style=\"vector-effect: none; opacity: 1; stroke-width: 0px; fill: rgb(99, 110, 250); fill-opacity: 1;\"/></g><g class=\"point\"><path d=\"M176.73,320V318.04H178.36V320Z\" style=\"vector-effect: none; opacity: 1; stroke-width: 0px; fill: rgb(99, 110, 250); fill-opacity: 1;\"/></g><g class=\"point\"><path d=\"M178.36,320V317.21H180V320Z\" style=\"vector-effect: none; opacity: 1; stroke-width: 0px; fill: rgb(99, 110, 250); fill-opacity: 1;\"/></g><g class=\"point\"><path d=\"M180,320V318.66H181.64V320Z\" style=\"vector-effect: none; opacity: 1; stroke-width: 0px; fill: rgb(99, 110, 250); fill-opacity: 1;\"/></g><g class=\"point\"><path d=\"M181.64,320V318.35H183.27V320Z\" style=\"vector-effect: none; opacity: 1; stroke-width: 0px; fill: rgb(99, 110, 250); fill-opacity: 1;\"/></g><g class=\"point\"><path d=\"M183.27,320V319.69H184.91V320Z\" style=\"vector-effect: none; opacity: 1; stroke-width: 0px; fill: rgb(99, 110, 250); fill-opacity: 1;\"/></g><g class=\"point\"><path d=\"M184.91,320V319.59H186.55V320Z\" style=\"vector-effect: none; opacity: 1; stroke-width: 0px; fill: rgb(99, 110, 250); fill-opacity: 1;\"/></g><g class=\"point\"><path d=\"M186.55,320V319.9H188.18V320Z\" style=\"vector-effect: none; opacity: 1; stroke-width: 0px; fill: rgb(99, 110, 250); fill-opacity: 1;\"/></g><g class=\"point\"><path d=\"M0,0Z\" style=\"vector-effect: none; opacity: 1; stroke-width: 0px; fill: rgb(99, 110, 250); fill-opacity: 1;\"/></g><g class=\"point\"><path d=\"M0,0Z\" style=\"vector-effect: none; opacity: 1; stroke-width: 0px; fill: rgb(99, 110, 250); fill-opacity: 1;\"/></g><g class=\"point\"><path d=\"M191.45,320V319.79H193.09V320Z\" style=\"vector-effect: none; opacity: 1; stroke-width: 0px; fill: rgb(99, 110, 250); fill-opacity: 1;\"/></g><g class=\"point\"><path d=\"M193.09,320V319.79H194.73V320Z\" style=\"vector-effect: none; opacity: 1; stroke-width: 0px; fill: rgb(99, 110, 250); fill-opacity: 1;\"/></g><g class=\"point\"><path d=\"M194.73,320V319.79H196.36V320Z\" style=\"vector-effect: none; opacity: 1; stroke-width: 0px; fill: rgb(99, 110, 250); fill-opacity: 1;\"/></g><g class=\"point\"><path d=\"M196.36,320V318.76H198V320Z\" style=\"vector-effect: none; opacity: 1; stroke-width: 0px; fill: rgb(99, 110, 250); fill-opacity: 1;\"/></g><g class=\"point\"><path d=\"M198,320V318.45H199.64V320Z\" style=\"vector-effect: none; opacity: 1; stroke-width: 0px; fill: rgb(99, 110, 250); fill-opacity: 1;\"/></g><g class=\"point\"><path d=\"M199.64,320V318.56H201.27V320Z\" style=\"vector-effect: none; opacity: 1; stroke-width: 0px; fill: rgb(99, 110, 250); fill-opacity: 1;\"/></g><g class=\"point\"><path d=\"M201.27,320V319.07H202.91V320Z\" style=\"vector-effect: none; opacity: 1; stroke-width: 0px; fill: rgb(99, 110, 250); fill-opacity: 1;\"/></g><g class=\"point\"><path d=\"M202.91,320V317.32H204.55V320Z\" style=\"vector-effect: none; opacity: 1; stroke-width: 0px; fill: rgb(99, 110, 250); fill-opacity: 1;\"/></g><g class=\"point\"><path d=\"M204.55,320V318.04H206.18V320Z\" style=\"vector-effect: none; opacity: 1; stroke-width: 0px; fill: rgb(99, 110, 250); fill-opacity: 1;\"/></g><g class=\"point\"><path d=\"M206.18,320V316.8H207.82V320Z\" style=\"vector-effect: none; opacity: 1; stroke-width: 0px; fill: rgb(99, 110, 250); fill-opacity: 1;\"/></g><g class=\"point\"><path d=\"M207.82,320V316.7H209.45V320Z\" style=\"vector-effect: none; opacity: 1; stroke-width: 0px; fill: rgb(99, 110, 250); fill-opacity: 1;\"/></g><g class=\"point\"><path d=\"M209.45,320V317.73H211.09V320Z\" style=\"vector-effect: none; opacity: 1; stroke-width: 0px; fill: rgb(99, 110, 250); fill-opacity: 1;\"/></g><g class=\"point\"><path d=\"M211.09,320V317.32H212.73V320Z\" style=\"vector-effect: none; opacity: 1; stroke-width: 0px; fill: rgb(99, 110, 250); fill-opacity: 1;\"/></g><g class=\"point\"><path d=\"M212.73,320V317.52H214.36V320Z\" style=\"vector-effect: none; opacity: 1; stroke-width: 0px; fill: rgb(99, 110, 250); fill-opacity: 1;\"/></g><g class=\"point\"><path d=\"M214.36,320V317.11H216V320Z\" style=\"vector-effect: none; opacity: 1; stroke-width: 0px; fill: rgb(99, 110, 250); fill-opacity: 1;\"/></g><g class=\"point\"><path d=\"M216,320V315.77H217.64V320Z\" style=\"vector-effect: none; opacity: 1; stroke-width: 0px; fill: rgb(99, 110, 250); fill-opacity: 1;\"/></g><g class=\"point\"><path d=\"M217.64,320V316.9H219.27V320Z\" style=\"vector-effect: none; opacity: 1; stroke-width: 0px; fill: rgb(99, 110, 250); fill-opacity: 1;\"/></g><g class=\"point\"><path d=\"M219.27,320V317.63H220.91V320Z\" style=\"vector-effect: none; opacity: 1; stroke-width: 0px; fill: rgb(99, 110, 250); fill-opacity: 1;\"/></g><g class=\"point\"><path d=\"M220.91,320V317.83H222.55V320Z\" style=\"vector-effect: none; opacity: 1; stroke-width: 0px; fill: rgb(99, 110, 250); fill-opacity: 1;\"/></g><g class=\"point\"><path d=\"M222.55,320V318.56H224.18V320Z\" style=\"vector-effect: none; opacity: 1; stroke-width: 0px; fill: rgb(99, 110, 250); fill-opacity: 1;\"/></g><g class=\"point\"><path d=\"M224.18,320V318.97H225.82V320Z\" style=\"vector-effect: none; opacity: 1; stroke-width: 0px; fill: rgb(99, 110, 250); fill-opacity: 1;\"/></g><g class=\"point\"><path d=\"M225.82,320V319.59H227.45V320Z\" style=\"vector-effect: none; opacity: 1; stroke-width: 0px; fill: rgb(99, 110, 250); fill-opacity: 1;\"/></g><g class=\"point\"><path d=\"M227.45,320V319.38H229.09V320Z\" style=\"vector-effect: none; opacity: 1; stroke-width: 0px; fill: rgb(99, 110, 250); fill-opacity: 1;\"/></g><g class=\"point\"><path d=\"M0,0Z\" style=\"vector-effect: none; opacity: 1; stroke-width: 0px; fill: rgb(99, 110, 250); fill-opacity: 1;\"/></g><g class=\"point\"><path d=\"M230.73,320V319.69H232.36V320Z\" style=\"vector-effect: none; opacity: 1; stroke-width: 0px; fill: rgb(99, 110, 250); fill-opacity: 1;\"/></g><g class=\"point\"><path d=\"M232.36,320V319.79H234V320Z\" style=\"vector-effect: none; opacity: 1; stroke-width: 0px; fill: rgb(99, 110, 250); fill-opacity: 1;\"/></g><g class=\"point\"><path d=\"M234,320V318.76H235.64V320Z\" style=\"vector-effect: none; opacity: 1; stroke-width: 0px; fill: rgb(99, 110, 250); fill-opacity: 1;\"/></g><g class=\"point\"><path d=\"M235.64,320V317.73H237.27V320Z\" style=\"vector-effect: none; opacity: 1; stroke-width: 0px; fill: rgb(99, 110, 250); fill-opacity: 1;\"/></g><g class=\"point\"><path d=\"M237.27,320V317.21H238.91V320Z\" style=\"vector-effect: none; opacity: 1; stroke-width: 0px; fill: rgb(99, 110, 250); fill-opacity: 1;\"/></g><g class=\"point\"><path d=\"M238.91,320V316.8H240.55V320Z\" style=\"vector-effect: none; opacity: 1; stroke-width: 0px; fill: rgb(99, 110, 250); fill-opacity: 1;\"/></g><g class=\"point\"><path d=\"M240.55,320V315.36H242.18V320Z\" style=\"vector-effect: none; opacity: 1; stroke-width: 0px; fill: rgb(99, 110, 250); fill-opacity: 1;\"/></g><g class=\"point\"><path d=\"M242.18,320V316.8H243.82V320Z\" style=\"vector-effect: none; opacity: 1; stroke-width: 0px; fill: rgb(99, 110, 250); fill-opacity: 1;\"/></g><g class=\"point\"><path d=\"M243.82,320V314.94H245.45V320Z\" style=\"vector-effect: none; opacity: 1; stroke-width: 0px; fill: rgb(99, 110, 250); fill-opacity: 1;\"/></g><g class=\"point\"><path d=\"M245.45,320V310.92H247.09V320Z\" style=\"vector-effect: none; opacity: 1; stroke-width: 0px; fill: rgb(99, 110, 250); fill-opacity: 1;\"/></g><g class=\"point\"><path d=\"M247.09,320V314.53H248.73V320Z\" style=\"vector-effect: none; opacity: 1; stroke-width: 0px; fill: rgb(99, 110, 250); fill-opacity: 1;\"/></g><g class=\"point\"><path d=\"M248.73,320V311.54H250.36V320Z\" style=\"vector-effect: none; opacity: 1; stroke-width: 0px; fill: rgb(99, 110, 250); fill-opacity: 1;\"/></g><g class=\"point\"><path d=\"M250.36,320V310.51H252V320Z\" style=\"vector-effect: none; opacity: 1; stroke-width: 0px; fill: rgb(99, 110, 250); fill-opacity: 1;\"/></g><g class=\"point\"><path d=\"M252,320V309.99H253.64V320Z\" style=\"vector-effect: none; opacity: 1; stroke-width: 0px; fill: rgb(99, 110, 250); fill-opacity: 1;\"/></g><g class=\"point\"><path d=\"M253.64,320V308.55H255.27V320Z\" style=\"vector-effect: none; opacity: 1; stroke-width: 0px; fill: rgb(99, 110, 250); fill-opacity: 1;\"/></g><g class=\"point\"><path d=\"M255.27,320V308.86H256.91V320Z\" style=\"vector-effect: none; opacity: 1; stroke-width: 0px; fill: rgb(99, 110, 250); fill-opacity: 1;\"/></g><g class=\"point\"><path d=\"M256.91,320V308.34H258.55V320Z\" style=\"vector-effect: none; opacity: 1; stroke-width: 0px; fill: rgb(99, 110, 250); fill-opacity: 1;\"/></g><g class=\"point\"><path d=\"M258.55,320V309.06H260.18V320Z\" style=\"vector-effect: none; opacity: 1; stroke-width: 0px; fill: rgb(99, 110, 250); fill-opacity: 1;\"/></g><g class=\"point\"><path d=\"M260.18,320V313.29H261.82V320Z\" style=\"vector-effect: none; opacity: 1; stroke-width: 0px; fill: rgb(99, 110, 250); fill-opacity: 1;\"/></g><g class=\"point\"><path d=\"M261.82,320V314.22H263.45V320Z\" style=\"vector-effect: none; opacity: 1; stroke-width: 0px; fill: rgb(99, 110, 250); fill-opacity: 1;\"/></g><g class=\"point\"><path d=\"M263.45,320V276.14H265.09V320Z\" style=\"vector-effect: none; opacity: 1; stroke-width: 0px; fill: rgb(99, 110, 250); fill-opacity: 1;\"/></g><g class=\"point\"><path d=\"M265.09,320V288.11H266.73V320Z\" style=\"vector-effect: none; opacity: 1; stroke-width: 0px; fill: rgb(99, 110, 250); fill-opacity: 1;\"/></g><g class=\"point\"><path d=\"M266.73,320V309.27H268.36V320Z\" style=\"vector-effect: none; opacity: 1; stroke-width: 0px; fill: rgb(99, 110, 250); fill-opacity: 1;\"/></g><g class=\"point\"><path d=\"M268.36,320V300.19H270V320Z\" style=\"vector-effect: none; opacity: 1; stroke-width: 0px; fill: rgb(99, 110, 250); fill-opacity: 1;\"/></g><g class=\"point\"><path d=\"M270,320V296.47H271.64V320Z\" style=\"vector-effect: none; opacity: 1; stroke-width: 0px; fill: rgb(99, 110, 250); fill-opacity: 1;\"/></g><g class=\"point\"><path d=\"M271.64,320V286.05H273.27V320Z\" style=\"vector-effect: none; opacity: 1; stroke-width: 0px; fill: rgb(99, 110, 250); fill-opacity: 1;\"/></g><g class=\"point\"><path d=\"M273.27,320V252.1H274.91V320Z\" style=\"vector-effect: none; opacity: 1; stroke-width: 0px; fill: rgb(99, 110, 250); fill-opacity: 1;\"/></g><g class=\"point\"><path d=\"M274.91,320V233.53H276.55V320Z\" style=\"vector-effect: none; opacity: 1; stroke-width: 0px; fill: rgb(99, 110, 250); fill-opacity: 1;\"/></g><g class=\"point\"><path d=\"M276.55,320V204.84H278.18V320Z\" style=\"vector-effect: none; opacity: 1; stroke-width: 0px; fill: rgb(99, 110, 250); fill-opacity: 1;\"/></g><g class=\"point\"><path d=\"M278.18,320V172.13H279.82V320Z\" style=\"vector-effect: none; opacity: 1; stroke-width: 0px; fill: rgb(99, 110, 250); fill-opacity: 1;\"/></g><g class=\"point\"><path d=\"M279.82,320V138.49H281.45V320Z\" style=\"vector-effect: none; opacity: 1; stroke-width: 0px; fill: rgb(99, 110, 250); fill-opacity: 1;\"/></g><g class=\"point\"><path d=\"M281.45,320V123.73H283.09V320Z\" style=\"vector-effect: none; opacity: 1; stroke-width: 0px; fill: rgb(99, 110, 250); fill-opacity: 1;\"/></g><g class=\"point\"><path d=\"M283.09,320V113H284.73V320Z\" style=\"vector-effect: none; opacity: 1; stroke-width: 0px; fill: rgb(99, 110, 250); fill-opacity: 1;\"/></g><g class=\"point\"><path d=\"M284.73,320V117.44H286.36V320Z\" style=\"vector-effect: none; opacity: 1; stroke-width: 0px; fill: rgb(99, 110, 250); fill-opacity: 1;\"/></g><g class=\"point\"><path d=\"M286.36,320V57.28H288V320Z\" style=\"vector-effect: none; opacity: 1; stroke-width: 0px; fill: rgb(99, 110, 250); fill-opacity: 1;\"/></g><g class=\"point\"><path d=\"M288,320V55.93H289.64V320Z\" style=\"vector-effect: none; opacity: 1; stroke-width: 0px; fill: rgb(99, 110, 250); fill-opacity: 1;\"/></g><g class=\"point\"><path d=\"M289.64,320V82.45H291.27V320Z\" style=\"vector-effect: none; opacity: 1; stroke-width: 0px; fill: rgb(99, 110, 250); fill-opacity: 1;\"/></g><g class=\"point\"><path d=\"M291.27,320V30.03H292.91V320Z\" style=\"vector-effect: none; opacity: 1; stroke-width: 0px; fill: rgb(99, 110, 250); fill-opacity: 1;\"/></g><g class=\"point\"><path d=\"M292.91,320V77.3H294.55V320Z\" style=\"vector-effect: none; opacity: 1; stroke-width: 0px; fill: rgb(99, 110, 250); fill-opacity: 1;\"/></g><g class=\"point\"><path d=\"M294.55,320V48.4H296.18V320Z\" style=\"vector-effect: none; opacity: 1; stroke-width: 0px; fill: rgb(99, 110, 250); fill-opacity: 1;\"/></g><g class=\"point\"><path d=\"M296.18,320V68.73H297.82V320Z\" style=\"vector-effect: none; opacity: 1; stroke-width: 0px; fill: rgb(99, 110, 250); fill-opacity: 1;\"/></g><g class=\"point\"><path d=\"M297.82,320V102.58H299.45V320Z\" style=\"vector-effect: none; opacity: 1; stroke-width: 0px; fill: rgb(99, 110, 250); fill-opacity: 1;\"/></g><g class=\"point\"><path d=\"M299.45,320V132.81H301.09V320Z\" style=\"vector-effect: none; opacity: 1; stroke-width: 0px; fill: rgb(99, 110, 250); fill-opacity: 1;\"/></g><g class=\"point\"><path d=\"M301.09,320V215.78H302.73V320Z\" style=\"vector-effect: none; opacity: 1; stroke-width: 0px; fill: rgb(99, 110, 250); fill-opacity: 1;\"/></g><g class=\"point\"><path d=\"M302.73,320V250.24H304.36V320Z\" style=\"vector-effect: none; opacity: 1; stroke-width: 0px; fill: rgb(99, 110, 250); fill-opacity: 1;\"/></g><g class=\"point\"><path d=\"M304.36,320V287.39H306V320Z\" style=\"vector-effect: none; opacity: 1; stroke-width: 0px; fill: rgb(99, 110, 250); fill-opacity: 1;\"/></g><g class=\"point\"><path d=\"M306,320V294.62H307.64V320Z\" style=\"vector-effect: none; opacity: 1; stroke-width: 0px; fill: rgb(99, 110, 250); fill-opacity: 1;\"/></g><g class=\"point\"><path d=\"M307.64,320V253.24H309.27V320Z\" style=\"vector-effect: none; opacity: 1; stroke-width: 0px; fill: rgb(99, 110, 250); fill-opacity: 1;\"/></g><g class=\"point\"><path d=\"M309.27,320V237.14H310.91V320Z\" style=\"vector-effect: none; opacity: 1; stroke-width: 0px; fill: rgb(99, 110, 250); fill-opacity: 1;\"/></g><g class=\"point\"><path d=\"M310.91,320V247.04H312.55V320Z\" style=\"vector-effect: none; opacity: 1; stroke-width: 0px; fill: rgb(99, 110, 250); fill-opacity: 1;\"/></g><g class=\"point\"><path d=\"M312.55,320V232.29H314.18V320Z\" style=\"vector-effect: none; opacity: 1; stroke-width: 0px; fill: rgb(99, 110, 250); fill-opacity: 1;\"/></g><g class=\"point\"><path d=\"M314.18,320V239.72H315.82V320Z\" style=\"vector-effect: none; opacity: 1; stroke-width: 0px; fill: rgb(99, 110, 250); fill-opacity: 1;\"/></g><g class=\"point\"><path d=\"M315.82,320V213.4H317.45V320Z\" style=\"vector-effect: none; opacity: 1; stroke-width: 0px; fill: rgb(99, 110, 250); fill-opacity: 1;\"/></g><g class=\"point\"><path d=\"M317.45,320V181.62H319.09V320Z\" style=\"vector-effect: none; opacity: 1; stroke-width: 0px; fill: rgb(99, 110, 250); fill-opacity: 1;\"/></g><g class=\"point\"><path d=\"M319.09,320V145.19H320.73V320Z\" style=\"vector-effect: none; opacity: 1; stroke-width: 0px; fill: rgb(99, 110, 250); fill-opacity: 1;\"/></g><g class=\"point\"><path d=\"M320.73,320V117.02H322.36V320Z\" style=\"vector-effect: none; opacity: 1; stroke-width: 0px; fill: rgb(99, 110, 250); fill-opacity: 1;\"/></g><g class=\"point\"><path d=\"M322.36,320V93.81H324V320Z\" style=\"vector-effect: none; opacity: 1; stroke-width: 0px; fill: rgb(99, 110, 250); fill-opacity: 1;\"/></g><g class=\"point\"><path d=\"M324,320V108.56H325.64V320Z\" style=\"vector-effect: none; opacity: 1; stroke-width: 0px; fill: rgb(99, 110, 250); fill-opacity: 1;\"/></g><g class=\"point\"><path d=\"M325.64,320V82.97H327.27V320Z\" style=\"vector-effect: none; opacity: 1; stroke-width: 0px; fill: rgb(99, 110, 250); fill-opacity: 1;\"/></g><g class=\"point\"><path d=\"M327.27,320V126.31H328.91V320Z\" style=\"vector-effect: none; opacity: 1; stroke-width: 0px; fill: rgb(99, 110, 250); fill-opacity: 1;\"/></g><g class=\"point\"><path d=\"M328.91,320V76.78H330.55V320Z\" style=\"vector-effect: none; opacity: 1; stroke-width: 0px; fill: rgb(99, 110, 250); fill-opacity: 1;\"/></g><g class=\"point\"><path d=\"M330.55,320V74.72H332.18V320Z\" style=\"vector-effect: none; opacity: 1; stroke-width: 0px; fill: rgb(99, 110, 250); fill-opacity: 1;\"/></g><g class=\"point\"><path d=\"M332.18,320V58.51H333.82V320Z\" style=\"vector-effect: none; opacity: 1; stroke-width: 0px; fill: rgb(99, 110, 250); fill-opacity: 1;\"/></g><g class=\"point\"><path d=\"M333.82,320V84.21H335.45V320Z\" style=\"vector-effect: none; opacity: 1; stroke-width: 0px; fill: rgb(99, 110, 250); fill-opacity: 1;\"/></g><g class=\"point\"><path d=\"M335.45,320V126.62H337.09V320Z\" style=\"vector-effect: none; opacity: 1; stroke-width: 0px; fill: rgb(99, 110, 250); fill-opacity: 1;\"/></g><g class=\"point\"><path d=\"M337.09,320V143.13H338.73V320Z\" style=\"vector-effect: none; opacity: 1; stroke-width: 0px; fill: rgb(99, 110, 250); fill-opacity: 1;\"/></g><g class=\"point\"><path d=\"M338.73,320V140.76H340.36V320Z\" style=\"vector-effect: none; opacity: 1; stroke-width: 0px; fill: rgb(99, 110, 250); fill-opacity: 1;\"/></g><g class=\"point\"><path d=\"M340.36,320V186.16H342V320Z\" style=\"vector-effect: none; opacity: 1; stroke-width: 0px; fill: rgb(99, 110, 250); fill-opacity: 1;\"/></g><g class=\"point\"><path d=\"M342,320V244.88H343.64V320Z\" style=\"vector-effect: none; opacity: 1; stroke-width: 0px; fill: rgb(99, 110, 250); fill-opacity: 1;\"/></g><g class=\"point\"><path d=\"M343.64,320V291.73H345.27V320Z\" style=\"vector-effect: none; opacity: 1; stroke-width: 0px; fill: rgb(99, 110, 250); fill-opacity: 1;\"/></g><g class=\"point\"><path d=\"M345.27,320V299.98H346.91V320Z\" style=\"vector-effect: none; opacity: 1; stroke-width: 0px; fill: rgb(99, 110, 250); fill-opacity: 1;\"/></g><g class=\"point\"><path d=\"M346.91,320V311.64H348.55V320Z\" style=\"vector-effect: none; opacity: 1; stroke-width: 0px; fill: rgb(99, 110, 250); fill-opacity: 1;\"/></g><g class=\"point\"><path d=\"M348.55,320V302.25H350.18V320Z\" style=\"vector-effect: none; opacity: 1; stroke-width: 0px; fill: rgb(99, 110, 250); fill-opacity: 1;\"/></g><g class=\"point\"><path d=\"M350.18,320V272.22H351.82V320Z\" style=\"vector-effect: none; opacity: 1; stroke-width: 0px; fill: rgb(99, 110, 250); fill-opacity: 1;\"/></g><g class=\"point\"><path d=\"M351.82,320V276.45H353.45V320Z\" style=\"vector-effect: none; opacity: 1; stroke-width: 0px; fill: rgb(99, 110, 250); fill-opacity: 1;\"/></g><g class=\"point\"><path d=\"M353.45,320V254.99H355.09V320Z\" style=\"vector-effect: none; opacity: 1; stroke-width: 0px; fill: rgb(99, 110, 250); fill-opacity: 1;\"/></g><g class=\"point\"><path d=\"M355.09,320V213.61H356.73V320Z\" style=\"vector-effect: none; opacity: 1; stroke-width: 0px; fill: rgb(99, 110, 250); fill-opacity: 1;\"/></g><g class=\"point\"><path d=\"M356.73,320V179.25H358.36V320Z\" style=\"vector-effect: none; opacity: 1; stroke-width: 0px; fill: rgb(99, 110, 250); fill-opacity: 1;\"/></g><g class=\"point\"><path d=\"M358.36,320V149.74H360V320Z\" style=\"vector-effect: none; opacity: 1; stroke-width: 0px; fill: rgb(99, 110, 250); fill-opacity: 1;\"/></g><g class=\"point\"><path d=\"M360,320V114.24H361.64V320Z\" style=\"vector-effect: none; opacity: 1; stroke-width: 0px; fill: rgb(99, 110, 250); fill-opacity: 1;\"/></g><g class=\"point\"><path d=\"M361.64,320V68.63H363.27V320Z\" style=\"vector-effect: none; opacity: 1; stroke-width: 0px; fill: rgb(99, 110, 250); fill-opacity: 1;\"/></g><g class=\"point\"><path d=\"M363.27,320V113H364.91V320Z\" style=\"vector-effect: none; opacity: 1; stroke-width: 0px; fill: rgb(99, 110, 250); fill-opacity: 1;\"/></g><g class=\"point\"><path d=\"M364.91,320V19.92H366.55V320Z\" style=\"vector-effect: none; opacity: 1; stroke-width: 0px; fill: rgb(99, 110, 250); fill-opacity: 1;\"/></g><g class=\"point\"><path d=\"M366.55,320V89.68H368.18V320Z\" style=\"vector-effect: none; opacity: 1; stroke-width: 0px; fill: rgb(99, 110, 250); fill-opacity: 1;\"/></g><g class=\"point\"><path d=\"M368.18,320V109.59H369.82V320Z\" style=\"vector-effect: none; opacity: 1; stroke-width: 0px; fill: rgb(99, 110, 250); fill-opacity: 1;\"/></g><g class=\"point\"><path d=\"M369.82,320V44.07H371.45V320Z\" style=\"vector-effect: none; opacity: 1; stroke-width: 0px; fill: rgb(99, 110, 250); fill-opacity: 1;\"/></g><g class=\"point\"><path d=\"M371.45,320V89.99H373.09V320Z\" style=\"vector-effect: none; opacity: 1; stroke-width: 0px; fill: rgb(99, 110, 250); fill-opacity: 1;\"/></g><g class=\"point\"><path d=\"M373.09,320V92.98H374.73V320Z\" style=\"vector-effect: none; opacity: 1; stroke-width: 0px; fill: rgb(99, 110, 250); fill-opacity: 1;\"/></g><g class=\"point\"><path d=\"M374.73,320V112.48H376.36V320Z\" style=\"vector-effect: none; opacity: 1; stroke-width: 0px; fill: rgb(99, 110, 250); fill-opacity: 1;\"/></g><g class=\"point\"><path d=\"M376.36,320V146.95H378V320Z\" style=\"vector-effect: none; opacity: 1; stroke-width: 0px; fill: rgb(99, 110, 250); fill-opacity: 1;\"/></g><g class=\"point\"><path d=\"M378,320V166.25H379.64V320Z\" style=\"vector-effect: none; opacity: 1; stroke-width: 0px; fill: rgb(99, 110, 250); fill-opacity: 1;\"/></g><g class=\"point\"><path d=\"M379.64,320V241.06H381.27V320Z\" style=\"vector-effect: none; opacity: 1; stroke-width: 0px; fill: rgb(99, 110, 250); fill-opacity: 1;\"/></g><g class=\"point\"><path d=\"M381.27,320V267.27H382.91V320Z\" style=\"vector-effect: none; opacity: 1; stroke-width: 0px; fill: rgb(99, 110, 250); fill-opacity: 1;\"/></g><g class=\"point\"><path d=\"M382.91,320V293.27H384.55V320Z\" style=\"vector-effect: none; opacity: 1; stroke-width: 0px; fill: rgb(99, 110, 250); fill-opacity: 1;\"/></g><g class=\"point\"><path d=\"M384.55,320V308.96H386.18V320Z\" style=\"vector-effect: none; opacity: 1; stroke-width: 0px; fill: rgb(99, 110, 250); fill-opacity: 1;\"/></g><g class=\"point\"><path d=\"M386.18,320V307.72H387.82V320Z\" style=\"vector-effect: none; opacity: 1; stroke-width: 0px; fill: rgb(99, 110, 250); fill-opacity: 1;\"/></g><g class=\"point\"><path d=\"M387.82,320V298.64H389.45V320Z\" style=\"vector-effect: none; opacity: 1; stroke-width: 0px; fill: rgb(99, 110, 250); fill-opacity: 1;\"/></g><g class=\"point\"><path d=\"M389.45,320V295.75H391.09V320Z\" style=\"vector-effect: none; opacity: 1; stroke-width: 0px; fill: rgb(99, 110, 250); fill-opacity: 1;\"/></g><g class=\"point\"><path d=\"M391.09,320V271.09H392.73V320Z\" style=\"vector-effect: none; opacity: 1; stroke-width: 0px; fill: rgb(99, 110, 250); fill-opacity: 1;\"/></g><g class=\"point\"><path d=\"M392.73,320V249.42H394.36V320Z\" style=\"vector-effect: none; opacity: 1; stroke-width: 0px; fill: rgb(99, 110, 250); fill-opacity: 1;\"/></g><g class=\"point\"><path d=\"M394.36,320V211.24H396V320Z\" style=\"vector-effect: none; opacity: 1; stroke-width: 0px; fill: rgb(99, 110, 250); fill-opacity: 1;\"/></g><g class=\"point\"><path d=\"M396,320V179.97H397.64V320Z\" style=\"vector-effect: none; opacity: 1; stroke-width: 0px; fill: rgb(99, 110, 250); fill-opacity: 1;\"/></g><g class=\"point\"><path d=\"M397.64,320V157.89H399.27V320Z\" style=\"vector-effect: none; opacity: 1; stroke-width: 0px; fill: rgb(99, 110, 250); fill-opacity: 1;\"/></g><g class=\"point\"><path d=\"M399.27,320V130.03H400.91V320Z\" style=\"vector-effect: none; opacity: 1; stroke-width: 0px; fill: rgb(99, 110, 250); fill-opacity: 1;\"/></g><g class=\"point\"><path d=\"M400.91,320V114.24H402.55V320Z\" style=\"vector-effect: none; opacity: 1; stroke-width: 0px; fill: rgb(99, 110, 250); fill-opacity: 1;\"/></g><g class=\"point\"><path d=\"M402.55,320V62.64H404.18V320Z\" style=\"vector-effect: none; opacity: 1; stroke-width: 0px; fill: rgb(99, 110, 250); fill-opacity: 1;\"/></g><g class=\"point\"><path d=\"M404.18,320V63.05H405.82V320Z\" style=\"vector-effect: none; opacity: 1; stroke-width: 0px; fill: rgb(99, 110, 250); fill-opacity: 1;\"/></g><g class=\"point\"><path d=\"M405.82,320V75.64H407.45V320Z\" style=\"vector-effect: none; opacity: 1; stroke-width: 0px; fill: rgb(99, 110, 250); fill-opacity: 1;\"/></g><g class=\"point\"><path d=\"M407.45,320V100.62H409.09V320Z\" style=\"vector-effect: none; opacity: 1; stroke-width: 0px; fill: rgb(99, 110, 250); fill-opacity: 1;\"/></g><g class=\"point\"><path d=\"M409.09,320V112.9H410.73V320Z\" style=\"vector-effect: none; opacity: 1; stroke-width: 0px; fill: rgb(99, 110, 250); fill-opacity: 1;\"/></g><g class=\"point\"><path d=\"M410.73,320V65.22H412.36V320Z\" style=\"vector-effect: none; opacity: 1; stroke-width: 0px; fill: rgb(99, 110, 250); fill-opacity: 1;\"/></g><g class=\"point\"><path d=\"M412.36,320V95.77H414V320Z\" style=\"vector-effect: none; opacity: 1; stroke-width: 0px; fill: rgb(99, 110, 250); fill-opacity: 1;\"/></g><g class=\"point\"><path d=\"M414,320V96.9H415.64V320Z\" style=\"vector-effect: none; opacity: 1; stroke-width: 0px; fill: rgb(99, 110, 250); fill-opacity: 1;\"/></g><g class=\"point\"><path d=\"M415.64,320V143.03H417.27V320Z\" style=\"vector-effect: none; opacity: 1; stroke-width: 0px; fill: rgb(99, 110, 250); fill-opacity: 1;\"/></g><g class=\"point\"><path d=\"M417.27,320V183.38H418.91V320Z\" style=\"vector-effect: none; opacity: 1; stroke-width: 0px; fill: rgb(99, 110, 250); fill-opacity: 1;\"/></g><g class=\"point\"><path d=\"M418.91,320V226.3H420.55V320Z\" style=\"vector-effect: none; opacity: 1; stroke-width: 0px; fill: rgb(99, 110, 250); fill-opacity: 1;\"/></g><g class=\"point\"><path d=\"M420.55,320V253.44H422.18V320Z\" style=\"vector-effect: none; opacity: 1; stroke-width: 0px; fill: rgb(99, 110, 250); fill-opacity: 1;\"/></g><g class=\"point\"><path d=\"M422.18,320V274.8H423.82V320Z\" style=\"vector-effect: none; opacity: 1; stroke-width: 0px; fill: rgb(99, 110, 250); fill-opacity: 1;\"/></g><g class=\"point\"><path d=\"M423.82,320V301.63H425.45V320Z\" style=\"vector-effect: none; opacity: 1; stroke-width: 0px; fill: rgb(99, 110, 250); fill-opacity: 1;\"/></g><g class=\"point\"><path d=\"M425.45,320V302.04H427.09V320Z\" style=\"vector-effect: none; opacity: 1; stroke-width: 0px; fill: rgb(99, 110, 250); fill-opacity: 1;\"/></g><g class=\"point\"><path d=\"M427.09,320V303.59H428.73V320Z\" style=\"vector-effect: none; opacity: 1; stroke-width: 0px; fill: rgb(99, 110, 250); fill-opacity: 1;\"/></g><g class=\"point\"><path d=\"M428.73,320V286.05H430.36V320Z\" style=\"vector-effect: none; opacity: 1; stroke-width: 0px; fill: rgb(99, 110, 250); fill-opacity: 1;\"/></g><g class=\"point\"><path d=\"M430.36,320V264.59H432V320Z\" style=\"vector-effect: none; opacity: 1; stroke-width: 0px; fill: rgb(99, 110, 250); fill-opacity: 1;\"/></g><g class=\"point\"><path d=\"M432,320V229.09H433.64V320Z\" style=\"vector-effect: none; opacity: 1; stroke-width: 0px; fill: rgb(99, 110, 250); fill-opacity: 1;\"/></g><g class=\"point\"><path d=\"M433.64,320V183.17H435.27V320Z\" style=\"vector-effect: none; opacity: 1; stroke-width: 0px; fill: rgb(99, 110, 250); fill-opacity: 1;\"/></g><g class=\"point\"><path d=\"M435.27,320V164.49H436.91V320Z\" style=\"vector-effect: none; opacity: 1; stroke-width: 0px; fill: rgb(99, 110, 250); fill-opacity: 1;\"/></g><g class=\"point\"><path d=\"M436.91,320V167.07H438.55V320Z\" style=\"vector-effect: none; opacity: 1; stroke-width: 0px; fill: rgb(99, 110, 250); fill-opacity: 1;\"/></g><g class=\"point\"><path d=\"M438.55,320V119.4H440.18V320Z\" style=\"vector-effect: none; opacity: 1; stroke-width: 0px; fill: rgb(99, 110, 250); fill-opacity: 1;\"/></g><g class=\"point\"><path d=\"M440.18,320V114.34H441.82V320Z\" style=\"vector-effect: none; opacity: 1; stroke-width: 0px; fill: rgb(99, 110, 250); fill-opacity: 1;\"/></g><g class=\"point\"><path d=\"M441.82,320V73.48H443.45V320Z\" style=\"vector-effect: none; opacity: 1; stroke-width: 0px; fill: rgb(99, 110, 250); fill-opacity: 1;\"/></g><g class=\"point\"><path d=\"M443.45,320V100.62H445.09V320Z\" style=\"vector-effect: none; opacity: 1; stroke-width: 0px; fill: rgb(99, 110, 250); fill-opacity: 1;\"/></g><g class=\"point\"><path d=\"M445.09,320V99.38H446.73V320Z\" style=\"vector-effect: none; opacity: 1; stroke-width: 0px; fill: rgb(99, 110, 250); fill-opacity: 1;\"/></g><g class=\"point\"><path d=\"M446.73,320V60.37H448.36V320Z\" style=\"vector-effect: none; opacity: 1; stroke-width: 0px; fill: rgb(99, 110, 250); fill-opacity: 1;\"/></g><g class=\"point\"><path d=\"M448.36,320V16H450V320Z\" style=\"vector-effect: none; opacity: 1; stroke-width: 0px; fill: rgb(99, 110, 250); fill-opacity: 1;\"/></g><g class=\"point\"><path d=\"M450,320V29.41H451.64V320Z\" style=\"vector-effect: none; opacity: 1; stroke-width: 0px; fill: rgb(99, 110, 250); fill-opacity: 1;\"/></g><g class=\"point\"><path d=\"M451.64,320V44.27H453.27V320Z\" style=\"vector-effect: none; opacity: 1; stroke-width: 0px; fill: rgb(99, 110, 250); fill-opacity: 1;\"/></g><g class=\"point\"><path d=\"M453.27,320V50.98H454.91V320Z\" style=\"vector-effect: none; opacity: 1; stroke-width: 0px; fill: rgb(99, 110, 250); fill-opacity: 1;\"/></g><g class=\"point\"><path d=\"M454.91,320V143.65H456.55V320Z\" style=\"vector-effect: none; opacity: 1; stroke-width: 0px; fill: rgb(99, 110, 250); fill-opacity: 1;\"/></g><g class=\"point\"><path d=\"M456.55,320V153.14H458.18V320Z\" style=\"vector-effect: none; opacity: 1; stroke-width: 0px; fill: rgb(99, 110, 250); fill-opacity: 1;\"/></g><g class=\"point\"><path d=\"M458.18,320V217.12H459.82V320Z\" style=\"vector-effect: none; opacity: 1; stroke-width: 0px; fill: rgb(99, 110, 250); fill-opacity: 1;\"/></g><g class=\"point\"><path d=\"M459.82,320V242.4H461.45V320Z\" style=\"vector-effect: none; opacity: 1; stroke-width: 0px; fill: rgb(99, 110, 250); fill-opacity: 1;\"/></g><g class=\"point\"><path d=\"M461.45,320V293.27H463.09V320Z\" style=\"vector-effect: none; opacity: 1; stroke-width: 0px; fill: rgb(99, 110, 250); fill-opacity: 1;\"/></g><g class=\"point\"><path d=\"M463.09,320V295.54H464.73V320Z\" style=\"vector-effect: none; opacity: 1; stroke-width: 0px; fill: rgb(99, 110, 250); fill-opacity: 1;\"/></g><g class=\"point\"><path d=\"M464.73,320V303.59H466.36V320Z\" style=\"vector-effect: none; opacity: 1; stroke-width: 0px; fill: rgb(99, 110, 250); fill-opacity: 1;\"/></g><g class=\"point\"><path d=\"M466.36,320V301.53H468V320Z\" style=\"vector-effect: none; opacity: 1; stroke-width: 0px; fill: rgb(99, 110, 250); fill-opacity: 1;\"/></g><g class=\"point\"><path d=\"M468,320V277.38H469.64V320Z\" style=\"vector-effect: none; opacity: 1; stroke-width: 0px; fill: rgb(99, 110, 250); fill-opacity: 1;\"/></g><g class=\"point\"><path d=\"M469.64,320V248.28H471.27V320Z\" style=\"vector-effect: none; opacity: 1; stroke-width: 0px; fill: rgb(99, 110, 250); fill-opacity: 1;\"/></g><g class=\"point\"><path d=\"M471.27,320V201.85H472.91V320Z\" style=\"vector-effect: none; opacity: 1; stroke-width: 0px; fill: rgb(99, 110, 250); fill-opacity: 1;\"/></g><g class=\"point\"><path d=\"M472.91,320V129.82H474.55V320Z\" style=\"vector-effect: none; opacity: 1; stroke-width: 0px; fill: rgb(99, 110, 250); fill-opacity: 1;\"/></g><g class=\"point\"><path d=\"M474.55,320V150.35H476.18V320Z\" style=\"vector-effect: none; opacity: 1; stroke-width: 0px; fill: rgb(99, 110, 250); fill-opacity: 1;\"/></g><g class=\"point\"><path d=\"M476.18,320V146.74H477.82V320Z\" style=\"vector-effect: none; opacity: 1; stroke-width: 0px; fill: rgb(99, 110, 250); fill-opacity: 1;\"/></g><g class=\"point\"><path d=\"M477.82,320V128.58H479.45V320Z\" style=\"vector-effect: none; opacity: 1; stroke-width: 0px; fill: rgb(99, 110, 250); fill-opacity: 1;\"/></g><g class=\"point\"><path d=\"M479.45,320V109.18H481.09V320Z\" style=\"vector-effect: none; opacity: 1; stroke-width: 0px; fill: rgb(99, 110, 250); fill-opacity: 1;\"/></g><g class=\"point\"><path d=\"M481.09,320V131.47H482.73V320Z\" style=\"vector-effect: none; opacity: 1; stroke-width: 0px; fill: rgb(99, 110, 250); fill-opacity: 1;\"/></g><g class=\"point\"><path d=\"M482.73,320V105.67H484.36V320Z\" style=\"vector-effect: none; opacity: 1; stroke-width: 0px; fill: rgb(99, 110, 250); fill-opacity: 1;\"/></g><g class=\"point\"><path d=\"M484.36,320V131.78H486V320Z\" style=\"vector-effect: none; opacity: 1; stroke-width: 0px; fill: rgb(99, 110, 250); fill-opacity: 1;\"/></g><g class=\"point\"><path d=\"M486,320V84.52H487.64V320Z\" style=\"vector-effect: none; opacity: 1; stroke-width: 0px; fill: rgb(99, 110, 250); fill-opacity: 1;\"/></g><g class=\"point\"><path d=\"M487.64,320V37.67H489.27V320Z\" style=\"vector-effect: none; opacity: 1; stroke-width: 0px; fill: rgb(99, 110, 250); fill-opacity: 1;\"/></g><g class=\"point\"><path d=\"M489.27,320V37.05H490.91V320Z\" style=\"vector-effect: none; opacity: 1; stroke-width: 0px; fill: rgb(99, 110, 250); fill-opacity: 1;\"/></g><g class=\"point\"><path d=\"M490.91,320V65.63H492.55V320Z\" style=\"vector-effect: none; opacity: 1; stroke-width: 0px; fill: rgb(99, 110, 250); fill-opacity: 1;\"/></g><g class=\"point\"><path d=\"M492.55,320V69.97H494.18V320Z\" style=\"vector-effect: none; opacity: 1; stroke-width: 0px; fill: rgb(99, 110, 250); fill-opacity: 1;\"/></g><g class=\"point\"><path d=\"M494.18,320V86.58H495.82V320Z\" style=\"vector-effect: none; opacity: 1; stroke-width: 0px; fill: rgb(99, 110, 250); fill-opacity: 1;\"/></g><g class=\"point\"><path d=\"M495.82,320V147.26H497.45V320Z\" style=\"vector-effect: none; opacity: 1; stroke-width: 0px; fill: rgb(99, 110, 250); fill-opacity: 1;\"/></g><g class=\"point\"><path d=\"M497.45,320V207.01H499.09V320Z\" style=\"vector-effect: none; opacity: 1; stroke-width: 0px; fill: rgb(99, 110, 250); fill-opacity: 1;\"/></g><g class=\"point\"><path d=\"M499.09,320V275.73H500.73V320Z\" style=\"vector-effect: none; opacity: 1; stroke-width: 0px; fill: rgb(99, 110, 250); fill-opacity: 1;\"/></g><g class=\"point\"><path d=\"M500.73,320V298.95H502.36V320Z\" style=\"vector-effect: none; opacity: 1; stroke-width: 0px; fill: rgb(99, 110, 250); fill-opacity: 1;\"/></g><g class=\"point\"><path d=\"M502.36,320V306.89H504V320Z\" style=\"vector-effect: none; opacity: 1; stroke-width: 0px; fill: rgb(99, 110, 250); fill-opacity: 1;\"/></g><g class=\"point\"><path d=\"M504,320V308.13H505.64V320Z\" style=\"vector-effect: none; opacity: 1; stroke-width: 0px; fill: rgb(99, 110, 250); fill-opacity: 1;\"/></g><g class=\"point\"><path d=\"M505.64,320V295.65H507.27V320Z\" style=\"vector-effect: none; opacity: 1; stroke-width: 0px; fill: rgb(99, 110, 250); fill-opacity: 1;\"/></g><g class=\"point\"><path d=\"M507.27,320V288.42H508.91V320Z\" style=\"vector-effect: none; opacity: 1; stroke-width: 0px; fill: rgb(99, 110, 250); fill-opacity: 1;\"/></g><g class=\"point\"><path d=\"M508.91,320V248.08H510.55V320Z\" style=\"vector-effect: none; opacity: 1; stroke-width: 0px; fill: rgb(99, 110, 250); fill-opacity: 1;\"/></g><g class=\"point\"><path d=\"M510.55,320V199.06H512.18V320Z\" style=\"vector-effect: none; opacity: 1; stroke-width: 0px; fill: rgb(99, 110, 250); fill-opacity: 1;\"/></g><g class=\"point\"><path d=\"M512.18,320V206.49H513.82V320Z\" style=\"vector-effect: none; opacity: 1; stroke-width: 0px; fill: rgb(99, 110, 250); fill-opacity: 1;\"/></g><g class=\"point\"><path d=\"M513.82,320V175.02H515.45V320Z\" style=\"vector-effect: none; opacity: 1; stroke-width: 0px; fill: rgb(99, 110, 250); fill-opacity: 1;\"/></g><g class=\"point\"><path d=\"M515.45,320V173.99H517.09V320Z\" style=\"vector-effect: none; opacity: 1; stroke-width: 0px; fill: rgb(99, 110, 250); fill-opacity: 1;\"/></g><g class=\"point\"><path d=\"M517.09,320V157.58H518.73V320Z\" style=\"vector-effect: none; opacity: 1; stroke-width: 0px; fill: rgb(99, 110, 250); fill-opacity: 1;\"/></g><g class=\"point\"><path d=\"M518.73,320V112.07H520.36V320Z\" style=\"vector-effect: none; opacity: 1; stroke-width: 0px; fill: rgb(99, 110, 250); fill-opacity: 1;\"/></g><g class=\"point\"><path d=\"M520.36,320V148.6H522V320Z\" style=\"vector-effect: none; opacity: 1; stroke-width: 0px; fill: rgb(99, 110, 250); fill-opacity: 1;\"/></g><g class=\"point\"><path d=\"M522,320V128.79H523.64V320Z\" style=\"vector-effect: none; opacity: 1; stroke-width: 0px; fill: rgb(99, 110, 250); fill-opacity: 1;\"/></g><g class=\"point\"><path d=\"M523.64,320V123.83H525.27V320Z\" style=\"vector-effect: none; opacity: 1; stroke-width: 0px; fill: rgb(99, 110, 250); fill-opacity: 1;\"/></g><g class=\"point\"><path d=\"M525.27,320V116.2H526.91V320Z\" style=\"vector-effect: none; opacity: 1; stroke-width: 0px; fill: rgb(99, 110, 250); fill-opacity: 1;\"/></g><g class=\"point\"><path d=\"M526.91,320V70.69H528.55V320Z\" style=\"vector-effect: none; opacity: 1; stroke-width: 0px; fill: rgb(99, 110, 250); fill-opacity: 1;\"/></g><g class=\"point\"><path d=\"M528.55,320V33.13H530.18V320Z\" style=\"vector-effect: none; opacity: 1; stroke-width: 0px; fill: rgb(99, 110, 250); fill-opacity: 1;\"/></g><g class=\"point\"><path d=\"M530.18,320V71.93H531.82V320Z\" style=\"vector-effect: none; opacity: 1; stroke-width: 0px; fill: rgb(99, 110, 250); fill-opacity: 1;\"/></g><g class=\"point\"><path d=\"M531.82,320V123.11H533.45V320Z\" style=\"vector-effect: none; opacity: 1; stroke-width: 0px; fill: rgb(99, 110, 250); fill-opacity: 1;\"/></g><g class=\"point\"><path d=\"M533.45,320V146.64H535.09V320Z\" style=\"vector-effect: none; opacity: 1; stroke-width: 0px; fill: rgb(99, 110, 250); fill-opacity: 1;\"/></g><g class=\"point\"><path d=\"M535.09,320V163.77H536.73V320Z\" style=\"vector-effect: none; opacity: 1; stroke-width: 0px; fill: rgb(99, 110, 250); fill-opacity: 1;\"/></g><g class=\"point\"><path d=\"M536.73,320V222.07H538.36V320Z\" style=\"vector-effect: none; opacity: 1; stroke-width: 0px; fill: rgb(99, 110, 250); fill-opacity: 1;\"/></g><g class=\"point\"><path d=\"M538.36,320V312.98H540V320Z\" style=\"vector-effect: none; opacity: 1; stroke-width: 0px; fill: rgb(99, 110, 250); fill-opacity: 1;\"/></g></g></g></g></g><g class=\"overplot\"/><path class=\"xlines-above crisp\" d=\"M0,0\" style=\"fill: none;\"/><path class=\"ylines-above crisp\" d=\"M0,0\" style=\"fill: none;\"/><g class=\"overlines-above\"/><g class=\"xaxislayer-above\"><g class=\"xtick\"><text text-anchor=\"middle\" x=\"0\" y=\"433\" transform=\"translate(147.09,0)\" style=\"font-family: 'Open Sans', verdana, arial, sans-serif; font-size: 12px; fill: rgb(42, 63, 95); fill-opacity: 1; white-space: pre; opacity: 1;\"><tspan class=\"line\" dy=\"0em\" x=\"0\" y=\"433\">Jul 27</tspan><tspan class=\"line\" dy=\"1.3em\" x=\"0\" y=\"433\">2019</tspan></text></g><g class=\"xtick\"><text text-anchor=\"middle\" x=\"0\" y=\"433\" style=\"font-family: 'Open Sans', verdana, arial, sans-serif; font-size: 12px; fill: rgb(42, 63, 95); fill-opacity: 1; white-space: pre; opacity: 1;\" transform=\"translate(225.64,0)\">Jul 29</text></g><g class=\"xtick\"><text text-anchor=\"middle\" x=\"0\" y=\"433\" style=\"font-family: 'Open Sans', verdana, arial, sans-serif; font-size: 12px; fill: rgb(42, 63, 95); fill-opacity: 1; white-space: pre; opacity: 1;\" transform=\"translate(304.18,0)\">Jul 31</text></g><g class=\"xtick\"><text text-anchor=\"middle\" x=\"0\" y=\"433\" style=\"font-family: 'Open Sans', verdana, arial, sans-serif; font-size: 12px; fill: rgb(42, 63, 95); fill-opacity: 1; white-space: pre; opacity: 1;\" transform=\"translate(382.73,0)\">Aug 2</text></g><g class=\"xtick\"><text text-anchor=\"middle\" x=\"0\" y=\"433\" style=\"font-family: 'Open Sans', verdana, arial, sans-serif; font-size: 12px; fill: rgb(42, 63, 95); fill-opacity: 1; white-space: pre; opacity: 1;\" transform=\"translate(461.27,0)\">Aug 4</text></g><g class=\"xtick\"><text text-anchor=\"middle\" x=\"0\" y=\"433\" style=\"font-family: 'Open Sans', verdana, arial, sans-serif; font-size: 12px; fill: rgb(42, 63, 95); fill-opacity: 1; white-space: pre; opacity: 1;\" transform=\"translate(539.8199999999999,0)\">Aug 6</text></g><g class=\"xtick\"><text text-anchor=\"middle\" x=\"0\" y=\"433\" style=\"font-family: 'Open Sans', verdana, arial, sans-serif; font-size: 12px; fill: rgb(42, 63, 95); fill-opacity: 1; white-space: pre; opacity: 1;\" transform=\"translate(618.36,0)\">Aug 8</text></g></g><g class=\"yaxislayer-above\"><g class=\"ytick\"><text text-anchor=\"end\" x=\"79\" y=\"4.199999999999999\" transform=\"translate(0,420)\" style=\"font-family: 'Open Sans', verdana, arial, sans-serif; font-size: 12px; fill: rgb(42, 63, 95); fill-opacity: 1; white-space: pre; opacity: 1;\">0</text></g><g class=\"ytick\"><text text-anchor=\"end\" x=\"79\" y=\"4.199999999999999\" style=\"font-family: 'Open Sans', verdana, arial, sans-serif; font-size: 12px; fill: rgb(42, 63, 95); fill-opacity: 1; white-space: pre; opacity: 1;\" transform=\"translate(0,368.4)\">500</text></g><g class=\"ytick\"><text text-anchor=\"end\" x=\"79\" y=\"4.199999999999999\" style=\"font-family: 'Open Sans', verdana, arial, sans-serif; font-size: 12px; fill: rgb(42, 63, 95); fill-opacity: 1; white-space: pre; opacity: 1;\" transform=\"translate(0,316.81)\">1000</text></g><g class=\"ytick\"><text text-anchor=\"end\" x=\"79\" y=\"4.199999999999999\" style=\"font-family: 'Open Sans', verdana, arial, sans-serif; font-size: 12px; fill: rgb(42, 63, 95); fill-opacity: 1; white-space: pre; opacity: 1;\" transform=\"translate(0,265.21000000000004)\">1500</text></g><g class=\"ytick\"><text text-anchor=\"end\" x=\"79\" y=\"4.199999999999999\" style=\"font-family: 'Open Sans', verdana, arial, sans-serif; font-size: 12px; fill: rgb(42, 63, 95); fill-opacity: 1; white-space: pre; opacity: 1;\" transform=\"translate(0,213.62)\">2000</text></g><g class=\"ytick\"><text text-anchor=\"end\" x=\"79\" y=\"4.199999999999999\" style=\"font-family: 'Open Sans', verdana, arial, sans-serif; font-size: 12px; fill: rgb(42, 63, 95); fill-opacity: 1; white-space: pre; opacity: 1;\" transform=\"translate(0,162.02)\">2500</text></g><g class=\"ytick\"><text text-anchor=\"end\" x=\"79\" y=\"4.199999999999999\" style=\"font-family: 'Open Sans', verdana, arial, sans-serif; font-size: 12px; fill: rgb(42, 63, 95); fill-opacity: 1; white-space: pre; opacity: 1;\" transform=\"translate(0,110.43)\">3000</text></g></g><g class=\"overaxes-above\"/></g></g><g class=\"polarlayer\"/><g class=\"smithlayer\"/><g class=\"ternarylayer\"/><g class=\"geolayer\"/><g class=\"funnelarealayer\"/><g class=\"pielayer\"/><g class=\"iciclelayer\"/><g class=\"treemaplayer\"/><g class=\"sunburstlayer\"/><g class=\"glimages\"/><defs id=\"topdefs-61e693\"><g class=\"clips\"/></defs><g class=\"layer-above\"><g class=\"imagelayer\"/><g class=\"shapelayer\"/></g><g class=\"infolayer\"><g class=\"g-gtitle\"><text class=\"gtitle\" x=\"35\" y=\"50\" text-anchor=\"start\" dy=\"0em\" style=\"font-family: 'Open Sans', verdana, arial, sans-serif; font-size: 17px; fill: rgb(42, 63, 95); opacity: 1; font-weight: normal; white-space: pre;\">Distribution by date</text></g><g class=\"g-xtitle\"><text class=\"xtitle\" x=\"350\" y=\"475.909375\" text-anchor=\"middle\" style=\"font-family: 'Open Sans', verdana, arial, sans-serif; font-size: 14px; fill: rgb(42, 63, 95); opacity: 1; font-weight: normal; white-space: pre;\">Date</text></g><g class=\"g-ytitle\"><text class=\"ytitle\" transform=\"rotate(-90,24.184375000000003,260)\" x=\"24.184375000000003\" y=\"260\" text-anchor=\"middle\" style=\"font-family: 'Open Sans', verdana, arial, sans-serif; font-size: 14px; fill: rgb(42, 63, 95); opacity: 1; font-weight: normal; white-space: pre;\">count</text></g></g></svg>"
      ]
     },
     "metadata": {},
     "output_type": "display_data"
    }
   ],
   "source": [
    "fig = px.histogram(data, x = 'event_timestamp', \n",
    "                   title = 'Distribution by date', \n",
    "                   labels ={'event_timestamp': 'Date'})\n",
    "fig.show(\"svg\")"
   ]
  },
  {
   "cell_type": "markdown",
   "metadata": {},
   "source": [
    "Ok, we see that, apparently, the test begins in the evening of 31st July, as we can note the kind of peak on graph. So, let's assume that the data starts to be complete from the beginning of 1st August. "
   ]
  },
  {
   "cell_type": "code",
   "execution_count": 16,
   "metadata": {},
   "outputs": [
    {
     "data": {
      "text/html": [
       "<div>\n",
       "<style scoped>\n",
       "    .dataframe tbody tr th:only-of-type {\n",
       "        vertical-align: middle;\n",
       "    }\n",
       "\n",
       "    .dataframe tbody tr th {\n",
       "        vertical-align: top;\n",
       "    }\n",
       "\n",
       "    .dataframe thead th {\n",
       "        text-align: right;\n",
       "    }\n",
       "</style>\n",
       "<table border=\"1\" class=\"dataframe\">\n",
       "  <thead>\n",
       "    <tr style=\"text-align: right;\">\n",
       "      <th></th>\n",
       "      <th>event_name</th>\n",
       "      <th>device_id</th>\n",
       "      <th>event_timestamp</th>\n",
       "      <th>exp_id</th>\n",
       "      <th>date</th>\n",
       "    </tr>\n",
       "  </thead>\n",
       "  <tbody>\n",
       "    <tr>\n",
       "      <th>1990</th>\n",
       "      <td>MainScreenAppear</td>\n",
       "      <td>7701922487875823903</td>\n",
       "      <td>2019-08-01 00:00:57</td>\n",
       "      <td>247</td>\n",
       "      <td>2019-08-01</td>\n",
       "    </tr>\n",
       "    <tr>\n",
       "      <th>1991</th>\n",
       "      <td>MainScreenAppear</td>\n",
       "      <td>2539077412200498909</td>\n",
       "      <td>2019-08-01 00:01:45</td>\n",
       "      <td>247</td>\n",
       "      <td>2019-08-01</td>\n",
       "    </tr>\n",
       "    <tr>\n",
       "      <th>1992</th>\n",
       "      <td>OffersScreenAppear</td>\n",
       "      <td>3286987355161301427</td>\n",
       "      <td>2019-08-01 00:02:21</td>\n",
       "      <td>248</td>\n",
       "      <td>2019-08-01</td>\n",
       "    </tr>\n",
       "    <tr>\n",
       "      <th>1993</th>\n",
       "      <td>OffersScreenAppear</td>\n",
       "      <td>3187166762535343300</td>\n",
       "      <td>2019-08-01 00:02:23</td>\n",
       "      <td>247</td>\n",
       "      <td>2019-08-01</td>\n",
       "    </tr>\n",
       "    <tr>\n",
       "      <th>1994</th>\n",
       "      <td>MainScreenAppear</td>\n",
       "      <td>1118952406011435924</td>\n",
       "      <td>2019-08-01 00:03:25</td>\n",
       "      <td>248</td>\n",
       "      <td>2019-08-01</td>\n",
       "    </tr>\n",
       "    <tr>\n",
       "      <th>...</th>\n",
       "      <td>...</td>\n",
       "      <td>...</td>\n",
       "      <td>...</td>\n",
       "      <td>...</td>\n",
       "      <td>...</td>\n",
       "    </tr>\n",
       "    <tr>\n",
       "      <th>244121</th>\n",
       "      <td>MainScreenAppear</td>\n",
       "      <td>4599628364049201812</td>\n",
       "      <td>2019-08-08 00:12:25</td>\n",
       "      <td>247</td>\n",
       "      <td>2019-08-08</td>\n",
       "    </tr>\n",
       "    <tr>\n",
       "      <th>244122</th>\n",
       "      <td>MainScreenAppear</td>\n",
       "      <td>5849806612437486590</td>\n",
       "      <td>2019-08-08 00:13:59</td>\n",
       "      <td>246</td>\n",
       "      <td>2019-08-08</td>\n",
       "    </tr>\n",
       "    <tr>\n",
       "      <th>244123</th>\n",
       "      <td>MainScreenAppear</td>\n",
       "      <td>5746969938801999050</td>\n",
       "      <td>2019-08-08 00:14:43</td>\n",
       "      <td>246</td>\n",
       "      <td>2019-08-08</td>\n",
       "    </tr>\n",
       "    <tr>\n",
       "      <th>244124</th>\n",
       "      <td>MainScreenAppear</td>\n",
       "      <td>5746969938801999050</td>\n",
       "      <td>2019-08-08 00:14:58</td>\n",
       "      <td>246</td>\n",
       "      <td>2019-08-08</td>\n",
       "    </tr>\n",
       "    <tr>\n",
       "      <th>244125</th>\n",
       "      <td>OffersScreenAppear</td>\n",
       "      <td>5746969938801999050</td>\n",
       "      <td>2019-08-08 00:15:17</td>\n",
       "      <td>246</td>\n",
       "      <td>2019-08-08</td>\n",
       "    </tr>\n",
       "  </tbody>\n",
       "</table>\n",
       "<p>242136 rows × 5 columns</p>\n",
       "</div>"
      ],
      "text/plain": [
       "                event_name            device_id     event_timestamp  exp_id  \\\n",
       "1990      MainScreenAppear  7701922487875823903 2019-08-01 00:00:57     247   \n",
       "1991      MainScreenAppear  2539077412200498909 2019-08-01 00:01:45     247   \n",
       "1992    OffersScreenAppear  3286987355161301427 2019-08-01 00:02:21     248   \n",
       "1993    OffersScreenAppear  3187166762535343300 2019-08-01 00:02:23     247   \n",
       "1994      MainScreenAppear  1118952406011435924 2019-08-01 00:03:25     248   \n",
       "...                    ...                  ...                 ...     ...   \n",
       "244121    MainScreenAppear  4599628364049201812 2019-08-08 00:12:25     247   \n",
       "244122    MainScreenAppear  5849806612437486590 2019-08-08 00:13:59     246   \n",
       "244123    MainScreenAppear  5746969938801999050 2019-08-08 00:14:43     246   \n",
       "244124    MainScreenAppear  5746969938801999050 2019-08-08 00:14:58     246   \n",
       "244125  OffersScreenAppear  5746969938801999050 2019-08-08 00:15:17     246   \n",
       "\n",
       "              date  \n",
       "1990    2019-08-01  \n",
       "1991    2019-08-01  \n",
       "1992    2019-08-01  \n",
       "1993    2019-08-01  \n",
       "1994    2019-08-01  \n",
       "...            ...  \n",
       "244121  2019-08-08  \n",
       "244122  2019-08-08  \n",
       "244123  2019-08-08  \n",
       "244124  2019-08-08  \n",
       "244125  2019-08-08  \n",
       "\n",
       "[242136 rows x 5 columns]"
      ]
     },
     "execution_count": 16,
     "metadata": {},
     "output_type": "execute_result"
    }
   ],
   "source": [
    "actual_data = data[data['event_timestamp'] > '2019-07-31 23:59:59']\n",
    "actual_data"
   ]
  },
  {
   "cell_type": "markdown",
   "metadata": {},
   "source": [
    "### Did you lose many events and users when excluding the older data?"
   ]
  },
  {
   "cell_type": "code",
   "execution_count": 17,
   "metadata": {},
   "outputs": [
    {
     "name": "stdout",
     "output_type": "stream",
     "text": [
      "<class 'pandas.core.frame.DataFrame'>\n",
      "Int64Index: 242136 entries, 1990 to 244125\n",
      "Data columns (total 5 columns):\n",
      " #   Column           Non-Null Count   Dtype         \n",
      "---  ------           --------------   -----         \n",
      " 0   event_name       242136 non-null  object        \n",
      " 1   device_id        242136 non-null  int64         \n",
      " 2   event_timestamp  242136 non-null  datetime64[ns]\n",
      " 3   exp_id           242136 non-null  int64         \n",
      " 4   date             242136 non-null  object        \n",
      "dtypes: datetime64[ns](1), int64(2), object(2)\n",
      "memory usage: 11.1+ MB\n"
     ]
    }
   ],
   "source": [
    "actual_data.info()"
   ]
  },
  {
   "cell_type": "markdown",
   "metadata": {},
   "source": [
    "As we could mention, there are 241298 entries after excluding compared with initial data"
   ]
  },
  {
   "cell_type": "markdown",
   "metadata": {},
   "source": [
    "### Make sure you have users from all three experimental groups."
   ]
  },
  {
   "cell_type": "code",
   "execution_count": 18,
   "metadata": {},
   "outputs": [
    {
     "data": {
      "text/plain": [
       "248    85039\n",
       "246    79679\n",
       "247    77418\n",
       "Name: exp_id, dtype: int64"
      ]
     },
     "execution_count": 18,
     "metadata": {},
     "output_type": "execute_result"
    }
   ],
   "source": [
    "actual_data['exp_id'].value_counts()"
   ]
  },
  {
   "cell_type": "markdown",
   "metadata": {},
   "source": [
    "Ok, we sure that we have users in all groups"
   ]
  },
  {
   "cell_type": "markdown",
   "metadata": {},
   "source": [
    "## Step 3. Study the event funnel"
   ]
  },
  {
   "cell_type": "markdown",
   "metadata": {},
   "source": [
    "### See what events are in the logs and their frequency of occurrence. Sort them by frequency."
   ]
  },
  {
   "cell_type": "code",
   "execution_count": 19,
   "metadata": {},
   "outputs": [
    {
     "data": {
      "text/plain": [
       "event_name\n",
       "MainScreenAppear           117992\n",
       "OffersScreenAppear          46548\n",
       "CartScreenAppear            42406\n",
       "PaymentScreenSuccessful     34146\n",
       "Tutorial                     1044\n",
       "Name: device_id, dtype: int64"
      ]
     },
     "execution_count": 19,
     "metadata": {},
     "output_type": "execute_result"
    }
   ],
   "source": [
    "actual_data.groupby('event_name')['device_id'].count().sort_values(ascending = False)"
   ]
  },
  {
   "cell_type": "markdown",
   "metadata": {},
   "source": [
    "### Find the number of users who performed each of these actions. Sort the events by the number of users. Calculate the proportion of users who performed the action at least once."
   ]
  },
  {
   "cell_type": "code",
   "execution_count": 20,
   "metadata": {},
   "outputs": [
    {
     "data": {
      "text/plain": [
       "event_name\n",
       "MainScreenAppear           7423\n",
       "OffersScreenAppear         4597\n",
       "CartScreenAppear           3736\n",
       "PaymentScreenSuccessful    3540\n",
       "Tutorial                    843\n",
       "Name: device_id, dtype: int64"
      ]
     },
     "execution_count": 20,
     "metadata": {},
     "output_type": "execute_result"
    }
   ],
   "source": [
    "actual_data.groupby('event_name')['device_id'].nunique().sort_values(ascending = False)"
   ]
  },
  {
   "cell_type": "code",
   "execution_count": 21,
   "metadata": {},
   "outputs": [
    {
     "data": {
      "text/plain": [
       "event_name\n",
       "MainScreenAppear           0.984744\n",
       "OffersScreenAppear         0.609843\n",
       "CartScreenAppear           0.495622\n",
       "PaymentScreenSuccessful    0.469621\n",
       "Tutorial                   0.111833\n",
       "Name: device_id, dtype: float64"
      ]
     },
     "execution_count": 21,
     "metadata": {},
     "output_type": "execute_result"
    }
   ],
   "source": [
    "actual_data.groupby('event_name')['device_id'].nunique().sort_values(ascending = False) / actual_data.device_id.nunique()"
   ]
  },
  {
   "cell_type": "markdown",
   "metadata": {},
   "source": [
    "Only 60% have done next stage after Main screen appearing"
   ]
  },
  {
   "cell_type": "markdown",
   "metadata": {},
   "source": [
    "### Use the event funnel to find the share of users that proceed from each stage to the next. (For instance, for the sequence of events A → B → C, calculate the ratio of users at stage B to the number of users at stage A and the ratio of users at stage C to the number at stage B.)"
   ]
  },
  {
   "cell_type": "code",
   "execution_count": 22,
   "metadata": {},
   "outputs": [
    {
     "data": {
      "text/html": [
       "<div>\n",
       "<style scoped>\n",
       "    .dataframe tbody tr th:only-of-type {\n",
       "        vertical-align: middle;\n",
       "    }\n",
       "\n",
       "    .dataframe tbody tr th {\n",
       "        vertical-align: top;\n",
       "    }\n",
       "\n",
       "    .dataframe thead th {\n",
       "        text-align: right;\n",
       "    }\n",
       "</style>\n",
       "<table border=\"1\" class=\"dataframe\">\n",
       "  <thead>\n",
       "    <tr style=\"text-align: right;\">\n",
       "      <th></th>\n",
       "      <th>event_name</th>\n",
       "      <th>device_id</th>\n",
       "    </tr>\n",
       "  </thead>\n",
       "  <tbody>\n",
       "    <tr>\n",
       "      <th>0</th>\n",
       "      <td>MainScreenAppear</td>\n",
       "      <td>7423</td>\n",
       "    </tr>\n",
       "    <tr>\n",
       "      <th>1</th>\n",
       "      <td>OffersScreenAppear</td>\n",
       "      <td>4597</td>\n",
       "    </tr>\n",
       "    <tr>\n",
       "      <th>2</th>\n",
       "      <td>CartScreenAppear</td>\n",
       "      <td>3736</td>\n",
       "    </tr>\n",
       "    <tr>\n",
       "      <th>3</th>\n",
       "      <td>PaymentScreenSuccessful</td>\n",
       "      <td>3540</td>\n",
       "    </tr>\n",
       "    <tr>\n",
       "      <th>4</th>\n",
       "      <td>Tutorial</td>\n",
       "      <td>843</td>\n",
       "    </tr>\n",
       "  </tbody>\n",
       "</table>\n",
       "</div>"
      ],
      "text/plain": [
       "                event_name  device_id\n",
       "0         MainScreenAppear       7423\n",
       "1       OffersScreenAppear       4597\n",
       "2         CartScreenAppear       3736\n",
       "3  PaymentScreenSuccessful       3540\n",
       "4                 Tutorial        843"
      ]
     },
     "execution_count": 22,
     "metadata": {},
     "output_type": "execute_result"
    }
   ],
   "source": [
    "funnel = actual_data.groupby('event_name')['device_id'].nunique().sort_values(ascending = False).reset_index()\n",
    "funnel"
   ]
  },
  {
   "cell_type": "code",
   "execution_count": 23,
   "metadata": {},
   "outputs": [
    {
     "data": {
      "text/html": [
       "<div>\n",
       "<style scoped>\n",
       "    .dataframe tbody tr th:only-of-type {\n",
       "        vertical-align: middle;\n",
       "    }\n",
       "\n",
       "    .dataframe tbody tr th {\n",
       "        vertical-align: top;\n",
       "    }\n",
       "\n",
       "    .dataframe thead th {\n",
       "        text-align: right;\n",
       "    }\n",
       "</style>\n",
       "<table border=\"1\" class=\"dataframe\">\n",
       "  <thead>\n",
       "    <tr style=\"text-align: right;\">\n",
       "      <th></th>\n",
       "      <th>event_name</th>\n",
       "      <th>device_id</th>\n",
       "      <th>per_ch</th>\n",
       "    </tr>\n",
       "  </thead>\n",
       "  <tbody>\n",
       "    <tr>\n",
       "      <th>0</th>\n",
       "      <td>MainScreenAppear</td>\n",
       "      <td>7423</td>\n",
       "      <td>NaN</td>\n",
       "    </tr>\n",
       "    <tr>\n",
       "      <th>1</th>\n",
       "      <td>OffersScreenAppear</td>\n",
       "      <td>4597</td>\n",
       "      <td>-0.380709</td>\n",
       "    </tr>\n",
       "    <tr>\n",
       "      <th>2</th>\n",
       "      <td>CartScreenAppear</td>\n",
       "      <td>3736</td>\n",
       "      <td>-0.187296</td>\n",
       "    </tr>\n",
       "    <tr>\n",
       "      <th>3</th>\n",
       "      <td>PaymentScreenSuccessful</td>\n",
       "      <td>3540</td>\n",
       "      <td>-0.052463</td>\n",
       "    </tr>\n",
       "    <tr>\n",
       "      <th>4</th>\n",
       "      <td>Tutorial</td>\n",
       "      <td>843</td>\n",
       "      <td>-0.761864</td>\n",
       "    </tr>\n",
       "  </tbody>\n",
       "</table>\n",
       "</div>"
      ],
      "text/plain": [
       "                event_name  device_id    per_ch\n",
       "0         MainScreenAppear       7423       NaN\n",
       "1       OffersScreenAppear       4597 -0.380709\n",
       "2         CartScreenAppear       3736 -0.187296\n",
       "3  PaymentScreenSuccessful       3540 -0.052463\n",
       "4                 Tutorial        843 -0.761864"
      ]
     },
     "execution_count": 23,
     "metadata": {},
     "output_type": "execute_result"
    }
   ],
   "source": [
    "funnel['per_ch'] = funnel['device_id'].pct_change()\n",
    "funnel"
   ]
  },
  {
   "cell_type": "code",
   "execution_count": 54,
   "metadata": {},
   "outputs": [
    {
     "data": {
      "image/svg+xml": [
       "<svg class=\"main-svg\" xmlns=\"http://www.w3.org/2000/svg\" xmlns:xlink=\"http://www.w3.org/1999/xlink\" width=\"700\" height=\"500\" style=\"\" viewBox=\"0 0 700 500\"><rect x=\"0\" y=\"0\" width=\"700\" height=\"500\" style=\"fill: rgb(255, 255, 255); fill-opacity: 1;\"/><defs id=\"defs-128304\"><g class=\"clips\"><clipPath id=\"clip128304xyplot\" class=\"plotclip\"><rect width=\"450\" height=\"320\"/></clipPath><clipPath class=\"axesclip\" id=\"clip128304x\"><rect x=\"170\" y=\"0\" width=\"450\" height=\"500\"/></clipPath><clipPath class=\"axesclip\" id=\"clip128304y\"><rect x=\"0\" y=\"100\" width=\"700\" height=\"320\"/></clipPath><clipPath class=\"axesclip\" id=\"clip128304xy\"><rect x=\"170\" y=\"100\" width=\"450\" height=\"320\"/></clipPath></g><g class=\"gradients\"/><g class=\"patterns\"/></defs><g class=\"bglayer\"><rect class=\"bg\" x=\"170\" y=\"100\" width=\"450\" height=\"320\" style=\"fill: rgb(229, 236, 246); fill-opacity: 1; stroke-width: 0;\"/></g><g class=\"layer-below\"><g class=\"imagelayer\"/><g class=\"shapelayer\"/></g><g class=\"cartesianlayer\"><g class=\"subplot xy\"><g class=\"layer-subplot\"><g class=\"shapelayer\"/><g class=\"imagelayer\"/></g><g class=\"minor-gridlayer\"><g class=\"x\"/><g class=\"y\"/></g><g class=\"gridlayer\"><g class=\"x\"/><g class=\"y\"/></g><g class=\"zerolinelayer\"/><path class=\"xlines-below\"/><path class=\"ylines-below\"/><g class=\"overlines-below\"/><g class=\"xaxislayer-below\"/><g class=\"yaxislayer-below\"/><g class=\"overaxes-below\"/><g class=\"plot\" transform=\"translate(170,100)\" clip-path=\"url(#clip128304xyplot)\"><g class=\"funnellayer mlayer\"><g class=\"trace bars\" style=\"opacity: 1;\"><g class=\"regions\"><g class=\"region\"><path d=\"M22.5,57.6L99.59,70.4H350.41L427.5,57.6Z\" style=\"stroke-width: 0; fill: rgb(99, 110, 250); fill-opacity: 0.5;\"/></g><g class=\"region\"><path d=\"M99.59,121.6L123.08,134.4H326.92L350.41,121.6Z\" style=\"stroke-width: 0; fill: rgb(99, 110, 250); fill-opacity: 0.5;\"/></g><g class=\"region\"><path d=\"M123.08,185.6L128.43,198.4H321.57L326.92,185.6Z\" style=\"stroke-width: 0; fill: rgb(99, 110, 250); fill-opacity: 0.5;\"/></g><g class=\"region\"><path d=\"M128.43,249.6L202,262.4H248L321.57,249.6Z\" style=\"stroke-width: 0; fill: rgb(99, 110, 250); fill-opacity: 0.5;\"/></g><g class=\"region\"><path d=\"M0,0Z\" style=\"stroke-width: 0; fill: rgb(99, 110, 250); fill-opacity: 0.5;\"/></g></g><g class=\"points\"><g class=\"point\"><path d=\"M22.5,6.4V57.6H427.5V6.4Z\" style=\"vector-effect: none; fill: rgb(99, 110, 250); fill-opacity: 1; stroke: rgb(68, 68, 68); stroke-opacity: 1; stroke-width: 0px; opacity: 1;\"/><text class=\"bartext bartext-inside\" text-anchor=\"middle\" data-notex=\"1\" x=\"0\" y=\"0\" style=\"font-family: 'Open Sans', verdana, arial, sans-serif; font-size: 12px; fill: rgb(255, 255, 255); fill-opacity: 1; white-space: pre;\" transform=\"translate(224.953125,28.6953125)\"><tspan class=\"line\" dy=\"0em\" x=\"0\" y=\"0\">7423</tspan><tspan class=\"line\" dy=\"1.3em\" x=\"0\" y=\"0\">100%</tspan></text></g><g class=\"point\"><path d=\"M99.59,70.4V121.6H350.41V70.4Z\" style=\"vector-effect: none; fill: rgb(99, 110, 250); fill-opacity: 1; stroke: rgb(68, 68, 68); stroke-opacity: 1; stroke-width: 0px; opacity: 1;\"/><text class=\"bartext bartext-inside\" text-anchor=\"middle\" data-notex=\"1\" x=\"0\" y=\"0\" style=\"font-family: 'Open Sans', verdana, arial, sans-serif; font-size: 12px; fill: rgb(255, 255, 255); fill-opacity: 1; white-space: pre;\" transform=\"translate(224.8125,92.6953125)\"><tspan class=\"line\" dy=\"0em\" x=\"0\" y=\"0\">4597</tspan><tspan class=\"line\" dy=\"1.3em\" x=\"0\" y=\"0\">62%</tspan></text></g><g class=\"point\"><path d=\"M123.08,134.4V185.6H326.92V134.4Z\" style=\"vector-effect: none; fill: rgb(99, 110, 250); fill-opacity: 1; stroke: rgb(68, 68, 68); stroke-opacity: 1; stroke-width: 0px; opacity: 1;\"/><text class=\"bartext bartext-inside\" text-anchor=\"middle\" data-notex=\"1\" x=\"0\" y=\"0\" style=\"font-family: 'Open Sans', verdana, arial, sans-serif; font-size: 12px; fill: rgb(255, 255, 255); fill-opacity: 1; white-space: pre;\" transform=\"translate(224.8125,156.6953125)\"><tspan class=\"line\" dy=\"0em\" x=\"0\" y=\"0\">3736</tspan><tspan class=\"line\" dy=\"1.3em\" x=\"0\" y=\"0\">81%</tspan></text></g><g class=\"point\"><path d=\"M128.43,198.4V249.6H321.57V198.4Z\" style=\"vector-effect: none; fill: rgb(99, 110, 250); fill-opacity: 1; stroke: rgb(68, 68, 68); stroke-opacity: 1; stroke-width: 0px; opacity: 1;\"/><text class=\"bartext bartext-inside\" text-anchor=\"middle\" data-notex=\"1\" x=\"0\" y=\"0\" style=\"font-family: 'Open Sans', verdana, arial, sans-serif; font-size: 12px; fill: rgb(255, 255, 255); fill-opacity: 1; white-space: pre;\" transform=\"translate(224.8125,220.6953125)\"><tspan class=\"line\" dy=\"0em\" x=\"0\" y=\"0\">3540</tspan><tspan class=\"line\" dy=\"1.3em\" x=\"0\" y=\"0\">95%</tspan></text></g><g class=\"point\"><path d=\"M202,262.4V313.6H248V262.4Z\" style=\"vector-effect: none; fill: rgb(99, 110, 250); fill-opacity: 1; stroke: rgb(68, 68, 68); stroke-opacity: 1; stroke-width: 0px; opacity: 1;\"/><text class=\"bartext bartext-inside\" text-anchor=\"middle\" data-notex=\"1\" x=\"0\" y=\"0\" style=\"font-family: 'Open Sans', verdana, arial, sans-serif; font-size: 12px; fill: rgb(255, 255, 255); fill-opacity: 1; white-space: pre;\" transform=\"translate(224.9609375,284.6953125)\"><tspan class=\"line\" dy=\"0em\" x=\"0\" y=\"0\">843</tspan><tspan class=\"line\" dy=\"1.3em\" x=\"0\" y=\"0\">24%</tspan></text></g></g></g></g></g><g class=\"overplot\"/><path class=\"xlines-above crisp\" d=\"M0,0\" style=\"fill: none;\"/><path class=\"ylines-above crisp\" d=\"M0,0\" style=\"fill: none;\"/><g class=\"overlines-above\"/><g class=\"xaxislayer-above\"/><g class=\"yaxislayer-above\"><g class=\"ytick\"><text text-anchor=\"end\" x=\"169\" y=\"4.199999999999999\" transform=\"translate(0,388)\" style=\"font-family: 'Open Sans', verdana, arial, sans-serif; font-size: 12px; fill: rgb(42, 63, 95); fill-opacity: 1; white-space: pre; opacity: 1;\">Tutorial</text></g><g class=\"ytick\"><text text-anchor=\"end\" x=\"169\" y=\"4.199999999999999\" transform=\"translate(0,324)\" style=\"font-family: 'Open Sans', verdana, arial, sans-serif; font-size: 12px; fill: rgb(42, 63, 95); fill-opacity: 1; white-space: pre; opacity: 1;\">PaymentScreenSuccessful</text></g><g class=\"ytick\"><text text-anchor=\"end\" x=\"169\" y=\"4.199999999999999\" transform=\"translate(0,260)\" style=\"font-family: 'Open Sans', verdana, arial, sans-serif; font-size: 12px; fill: rgb(42, 63, 95); fill-opacity: 1; white-space: pre; opacity: 1;\">CartScreenAppear</text></g><g class=\"ytick\"><text text-anchor=\"end\" x=\"169\" y=\"4.199999999999999\" transform=\"translate(0,196)\" style=\"font-family: 'Open Sans', verdana, arial, sans-serif; font-size: 12px; fill: rgb(42, 63, 95); fill-opacity: 1; white-space: pre; opacity: 1;\">OffersScreenAppear</text></g><g class=\"ytick\"><text text-anchor=\"end\" x=\"169\" y=\"4.199999999999999\" transform=\"translate(0,132)\" style=\"font-family: 'Open Sans', verdana, arial, sans-serif; font-size: 12px; fill: rgb(42, 63, 95); fill-opacity: 1; white-space: pre; opacity: 1;\">MainScreenAppear</text></g></g><g class=\"overaxes-above\"/></g></g><g class=\"polarlayer\"/><g class=\"smithlayer\"/><g class=\"ternarylayer\"/><g class=\"geolayer\"/><g class=\"funnelarealayer\"/><g class=\"pielayer\"/><g class=\"iciclelayer\"/><g class=\"treemaplayer\"/><g class=\"sunburstlayer\"/><g class=\"glimages\"/><defs id=\"topdefs-128304\"><g class=\"clips\"/></defs><g class=\"layer-above\"><g class=\"imagelayer\"/><g class=\"shapelayer\"/></g><g class=\"infolayer\"><g class=\"g-gtitle\"/><g class=\"g-ytitle\"/></g></svg>"
      ]
     },
     "metadata": {},
     "output_type": "display_data"
    }
   ],
   "source": [
    "fig = go.Figure(go.Funnel(\n",
    "    y = funnel['event_name'],\n",
    "    x = funnel['device_id'],\n",
    "    textposition = \"inside\",\n",
    "    textinfo = \"value+percent previous\"))\n",
    "\n",
    "fig.show(\"svg\")"
   ]
  },
  {
   "cell_type": "markdown",
   "metadata": {},
   "source": [
    "So, we could mention that the majority of losses are after the first stage - almost 38% we lose from between Main Screen and Offer Screen. After offer screen appearing the following events have pretty high percentages: 81% and 91% respectively. Also, we can say, that stage \"Tutorial\" appears after payment, that probably means this stage is the most skipped part of our funnel. Let's assume that we're not going to include this stage in the funnel. "
   ]
  },
  {
   "cell_type": "markdown",
   "metadata": {},
   "source": [
    "Now, let's see how the funnel looks like for each group particularly"
   ]
  },
  {
   "cell_type": "code",
   "execution_count": 25,
   "metadata": {},
   "outputs": [
    {
     "data": {
      "text/html": [
       "<div>\n",
       "<style scoped>\n",
       "    .dataframe tbody tr th:only-of-type {\n",
       "        vertical-align: middle;\n",
       "    }\n",
       "\n",
       "    .dataframe tbody tr th {\n",
       "        vertical-align: top;\n",
       "    }\n",
       "\n",
       "    .dataframe thead th {\n",
       "        text-align: right;\n",
       "    }\n",
       "</style>\n",
       "<table border=\"1\" class=\"dataframe\">\n",
       "  <thead>\n",
       "    <tr style=\"text-align: right;\">\n",
       "      <th></th>\n",
       "      <th>event_name</th>\n",
       "      <th>exp_id</th>\n",
       "      <th>device_id</th>\n",
       "    </tr>\n",
       "  </thead>\n",
       "  <tbody>\n",
       "    <tr>\n",
       "      <th>0</th>\n",
       "      <td>MainScreenAppear</td>\n",
       "      <td>246</td>\n",
       "      <td>2450</td>\n",
       "    </tr>\n",
       "    <tr>\n",
       "      <th>1</th>\n",
       "      <td>OffersScreenAppear</td>\n",
       "      <td>246</td>\n",
       "      <td>1542</td>\n",
       "    </tr>\n",
       "    <tr>\n",
       "      <th>2</th>\n",
       "      <td>CartScreenAppear</td>\n",
       "      <td>246</td>\n",
       "      <td>1266</td>\n",
       "    </tr>\n",
       "    <tr>\n",
       "      <th>3</th>\n",
       "      <td>PaymentScreenSuccessful</td>\n",
       "      <td>246</td>\n",
       "      <td>1200</td>\n",
       "    </tr>\n",
       "    <tr>\n",
       "      <th>4</th>\n",
       "      <td>Tutorial</td>\n",
       "      <td>246</td>\n",
       "      <td>278</td>\n",
       "    </tr>\n",
       "  </tbody>\n",
       "</table>\n",
       "</div>"
      ],
      "text/plain": [
       "                event_name  exp_id  device_id\n",
       "0         MainScreenAppear     246       2450\n",
       "1       OffersScreenAppear     246       1542\n",
       "2         CartScreenAppear     246       1266\n",
       "3  PaymentScreenSuccessful     246       1200\n",
       "4                 Tutorial     246        278"
      ]
     },
     "execution_count": 25,
     "metadata": {},
     "output_type": "execute_result"
    }
   ],
   "source": [
    "ctlGroup1 = (actual_data[actual_data['exp_id'] == 246]\n",
    "              .groupby(['event_name', 'exp_id'])['device_id'].nunique().sort_values(ascending = False).reset_index())\n",
    "ctlGroup1"
   ]
  },
  {
   "cell_type": "code",
   "execution_count": 26,
   "metadata": {},
   "outputs": [
    {
     "data": {
      "text/html": [
       "<div>\n",
       "<style scoped>\n",
       "    .dataframe tbody tr th:only-of-type {\n",
       "        vertical-align: middle;\n",
       "    }\n",
       "\n",
       "    .dataframe tbody tr th {\n",
       "        vertical-align: top;\n",
       "    }\n",
       "\n",
       "    .dataframe thead th {\n",
       "        text-align: right;\n",
       "    }\n",
       "</style>\n",
       "<table border=\"1\" class=\"dataframe\">\n",
       "  <thead>\n",
       "    <tr style=\"text-align: right;\">\n",
       "      <th></th>\n",
       "      <th>event_name</th>\n",
       "      <th>exp_id</th>\n",
       "      <th>device_id</th>\n",
       "    </tr>\n",
       "  </thead>\n",
       "  <tbody>\n",
       "    <tr>\n",
       "      <th>0</th>\n",
       "      <td>MainScreenAppear</td>\n",
       "      <td>247</td>\n",
       "      <td>2479</td>\n",
       "    </tr>\n",
       "    <tr>\n",
       "      <th>1</th>\n",
       "      <td>OffersScreenAppear</td>\n",
       "      <td>247</td>\n",
       "      <td>1524</td>\n",
       "    </tr>\n",
       "    <tr>\n",
       "      <th>2</th>\n",
       "      <td>CartScreenAppear</td>\n",
       "      <td>247</td>\n",
       "      <td>1239</td>\n",
       "    </tr>\n",
       "    <tr>\n",
       "      <th>3</th>\n",
       "      <td>PaymentScreenSuccessful</td>\n",
       "      <td>247</td>\n",
       "      <td>1158</td>\n",
       "    </tr>\n",
       "    <tr>\n",
       "      <th>4</th>\n",
       "      <td>Tutorial</td>\n",
       "      <td>247</td>\n",
       "      <td>284</td>\n",
       "    </tr>\n",
       "  </tbody>\n",
       "</table>\n",
       "</div>"
      ],
      "text/plain": [
       "                event_name  exp_id  device_id\n",
       "0         MainScreenAppear     247       2479\n",
       "1       OffersScreenAppear     247       1524\n",
       "2         CartScreenAppear     247       1239\n",
       "3  PaymentScreenSuccessful     247       1158\n",
       "4                 Tutorial     247        284"
      ]
     },
     "execution_count": 26,
     "metadata": {},
     "output_type": "execute_result"
    }
   ],
   "source": [
    "ctlGroup2 = (actual_data[actual_data['exp_id'] == 247]\n",
    "              .groupby(['event_name', 'exp_id'])['device_id'].nunique().sort_values(ascending = False).reset_index())\n",
    "ctlGroup2"
   ]
  },
  {
   "cell_type": "code",
   "execution_count": 27,
   "metadata": {},
   "outputs": [
    {
     "data": {
      "text/html": [
       "<div>\n",
       "<style scoped>\n",
       "    .dataframe tbody tr th:only-of-type {\n",
       "        vertical-align: middle;\n",
       "    }\n",
       "\n",
       "    .dataframe tbody tr th {\n",
       "        vertical-align: top;\n",
       "    }\n",
       "\n",
       "    .dataframe thead th {\n",
       "        text-align: right;\n",
       "    }\n",
       "</style>\n",
       "<table border=\"1\" class=\"dataframe\">\n",
       "  <thead>\n",
       "    <tr style=\"text-align: right;\">\n",
       "      <th></th>\n",
       "      <th>event_name</th>\n",
       "      <th>exp_id</th>\n",
       "      <th>device_id</th>\n",
       "    </tr>\n",
       "  </thead>\n",
       "  <tbody>\n",
       "    <tr>\n",
       "      <th>0</th>\n",
       "      <td>MainScreenAppear</td>\n",
       "      <td>248</td>\n",
       "      <td>2494</td>\n",
       "    </tr>\n",
       "    <tr>\n",
       "      <th>1</th>\n",
       "      <td>OffersScreenAppear</td>\n",
       "      <td>248</td>\n",
       "      <td>1531</td>\n",
       "    </tr>\n",
       "    <tr>\n",
       "      <th>2</th>\n",
       "      <td>CartScreenAppear</td>\n",
       "      <td>248</td>\n",
       "      <td>1231</td>\n",
       "    </tr>\n",
       "    <tr>\n",
       "      <th>3</th>\n",
       "      <td>PaymentScreenSuccessful</td>\n",
       "      <td>248</td>\n",
       "      <td>1182</td>\n",
       "    </tr>\n",
       "    <tr>\n",
       "      <th>4</th>\n",
       "      <td>Tutorial</td>\n",
       "      <td>248</td>\n",
       "      <td>281</td>\n",
       "    </tr>\n",
       "  </tbody>\n",
       "</table>\n",
       "</div>"
      ],
      "text/plain": [
       "                event_name  exp_id  device_id\n",
       "0         MainScreenAppear     248       2494\n",
       "1       OffersScreenAppear     248       1531\n",
       "2         CartScreenAppear     248       1231\n",
       "3  PaymentScreenSuccessful     248       1182\n",
       "4                 Tutorial     248        281"
      ]
     },
     "execution_count": 27,
     "metadata": {},
     "output_type": "execute_result"
    }
   ],
   "source": [
    "testGroup = (actual_data[actual_data['exp_id'] == 248]\n",
    "             .groupby(['event_name', 'exp_id'])['device_id'].nunique().sort_values(ascending = False).reset_index())\n",
    "testGroup"
   ]
  },
  {
   "cell_type": "code",
   "execution_count": 55,
   "metadata": {},
   "outputs": [
    {
     "data": {
      "image/svg+xml": [
       "<svg class=\"main-svg\" xmlns=\"http://www.w3.org/2000/svg\" xmlns:xlink=\"http://www.w3.org/1999/xlink\" width=\"700\" height=\"500\" style=\"\" viewBox=\"0 0 700 500\"><rect x=\"0\" y=\"0\" width=\"700\" height=\"500\" style=\"fill: rgb(255, 255, 255); fill-opacity: 1;\"/><defs id=\"defs-a9e41d\"><g class=\"clips\"><clipPath id=\"clipa9e41dxyplot\" class=\"plotclip\"><rect width=\"416\" height=\"320\"/></clipPath><clipPath class=\"axesclip\" id=\"clipa9e41dx\"><rect x=\"195\" y=\"0\" width=\"416\" height=\"500\"/></clipPath><clipPath class=\"axesclip\" id=\"clipa9e41dy\"><rect x=\"0\" y=\"100\" width=\"700\" height=\"320\"/></clipPath><clipPath class=\"axesclip\" id=\"clipa9e41dxy\"><rect x=\"195\" y=\"100\" width=\"416\" height=\"320\"/></clipPath></g><g class=\"gradients\"/><g class=\"patterns\"/></defs><g class=\"bglayer\"><rect class=\"bg\" x=\"195\" y=\"100\" width=\"416\" height=\"320\" style=\"fill: rgb(229, 236, 246); fill-opacity: 1; stroke-width: 0;\"/></g><g class=\"layer-below\"><g class=\"imagelayer\"/><g class=\"shapelayer\"/></g><g class=\"cartesianlayer\"><g class=\"subplot xy\"><g class=\"layer-subplot\"><g class=\"shapelayer\"/><g class=\"imagelayer\"/></g><g class=\"minor-gridlayer\"><g class=\"x\"/><g class=\"y\"/></g><g class=\"gridlayer\"><g class=\"x\"/><g class=\"y\"/></g><g class=\"zerolinelayer\"/><path class=\"xlines-below\"/><path class=\"ylines-below\"/><g class=\"overlines-below\"/><g class=\"xaxislayer-below\"/><g class=\"yaxislayer-below\"/><g class=\"overaxes-below\"/><g class=\"plot\" transform=\"translate(195,100)\" clip-path=\"url(#clipa9e41dxyplot)\"><g class=\"funnellayer mlayer\"><g class=\"trace bars\" style=\"opacity: 1;\"><g class=\"regions\"><g class=\"region\"><path d=\"M20.8,57.6L92.07,70.4H169.84L144.37,57.6Z\" style=\"stroke-width: 0; fill: rgb(99, 110, 250); fill-opacity: 0.5;\"/></g><g class=\"region\"><path d=\"M92.07,121.6L113.78,134.4H177.64L169.84,121.6Z\" style=\"stroke-width: 0; fill: rgb(99, 110, 250); fill-opacity: 0.5;\"/></g><g class=\"region\"><path d=\"M113.78,185.6L118.73,198.4H179.25L177.64,185.6Z\" style=\"stroke-width: 0; fill: rgb(99, 110, 250); fill-opacity: 0.5;\"/></g><g class=\"region\"><path d=\"M118.73,249.6L186.74,262.4H200.76L179.25,249.6Z\" style=\"stroke-width: 0; fill: rgb(99, 110, 250); fill-opacity: 0.5;\"/></g><g class=\"region\"><path d=\"M0,0Z\" style=\"stroke-width: 0; fill: rgb(99, 110, 250); fill-opacity: 0.5;\"/></g></g><g class=\"points\"><g class=\"point\"><path d=\"M20.8,6.4V57.6H144.37V6.4Z\" style=\"vector-effect: none; fill: rgb(99, 110, 250); fill-opacity: 1; stroke: rgb(68, 68, 68); stroke-opacity: 1; stroke-width: 0px; opacity: 1;\"/><text class=\"bartext bartext-inside\" text-anchor=\"middle\" data-notex=\"1\" x=\"0\" y=\"0\" style=\"font-family: 'Open Sans', verdana, arial, sans-serif; font-size: 12px; fill: rgb(255, 255, 255); fill-opacity: 1; white-space: pre;\" transform=\"translate(82.53812500000001,28.6953125)\"><tspan class=\"line\" dy=\"0em\" x=\"0\" y=\"0\">2450</tspan><tspan class=\"line\" dy=\"1.3em\" x=\"0\" y=\"0\">100%</tspan></text></g><g class=\"point\"><path d=\"M92.07,70.4V121.6H169.84V70.4Z\" style=\"vector-effect: none; fill: rgb(99, 110, 250); fill-opacity: 1; stroke: rgb(68, 68, 68); stroke-opacity: 1; stroke-width: 0px; opacity: 1;\"/><text class=\"bartext bartext-inside\" text-anchor=\"middle\" data-notex=\"1\" x=\"0\" y=\"0\" style=\"font-family: 'Open Sans', verdana, arial, sans-serif; font-size: 12px; fill: rgb(255, 255, 255); fill-opacity: 1; white-space: pre;\" transform=\"translate(130.76749999999998,92.6953125)\"><tspan class=\"line\" dy=\"0em\" x=\"0\" y=\"0\">1542</tspan><tspan class=\"line\" dy=\"1.3em\" x=\"0\" y=\"0\">63%</tspan></text></g><g class=\"point\"><path d=\"M113.78,134.4V185.6H177.64V134.4Z\" style=\"vector-effect: none; fill: rgb(99, 110, 250); fill-opacity: 1; stroke: rgb(68, 68, 68); stroke-opacity: 1; stroke-width: 0px; opacity: 1;\"/><text class=\"bartext bartext-inside\" text-anchor=\"middle\" data-notex=\"1\" x=\"0\" y=\"0\" style=\"font-family: 'Open Sans', verdana, arial, sans-serif; font-size: 12px; fill: rgb(255, 255, 255); fill-opacity: 1; white-space: pre;\" transform=\"translate(145.52249999999998,156.6953125)\"><tspan class=\"line\" dy=\"0em\" x=\"0\" y=\"0\">1266</tspan><tspan class=\"line\" dy=\"1.3em\" x=\"0\" y=\"0\">82%</tspan></text></g><g class=\"point\"><path d=\"M118.73,198.4V249.6H179.25V198.4Z\" style=\"vector-effect: none; fill: rgb(99, 110, 250); fill-opacity: 1; stroke: rgb(68, 68, 68); stroke-opacity: 1; stroke-width: 0px; opacity: 1;\"/><text class=\"bartext bartext-inside\" text-anchor=\"middle\" data-notex=\"1\" x=\"0\" y=\"0\" style=\"font-family: 'Open Sans', verdana, arial, sans-serif; font-size: 12px; fill: rgb(255, 255, 255); fill-opacity: 1; white-space: pre;\" transform=\"translate(148.8025,220.6953125)\"><tspan class=\"line\" dy=\"0em\" x=\"0\" y=\"0\">1200</tspan><tspan class=\"line\" dy=\"1.3em\" x=\"0\" y=\"0\">95%</tspan></text></g><g class=\"point\"><path d=\"M186.74,262.4V313.6H200.76V262.4Z\" style=\"vector-effect: none; fill: rgb(99, 110, 250); fill-opacity: 1; stroke: rgb(68, 68, 68); stroke-opacity: 1; stroke-width: 0px; opacity: 1;\"/><text class=\"bartext bartext-inside\" text-anchor=\"middle\" data-notex=\"1\" x=\"0\" y=\"0\" style=\"font-family: 'Open Sans', verdana, arial, sans-serif; font-size: 12px; fill: rgb(255, 255, 255); fill-opacity: 1; white-space: pre;\" transform=\"translate(193.73891652846876,287.0623383084577)scale(0.28373687119955715)\"><tspan class=\"line\" dy=\"0em\" x=\"0\" y=\"0\">278</tspan><tspan class=\"line\" dy=\"1.3em\" x=\"0\" y=\"0\">23%</tspan></text></g></g></g><g class=\"trace bars\" style=\"opacity: 1;\"><g class=\"regions\"><g class=\"region\"><path d=\"M144.37,57.6L169.84,70.4H246.71L269.41,57.6Z\" style=\"stroke-width: 0; fill: rgb(239, 85, 59); fill-opacity: 0.5;\"/></g><g class=\"region\"><path d=\"M169.84,121.6L177.64,134.4H240.13L246.71,121.6Z\" style=\"stroke-width: 0; fill: rgb(239, 85, 59); fill-opacity: 0.5;\"/></g><g class=\"region\"><path d=\"M177.64,185.6L179.25,198.4H237.66L240.13,185.6Z\" style=\"stroke-width: 0; fill: rgb(239, 85, 59); fill-opacity: 0.5;\"/></g><g class=\"region\"><path d=\"M179.25,249.6L200.76,262.4H215.09L237.66,249.6Z\" style=\"stroke-width: 0; fill: rgb(239, 85, 59); fill-opacity: 0.5;\"/></g><g class=\"region\"><path d=\"M0,0Z\" style=\"stroke-width: 0; fill: rgb(239, 85, 59); fill-opacity: 0.5;\"/></g></g><g class=\"points\"><g class=\"point\"><path d=\"M144.37,6.4V57.6H269.41V6.4Z\" style=\"vector-effect: none; fill: rgb(239, 85, 59); fill-opacity: 1; stroke: rgb(68, 68, 68); stroke-opacity: 1; stroke-width: 0px; opacity: 1;\"/><text class=\"bartext bartext-inside\" text-anchor=\"middle\" data-notex=\"1\" x=\"0\" y=\"0\" style=\"font-family: 'Open Sans', verdana, arial, sans-serif; font-size: 12px; fill: rgb(68, 68, 68); fill-opacity: 1; white-space: pre;\" transform=\"translate(206.84312500000001,28.6953125)\"><tspan class=\"line\" dy=\"0em\" x=\"0\" y=\"0\">2479</tspan><tspan class=\"line\" dy=\"1.3em\" x=\"0\" y=\"0\">100%</tspan></text></g><g class=\"point\"><path d=\"M169.84,70.4V121.6H246.71V70.4Z\" style=\"vector-effect: none; fill: rgb(239, 85, 59); fill-opacity: 1; stroke: rgb(68, 68, 68); stroke-opacity: 1; stroke-width: 0px; opacity: 1;\"/><text class=\"bartext bartext-inside\" text-anchor=\"middle\" data-notex=\"1\" x=\"0\" y=\"0\" style=\"font-family: 'Open Sans', verdana, arial, sans-serif; font-size: 12px; fill: rgb(68, 68, 68); fill-opacity: 1; white-space: pre;\" transform=\"translate(208.0875,92.6953125)\"><tspan class=\"line\" dy=\"0em\" x=\"0\" y=\"0\">1524</tspan><tspan class=\"line\" dy=\"1.3em\" x=\"0\" y=\"0\">61%</tspan></text></g><g class=\"point\"><path d=\"M177.64,134.4V185.6H240.13V134.4Z\" style=\"vector-effect: none; fill: rgb(239, 85, 59); fill-opacity: 1; stroke: rgb(68, 68, 68); stroke-opacity: 1; stroke-width: 0px; opacity: 1;\"/><text class=\"bartext bartext-inside\" text-anchor=\"middle\" data-notex=\"1\" x=\"0\" y=\"0\" style=\"font-family: 'Open Sans', verdana, arial, sans-serif; font-size: 12px; fill: rgb(68, 68, 68); fill-opacity: 1; white-space: pre;\" transform=\"translate(208.6975,156.6953125)\"><tspan class=\"line\" dy=\"0em\" x=\"0\" y=\"0\">1239</tspan><tspan class=\"line\" dy=\"1.3em\" x=\"0\" y=\"0\">81%</tspan></text></g><g class=\"point\"><path d=\"M179.25,198.4V249.6H237.66V198.4Z\" style=\"vector-effect: none; fill: rgb(239, 85, 59); fill-opacity: 1; stroke: rgb(68, 68, 68); stroke-opacity: 1; stroke-width: 0px; opacity: 1;\"/><text class=\"bartext bartext-inside\" text-anchor=\"middle\" data-notex=\"1\" x=\"0\" y=\"0\" style=\"font-family: 'Open Sans', verdana, arial, sans-serif; font-size: 12px; fill: rgb(68, 68, 68); fill-opacity: 1; white-space: pre;\" transform=\"translate(208.26749999999998,220.6953125)\"><tspan class=\"line\" dy=\"0em\" x=\"0\" y=\"0\">1158</tspan><tspan class=\"line\" dy=\"1.3em\" x=\"0\" y=\"0\">93%</tspan></text></g><g class=\"point\"><path d=\"M200.76,262.4V313.6H215.09V262.4Z\" style=\"vector-effect: none; fill: rgb(239, 85, 59); fill-opacity: 1; stroke: rgb(68, 68, 68); stroke-opacity: 1; stroke-width: 0px; opacity: 1;\"/><text class=\"bartext bartext-inside\" text-anchor=\"middle\" data-notex=\"1\" x=\"0\" y=\"0\" style=\"font-family: 'Open Sans', verdana, arial, sans-serif; font-size: 12px; fill: rgb(68, 68, 68); fill-opacity: 1; white-space: pre;\" transform=\"translate(207.91348811498065,287.02609452736317)scale(0.2947042564953017)\"><tspan class=\"line\" dy=\"0em\" x=\"0\" y=\"0\">284</tspan><tspan class=\"line\" dy=\"1.3em\" x=\"0\" y=\"0\">25%</tspan></text></g></g></g><g class=\"trace bars\" style=\"opacity: 1;\"><g class=\"regions\"><g class=\"region\"><path d=\"M269.41,57.6L246.71,70.4H323.93L395.2,57.6Z\" style=\"stroke-width: 0; fill: rgb(0, 204, 150); fill-opacity: 0.5;\"/></g><g class=\"region\"><path d=\"M246.71,121.6L240.13,134.4H302.22L323.93,121.6Z\" style=\"stroke-width: 0; fill: rgb(0, 204, 150); fill-opacity: 0.5;\"/></g><g class=\"region\"><path d=\"M240.13,185.6L237.66,198.4H297.27L302.22,185.6Z\" style=\"stroke-width: 0; fill: rgb(0, 204, 150); fill-opacity: 0.5;\"/></g><g class=\"region\"><path d=\"M237.66,249.6L215.09,262.4H229.26L297.27,249.6Z\" style=\"stroke-width: 0; fill: rgb(0, 204, 150); fill-opacity: 0.5;\"/></g><g class=\"region\"><path d=\"M0,0Z\" style=\"stroke-width: 0; fill: rgb(0, 204, 150); fill-opacity: 0.5;\"/></g></g><g class=\"points\"><g class=\"point\"><path d=\"M269.41,6.4V57.6H395.2V6.4Z\" style=\"vector-effect: none; fill: rgb(0, 204, 150); fill-opacity: 1; stroke: rgb(68, 68, 68); stroke-opacity: 1; stroke-width: 0px; opacity: 1;\"/><text class=\"bartext bartext-inside\" text-anchor=\"middle\" data-notex=\"1\" x=\"0\" y=\"0\" style=\"font-family: 'Open Sans', verdana, arial, sans-serif; font-size: 12px; fill: rgb(68, 68, 68); fill-opacity: 1; white-space: pre;\" transform=\"translate(332.258125,28.6953125)\"><tspan class=\"line\" dy=\"0em\" x=\"0\" y=\"0\">2494</tspan><tspan class=\"line\" dy=\"1.3em\" x=\"0\" y=\"0\">100%</tspan></text></g><g class=\"point\"><path d=\"M246.71,70.4V121.6H323.93V70.4Z\" style=\"vector-effect: none; fill: rgb(0, 204, 150); fill-opacity: 1; stroke: rgb(68, 68, 68); stroke-opacity: 1; stroke-width: 0px; opacity: 1;\"/><text class=\"bartext bartext-inside\" text-anchor=\"middle\" data-notex=\"1\" x=\"0\" y=\"0\" style=\"font-family: 'Open Sans', verdana, arial, sans-serif; font-size: 12px; fill: rgb(68, 68, 68); fill-opacity: 1; white-space: pre;\" transform=\"translate(285.32,92.6953125)\"><tspan class=\"line\" dy=\"0em\" x=\"0\" y=\"0\">1531</tspan><tspan class=\"line\" dy=\"1.3em\" x=\"0\" y=\"0\">61%</tspan></text></g><g class=\"point\"><path d=\"M240.13,134.4V185.6H302.22V134.4Z\" style=\"vector-effect: none; fill: rgb(0, 204, 150); fill-opacity: 1; stroke: rgb(68, 68, 68); stroke-opacity: 1; stroke-width: 0px; opacity: 1;\"/><text class=\"bartext bartext-inside\" text-anchor=\"middle\" data-notex=\"1\" x=\"0\" y=\"0\" style=\"font-family: 'Open Sans', verdana, arial, sans-serif; font-size: 12px; fill: rgb(68, 68, 68); fill-opacity: 1; white-space: pre;\" transform=\"translate(271.175,156.6953125)\"><tspan class=\"line\" dy=\"0em\" x=\"0\" y=\"0\">1231</tspan><tspan class=\"line\" dy=\"1.3em\" x=\"0\" y=\"0\">80%</tspan></text></g><g class=\"point\"><path d=\"M237.66,198.4V249.6H297.27V198.4Z\" style=\"vector-effect: none; fill: rgb(0, 204, 150); fill-opacity: 1; stroke: rgb(68, 68, 68); stroke-opacity: 1; stroke-width: 0px; opacity: 1;\"/><text class=\"bartext bartext-inside\" text-anchor=\"middle\" data-notex=\"1\" x=\"0\" y=\"0\" style=\"font-family: 'Open Sans', verdana, arial, sans-serif; font-size: 12px; fill: rgb(68, 68, 68); fill-opacity: 1; white-space: pre;\" transform=\"translate(267.2775,220.6953125)\"><tspan class=\"line\" dy=\"0em\" x=\"0\" y=\"0\">1182</tspan><tspan class=\"line\" dy=\"1.3em\" x=\"0\" y=\"0\">96%</tspan></text></g><g class=\"point\"><path d=\"M215.09,262.4V313.6H229.26V262.4Z\" style=\"vector-effect: none; fill: rgb(0, 204, 150); fill-opacity: 1; stroke: rgb(68, 68, 68); stroke-opacity: 1; stroke-width: 0px; opacity: 1;\"/><text class=\"bartext bartext-inside\" text-anchor=\"middle\" data-notex=\"1\" x=\"0\" y=\"0\" style=\"font-family: 'Open Sans', verdana, arial, sans-serif; font-size: 12px; fill: rgb(68, 68, 68); fill-opacity: 1; white-space: pre;\" transform=\"translate(222.1637092316197,287.0448009950249)scale(0.2890436705362074)\"><tspan class=\"line\" dy=\"0em\" x=\"0\" y=\"0\">281</tspan><tspan class=\"line\" dy=\"1.3em\" x=\"0\" y=\"0\">24%</tspan></text></g></g></g></g></g><g class=\"overplot\"/><path class=\"xlines-above crisp\" d=\"M0,0\" style=\"fill: none;\"/><path class=\"ylines-above crisp\" d=\"M0,0\" style=\"fill: none;\"/><g class=\"overlines-above\"/><g class=\"xaxislayer-above\"/><g class=\"yaxislayer-above\"><g class=\"ytick\"><text text-anchor=\"end\" x=\"194\" y=\"4.199999999999999\" transform=\"translate(0,388)\" style=\"font-family: 'Open Sans', verdana, arial, sans-serif; font-size: 12px; fill: rgb(42, 63, 95); fill-opacity: 1; white-space: pre; opacity: 1;\">Tutorial</text></g><g class=\"ytick\"><text text-anchor=\"end\" x=\"194\" y=\"4.199999999999999\" transform=\"translate(0,324)\" style=\"font-family: 'Open Sans', verdana, arial, sans-serif; font-size: 12px; fill: rgb(42, 63, 95); fill-opacity: 1; white-space: pre; opacity: 1;\">PaymentScreenSuccessful</text></g><g class=\"ytick\"><text text-anchor=\"end\" x=\"194\" y=\"4.199999999999999\" transform=\"translate(0,260)\" style=\"font-family: 'Open Sans', verdana, arial, sans-serif; font-size: 12px; fill: rgb(42, 63, 95); fill-opacity: 1; white-space: pre; opacity: 1;\">CartScreenAppear</text></g><g class=\"ytick\"><text text-anchor=\"end\" x=\"194\" y=\"4.199999999999999\" transform=\"translate(0,196)\" style=\"font-family: 'Open Sans', verdana, arial, sans-serif; font-size: 12px; fill: rgb(42, 63, 95); fill-opacity: 1; white-space: pre; opacity: 1;\">OffersScreenAppear</text></g><g class=\"ytick\"><text text-anchor=\"end\" x=\"194\" y=\"4.199999999999999\" transform=\"translate(0,132)\" style=\"font-family: 'Open Sans', verdana, arial, sans-serif; font-size: 12px; fill: rgb(42, 63, 95); fill-opacity: 1; white-space: pre; opacity: 1;\">MainScreenAppear</text></g></g><g class=\"overaxes-above\"/></g></g><g class=\"polarlayer\"/><g class=\"smithlayer\"/><g class=\"ternarylayer\"/><g class=\"geolayer\"/><g class=\"funnelarealayer\"/><g class=\"pielayer\"/><g class=\"iciclelayer\"/><g class=\"treemaplayer\"/><g class=\"sunburstlayer\"/><g class=\"glimages\"/><defs id=\"topdefs-a9e41d\"><g class=\"clips\"/><clipPath id=\"legenda9e41d\"><rect width=\"69\" height=\"86\" x=\"0\" y=\"0\"/></clipPath></defs><g class=\"layer-above\"><g class=\"imagelayer\"/><g class=\"shapelayer\"/></g><g class=\"infolayer\"><g class=\"legend\" pointer-events=\"all\" transform=\"translate(619.3199999999999,100)\"><rect class=\"bg\" shape-rendering=\"crispEdges\" style=\"stroke: rgb(68, 68, 68); stroke-opacity: 1; fill: rgb(255, 255, 255); fill-opacity: 1; stroke-width: 0px;\" width=\"69\" height=\"86\" x=\"0\" y=\"0\"/><g class=\"scrollbox\" transform=\"\" clip-path=\"url(#legenda9e41d)\"><text class=\"legendtitletext\" text-anchor=\"start\" x=\"2\" y=\"18.2\" style=\"font-family: 'Open Sans', verdana, arial, sans-serif; font-size: 14px; fill: rgb(42, 63, 95); fill-opacity: 1; white-space: pre;\">Group</text><g class=\"groups\"><g class=\"traces\" transform=\"translate(0,32.7)\" style=\"opacity: 1;\"><text class=\"legendtext\" text-anchor=\"start\" x=\"40\" y=\"4.680000000000001\" style=\"font-family: 'Open Sans', verdana, arial, sans-serif; font-size: 12px; fill: rgb(42, 63, 95); fill-opacity: 1; white-space: pre;\">246</text><g class=\"layers\" style=\"opacity: 1;\"><g class=\"legendfill\"/><g class=\"legendlines\"/><g class=\"legendsymbols\"><g class=\"legendpoints\"><path class=\"legendfunnel\" d=\"M6,6H-6V-6H6Z\" transform=\"translate(20,0)\" style=\"stroke-width: 0px; fill: rgb(99, 110, 250); fill-opacity: 1;\"/></g></g></g><rect class=\"legendtoggle\" x=\"0\" y=\"-9.5\" width=\"63.265625\" height=\"19\" style=\"fill: rgb(0, 0, 0); fill-opacity: 0;\"/></g><g class=\"traces\" transform=\"translate(0,51.7)\" style=\"opacity: 1;\"><text class=\"legendtext\" text-anchor=\"start\" x=\"40\" y=\"4.680000000000001\" style=\"font-family: 'Open Sans', verdana, arial, sans-serif; font-size: 12px; fill: rgb(42, 63, 95); fill-opacity: 1; white-space: pre;\">247</text><g class=\"layers\" style=\"opacity: 1;\"><g class=\"legendfill\"/><g class=\"legendlines\"/><g class=\"legendsymbols\"><g class=\"legendpoints\"><path class=\"legendfunnel\" d=\"M6,6H-6V-6H6Z\" transform=\"translate(20,0)\" style=\"stroke-width: 0px; fill: rgb(239, 85, 59); fill-opacity: 1;\"/></g></g></g><rect class=\"legendtoggle\" x=\"0\" y=\"-9.5\" width=\"63.265625\" height=\"19\" style=\"fill: rgb(0, 0, 0); fill-opacity: 0;\"/></g><g class=\"traces\" transform=\"translate(0,70.7)\" style=\"opacity: 1;\"><text class=\"legendtext\" text-anchor=\"start\" x=\"40\" y=\"4.680000000000001\" style=\"font-family: 'Open Sans', verdana, arial, sans-serif; font-size: 12px; fill: rgb(42, 63, 95); fill-opacity: 1; white-space: pre;\">248</text><g class=\"layers\" style=\"opacity: 1;\"><g class=\"legendfill\"/><g class=\"legendlines\"/><g class=\"legendsymbols\"><g class=\"legendpoints\"><path class=\"legendfunnel\" d=\"M6,6H-6V-6H6Z\" transform=\"translate(20,0)\" style=\"stroke-width: 0px; fill: rgb(0, 204, 150); fill-opacity: 1;\"/></g></g></g><rect class=\"legendtoggle\" x=\"0\" y=\"-9.5\" width=\"63.265625\" height=\"19\" style=\"fill: rgb(0, 0, 0); fill-opacity: 0;\"/></g></g></g><rect class=\"scrollbar\" rx=\"20\" ry=\"3\" width=\"0\" height=\"0\" style=\"fill: rgb(128, 139, 164); fill-opacity: 1;\" x=\"0\" y=\"0\"/></g><g class=\"g-gtitle\"><text class=\"gtitle\" x=\"35\" y=\"50\" text-anchor=\"start\" dy=\"0em\" style=\"font-family: 'Open Sans', verdana, arial, sans-serif; font-size: 17px; fill: rgb(42, 63, 95); opacity: 1; font-weight: normal; white-space: pre;\">Event funnel</text></g><g class=\"g-ytitle\" transform=\"translate(1.1279296875,0)\"><text class=\"ytitle\" transform=\"rotate(-90,12.871874999999989,260)\" x=\"12.871874999999989\" y=\"260\" text-anchor=\"middle\" style=\"font-family: 'Open Sans', verdana, arial, sans-serif; font-size: 14px; fill: rgb(42, 63, 95); opacity: 1; font-weight: normal; white-space: pre;\">Stage of funnel</text></g></g></svg>"
      ]
     },
     "metadata": {},
     "output_type": "display_data"
    }
   ],
   "source": [
    "fig = go.Figure()\n",
    "\n",
    "fig.add_trace(go.Funnel(\n",
    "    name = '246',\n",
    "    orientation = \"h\",\n",
    "    y = ctlGroup1['event_name'],\n",
    "    x = ctlGroup1['device_id'],\n",
    "    textposition = \"inside\",\n",
    "    textinfo = \"value+percent previous\"))\n",
    "\n",
    "fig.add_trace(go.Funnel(\n",
    "    name = '247',\n",
    "    orientation = \"h\",\n",
    "    y = ctlGroup2['event_name'],\n",
    "    x = ctlGroup2['device_id'],\n",
    "    textposition = \"inside\",\n",
    "    textinfo = \"value+percent previous\"))\n",
    "\n",
    "fig.add_trace(go.Funnel(\n",
    "    name = '248',\n",
    "    orientation = \"h\",\n",
    "    y = testGroup['event_name'],\n",
    "    x = testGroup['device_id'],\n",
    "    textposition = \"inside\",\n",
    "    textinfo = \"value+percent previous\"))\n",
    "\n",
    "fig.update_layout(title = 'Event funnel', \n",
    "                  yaxis_title=\"Stage of funnel\", \n",
    "                  legend_title=\"Group\",)\n",
    "\n",
    "fig.show(\"svg\")"
   ]
  },
  {
   "cell_type": "markdown",
   "metadata": {},
   "source": [
    "So, it seems that test group has almost the same results as control groups in terms of share between stages. The differences vary between 1-2 % for each stage. "
   ]
  },
  {
   "cell_type": "markdown",
   "metadata": {},
   "source": [
    "### At what stage do you lose the most users?"
   ]
  },
  {
   "cell_type": "markdown",
   "metadata": {},
   "source": [
    "As we mentioned above - on \"Offer Screen Appear\" we lose the majority of users - nearly 38%"
   ]
  },
  {
   "cell_type": "markdown",
   "metadata": {},
   "source": [
    "### What share of users make the entire journey from their first event to payment?"
   ]
  },
  {
   "cell_type": "markdown",
   "metadata": {},
   "source": [
    "Only 37,7 % of users came to the final stage of funnel. "
   ]
  },
  {
   "cell_type": "markdown",
   "metadata": {},
   "source": [
    "## Step 4. Study the results of the experiment"
   ]
  },
  {
   "cell_type": "markdown",
   "metadata": {},
   "source": [
    "### How many users are there in each group?"
   ]
  },
  {
   "cell_type": "code",
   "execution_count": 29,
   "metadata": {},
   "outputs": [
    {
     "data": {
      "text/plain": [
       "exp_id\n",
       "246    2484\n",
       "247    2517\n",
       "248    2537\n",
       "Name: device_id, dtype: int64"
      ]
     },
     "execution_count": 29,
     "metadata": {},
     "output_type": "execute_result"
    }
   ],
   "source": [
    "actual_data.groupby(['exp_id'])['device_id'].nunique()"
   ]
  },
  {
   "cell_type": "markdown",
   "metadata": {},
   "source": [
    "Let's check do we have the same users in several test groups?"
   ]
  },
  {
   "cell_type": "code",
   "execution_count": 30,
   "metadata": {},
   "outputs": [
    {
     "data": {
      "text/html": [
       "<div>\n",
       "<style scoped>\n",
       "    .dataframe tbody tr th:only-of-type {\n",
       "        vertical-align: middle;\n",
       "    }\n",
       "\n",
       "    .dataframe tbody tr th {\n",
       "        vertical-align: top;\n",
       "    }\n",
       "\n",
       "    .dataframe thead th {\n",
       "        text-align: right;\n",
       "    }\n",
       "</style>\n",
       "<table border=\"1\" class=\"dataframe\">\n",
       "  <thead>\n",
       "    <tr style=\"text-align: right;\">\n",
       "      <th></th>\n",
       "      <th>device_id</th>\n",
       "      <th>exp_id</th>\n",
       "    </tr>\n",
       "  </thead>\n",
       "  <tbody>\n",
       "  </tbody>\n",
       "</table>\n",
       "</div>"
      ],
      "text/plain": [
       "Empty DataFrame\n",
       "Columns: [device_id, exp_id]\n",
       "Index: []"
      ]
     },
     "execution_count": 30,
     "metadata": {},
     "output_type": "execute_result"
    }
   ],
   "source": [
    "actual_data.groupby('device_id')['exp_id'].nunique().reset_index().query('exp_id > 1')"
   ]
  },
  {
   "cell_type": "markdown",
   "metadata": {},
   "source": [
    "The table is empty so, we didn't"
   ]
  },
  {
   "cell_type": "markdown",
   "metadata": {},
   "source": [
    "### We have two control groups in the A/A test, where we check our mechanisms and calculations. See if there is a statistically significant difference between samples 246 and 247."
   ]
  },
  {
   "cell_type": "markdown",
   "metadata": {},
   "source": [
    "We'll declare hypotheses in the following way:   \n",
    "1. H0 (Null): **There is NO statistically significant difference between the two groups**    \n",
    "\n",
    "2. H1 (Alternative): **Yes, statistically significant difference exists**"
   ]
  },
  {
   "cell_type": "markdown",
   "metadata": {},
   "source": [
    "We'll create the samples"
   ]
  },
  {
   "cell_type": "code",
   "execution_count": 31,
   "metadata": {},
   "outputs": [],
   "source": [
    "test_1=actual_data[actual_data.exp_id==246]['device_id'].unique()\n",
    "test_2=actual_data[actual_data.exp_id==247]['device_id'].unique()"
   ]
  },
  {
   "cell_type": "markdown",
   "metadata": {},
   "source": [
    "Let's create a function where we'll include all possible variants of the test in terms of checking normality and what particular test we would use for."
   ]
  },
  {
   "cell_type": "code",
   "execution_count": 32,
   "metadata": {},
   "outputs": [],
   "source": [
    "def check_diff(sample1,sample2,alpha=0.05):\n",
    "    stat1, p1_norm=stats.shapiro(sample1)\n",
    "    stat2, p2_norm=stats.shapiro(sample2)\n",
    "    if p1_norm > alpha and p2_norm>alpha:\n",
    "        statslev,p_levene=stats.levene(sample1, sample2)\n",
    "        if p_levene<alpha:\n",
    "            statist,p_value=stats.ttest_ind(sample1, sample2,equal_var=False)\n",
    "        else:\n",
    "            statist,p_value=stats.ttest_ind(sample1, sample2,equal_var=True) \n",
    "    else:\n",
    "        statist,p_value=stats.mannwhitneyu(sample1, sample2)\n",
    "    print(p_value)\n",
    "    if p_value<alpha:\n",
    "        print('Rejecting the null hypothesis')\n",
    "    else:\n",
    "        print('Failed to reject the null hypothesis')"
   ]
  },
  {
   "cell_type": "code",
   "execution_count": 33,
   "metadata": {},
   "outputs": [
    {
     "name": "stdout",
     "output_type": "stream",
     "text": [
      "0.734765634444638\n",
      "Failed to reject the null hypothesis\n"
     ]
    }
   ],
   "source": [
    "check_diff(test_1, test_2,alpha=0.05)"
   ]
  },
  {
   "cell_type": "markdown",
   "metadata": {},
   "source": [
    "**Conclusion:**\n",
    "\n",
    "So, we actually proved that there is no statistically significant difference between samples 246 and 247"
   ]
  },
  {
   "cell_type": "markdown",
   "metadata": {},
   "source": [
    "### Select the most popular event. In each of the control groups, find the number of users who performed this action. Find their share. Check whether the difference between the groups is statistically significant. Repeat the procedure for all other events (it will save time if you create a special function for this test). Can you confirm that the groups were split properly?"
   ]
  },
  {
   "cell_type": "markdown",
   "metadata": {},
   "source": [
    "First let's create a pivot table just to see how many users were achieved the particular event in the particular group"
   ]
  },
  {
   "cell_type": "code",
   "execution_count": 34,
   "metadata": {},
   "outputs": [
    {
     "data": {
      "text/html": [
       "<div>\n",
       "<style scoped>\n",
       "    .dataframe tbody tr th:only-of-type {\n",
       "        vertical-align: middle;\n",
       "    }\n",
       "\n",
       "    .dataframe tbody tr th {\n",
       "        vertical-align: top;\n",
       "    }\n",
       "\n",
       "    .dataframe thead th {\n",
       "        text-align: right;\n",
       "    }\n",
       "</style>\n",
       "<table border=\"1\" class=\"dataframe\">\n",
       "  <thead>\n",
       "    <tr style=\"text-align: right;\">\n",
       "      <th>exp_id</th>\n",
       "      <th>event_name</th>\n",
       "      <th>246</th>\n",
       "      <th>247</th>\n",
       "      <th>248</th>\n",
       "    </tr>\n",
       "  </thead>\n",
       "  <tbody>\n",
       "    <tr>\n",
       "      <th>0</th>\n",
       "      <td>CartScreenAppear</td>\n",
       "      <td>1266</td>\n",
       "      <td>1239</td>\n",
       "      <td>1231</td>\n",
       "    </tr>\n",
       "    <tr>\n",
       "      <th>1</th>\n",
       "      <td>MainScreenAppear</td>\n",
       "      <td>2450</td>\n",
       "      <td>2479</td>\n",
       "      <td>2494</td>\n",
       "    </tr>\n",
       "    <tr>\n",
       "      <th>2</th>\n",
       "      <td>OffersScreenAppear</td>\n",
       "      <td>1542</td>\n",
       "      <td>1524</td>\n",
       "      <td>1531</td>\n",
       "    </tr>\n",
       "    <tr>\n",
       "      <th>3</th>\n",
       "      <td>PaymentScreenSuccessful</td>\n",
       "      <td>1200</td>\n",
       "      <td>1158</td>\n",
       "      <td>1182</td>\n",
       "    </tr>\n",
       "    <tr>\n",
       "      <th>4</th>\n",
       "      <td>Tutorial</td>\n",
       "      <td>278</td>\n",
       "      <td>284</td>\n",
       "      <td>281</td>\n",
       "    </tr>\n",
       "  </tbody>\n",
       "</table>\n",
       "</div>"
      ],
      "text/plain": [
       "exp_id               event_name   246   247   248\n",
       "0              CartScreenAppear  1266  1239  1231\n",
       "1              MainScreenAppear  2450  2479  2494\n",
       "2            OffersScreenAppear  1542  1524  1531\n",
       "3       PaymentScreenSuccessful  1200  1158  1182\n",
       "4                      Tutorial   278   284   281"
      ]
     },
     "execution_count": 34,
     "metadata": {},
     "output_type": "execute_result"
    }
   ],
   "source": [
    "piv_data=actual_data.pivot_table(index='event_name', \n",
    "                                 columns='exp_id',values='device_id',aggfunc='nunique').reset_index()\n",
    "piv_data"
   ]
  },
  {
   "cell_type": "markdown",
   "metadata": {},
   "source": [
    "Now, let's write the next one function for checking is the share of users (from all users in the test) that had accomplished particular event of one test group is statistically different from another?"
   ]
  },
  {
   "cell_type": "code",
   "execution_count": 35,
   "metadata": {},
   "outputs": [],
   "source": [
    "def check_share(group1,group2,event,alpha=0.05):\n",
    "    success1=piv_data[piv_data.event_name==event][group1].iloc[0]\n",
    "    success2=piv_data[piv_data.event_name==event][group2].iloc[0]\n",
    "    \n",
    "    trials1=actual_data[actual_data.exp_id==group1]['device_id'].nunique()\n",
    "    trials2=actual_data[actual_data.exp_id==group2]['device_id'].nunique()\n",
    "    \n",
    "    p1 = success1/trials1\n",
    "    p2 = success2/trials2\n",
    "\n",
    "    p_combined = (success1 + success2) / (trials1 + trials2)\n",
    "\n",
    "    difference = p1 - p2\n",
    "\n",
    "    z_value = difference / mth.sqrt(p_combined * (1 - p_combined) * (1/trials1 + 1/trials2))\n",
    "    distr = stats.norm(0, 1)\n",
    "\n",
    "    p_value = (1 - distr.cdf(abs(z_value))) * 2\n",
    "\n",
    "    print('p-value: ', p_value)\n",
    "\n",
    "    if (p_value < alpha):\n",
    "        print(\"Rejecting the null hypothesis for\", event,\"and groups\", group1,group2)\n",
    "    else:\n",
    "        print(\"Failed to reject the null hypothesis for\",event,\"and groups\", group1,group2)"
   ]
  },
  {
   "cell_type": "markdown",
   "metadata": {},
   "source": [
    "And again, we'll declare hypotheses in the following way:   \n",
    "1. H0 (Null): **There is NO statistically significant difference between the two groups**    \n",
    "\n",
    "2. H1 (Alternative): **Yes, statistically significant difference exists**"
   ]
  },
  {
   "cell_type": "code",
   "execution_count": 36,
   "metadata": {},
   "outputs": [
    {
     "name": "stdout",
     "output_type": "stream",
     "text": [
      "p-value:  0.6756217702005545\n",
      "Failed to reject the null hypothesis for MainScreenAppear and groups 246 247\n"
     ]
    }
   ],
   "source": [
    "check_share(246,247,'MainScreenAppear',alpha=0.05)"
   ]
  },
  {
   "cell_type": "markdown",
   "metadata": {},
   "source": [
    "Ok, for the most popular event we can declare that there is no statistically significant difference between group 246 and 247 and for action \"MainScreenAppear\".    \n",
    "Let's accomplish this test for another ones "
   ]
  },
  {
   "cell_type": "code",
   "execution_count": 37,
   "metadata": {},
   "outputs": [
    {
     "name": "stdout",
     "output_type": "stream",
     "text": [
      "p-value:  0.26698769175859516\n",
      "Failed to reject the null hypothesis for OffersScreenAppear and groups 246 247\n"
     ]
    }
   ],
   "source": [
    "check_share(246,247,'OffersScreenAppear',alpha=0.05)"
   ]
  },
  {
   "cell_type": "code",
   "execution_count": 38,
   "metadata": {},
   "outputs": [
    {
     "name": "stdout",
     "output_type": "stream",
     "text": [
      "p-value:  0.2182812140633792\n",
      "Failed to reject the null hypothesis for CartScreenAppear and groups 246 247\n"
     ]
    }
   ],
   "source": [
    "check_share(246, 247, 'CartScreenAppear', alpha=0.05)"
   ]
  },
  {
   "cell_type": "code",
   "execution_count": 39,
   "metadata": {},
   "outputs": [
    {
     "name": "stdout",
     "output_type": "stream",
     "text": [
      "p-value:  0.10298394982948822\n",
      "Failed to reject the null hypothesis for PaymentScreenSuccessful and groups 246 247\n"
     ]
    }
   ],
   "source": [
    "check_share(246, 247, 'PaymentScreenSuccessful', alpha=0.05)"
   ]
  },
  {
   "cell_type": "code",
   "execution_count": 40,
   "metadata": {},
   "outputs": [
    {
     "name": "stdout",
     "output_type": "stream",
     "text": [
      "p-value:  0.9182790262812368\n",
      "Failed to reject the null hypothesis for Tutorial and groups 246 247\n"
     ]
    }
   ],
   "source": [
    "check_share(246, 247, 'Tutorial', alpha = 0.05)"
   ]
  },
  {
   "cell_type": "markdown",
   "metadata": {},
   "source": [
    "**Conclusion:**   \n",
    "\n",
    "For each event we could say that there is no statistically significant difference between groups 246 and 247 and we can confirm that the groups were split properly"
   ]
  },
  {
   "cell_type": "markdown",
   "metadata": {},
   "source": [
    "### Do the same thing for the group with altered fonts. Compare the results with those of each of the control groups for each event in isolation. Compare the results with the combined results for the control groups. What conclusions can you draw from the experiment?"
   ]
  },
  {
   "cell_type": "markdown",
   "metadata": {},
   "source": [
    "Let's at first compare results for each event between groups 246 and 248"
   ]
  },
  {
   "cell_type": "code",
   "execution_count": 41,
   "metadata": {},
   "outputs": [
    {
     "name": "stdout",
     "output_type": "stream",
     "text": [
      "p-value:  0.08328412977507749\n",
      "Failed to reject the null hypothesis for CartScreenAppear and groups 246 248\n",
      "p-value:  0.34705881021236484\n",
      "Failed to reject the null hypothesis for MainScreenAppear and groups 246 248\n",
      "p-value:  0.20836205402738917\n",
      "Failed to reject the null hypothesis for OffersScreenAppear and groups 246 248\n",
      "p-value:  0.22269358994682742\n",
      "Failed to reject the null hypothesis for PaymentScreenSuccessful and groups 246 248\n",
      "p-value:  0.8964489622133207\n",
      "Failed to reject the null hypothesis for Tutorial and groups 246 248\n"
     ]
    }
   ],
   "source": [
    "for i in piv_data.event_name.unique():\n",
    "    check_share(246,248,i,alpha=0.05)"
   ]
  },
  {
   "cell_type": "markdown",
   "metadata": {},
   "source": [
    "And for groups 247 and 248"
   ]
  },
  {
   "cell_type": "code",
   "execution_count": 42,
   "metadata": {},
   "outputs": [
    {
     "name": "stdout",
     "output_type": "stream",
     "text": [
      "p-value:  0.6169517476996997\n",
      "Failed to reject the null hypothesis for CartScreenAppear and groups 247 248\n",
      "p-value:  0.6001661582453706\n",
      "Failed to reject the null hypothesis for MainScreenAppear and groups 247 248\n",
      "p-value:  0.8835956656016957\n",
      "Failed to reject the null hypothesis for OffersScreenAppear and groups 247 248\n",
      "p-value:  0.6775413642906454\n",
      "Failed to reject the null hypothesis for PaymentScreenSuccessful and groups 247 248\n",
      "p-value:  0.8151967015119994\n",
      "Failed to reject the null hypothesis for Tutorial and groups 247 248\n"
     ]
    }
   ],
   "source": [
    "for i in piv_data.event_name.unique():\n",
    "    check_share(247,248,i,alpha=0.05)"
   ]
  },
  {
   "cell_type": "markdown",
   "metadata": {},
   "source": [
    "Comparing both test groups in isolation with control group we've got that they are all the same: there is no statistically significant difference neither between group 246 and 248 nor between 247 and 248."
   ]
  },
  {
   "cell_type": "markdown",
   "metadata": {},
   "source": [
    "Now we'll compare the results with the combined results for the control groups. First, we'll separate control and test groups into particular DataFrame "
   ]
  },
  {
   "cell_type": "code",
   "execution_count": 43,
   "metadata": {},
   "outputs": [
    {
     "data": {
      "text/html": [
       "<div>\n",
       "<style scoped>\n",
       "    .dataframe tbody tr th:only-of-type {\n",
       "        vertical-align: middle;\n",
       "    }\n",
       "\n",
       "    .dataframe tbody tr th {\n",
       "        vertical-align: top;\n",
       "    }\n",
       "\n",
       "    .dataframe thead th {\n",
       "        text-align: right;\n",
       "    }\n",
       "</style>\n",
       "<table border=\"1\" class=\"dataframe\">\n",
       "  <thead>\n",
       "    <tr style=\"text-align: right;\">\n",
       "      <th></th>\n",
       "      <th>event_name</th>\n",
       "      <th>device_id</th>\n",
       "      <th>event_timestamp</th>\n",
       "      <th>exp_id</th>\n",
       "      <th>date</th>\n",
       "    </tr>\n",
       "  </thead>\n",
       "  <tbody>\n",
       "    <tr>\n",
       "      <th>1990</th>\n",
       "      <td>MainScreenAppear</td>\n",
       "      <td>7701922487875823903</td>\n",
       "      <td>2019-08-01 00:00:57</td>\n",
       "      <td>247</td>\n",
       "      <td>2019-08-01</td>\n",
       "    </tr>\n",
       "    <tr>\n",
       "      <th>1991</th>\n",
       "      <td>MainScreenAppear</td>\n",
       "      <td>2539077412200498909</td>\n",
       "      <td>2019-08-01 00:01:45</td>\n",
       "      <td>247</td>\n",
       "      <td>2019-08-01</td>\n",
       "    </tr>\n",
       "    <tr>\n",
       "      <th>1993</th>\n",
       "      <td>OffersScreenAppear</td>\n",
       "      <td>3187166762535343300</td>\n",
       "      <td>2019-08-01 00:02:23</td>\n",
       "      <td>247</td>\n",
       "      <td>2019-08-01</td>\n",
       "    </tr>\n",
       "    <tr>\n",
       "      <th>1996</th>\n",
       "      <td>OffersScreenAppear</td>\n",
       "      <td>3511569580412335882</td>\n",
       "      <td>2019-08-01 00:06:12</td>\n",
       "      <td>246</td>\n",
       "      <td>2019-08-01</td>\n",
       "    </tr>\n",
       "    <tr>\n",
       "      <th>1997</th>\n",
       "      <td>OffersScreenAppear</td>\n",
       "      <td>3511569580412335882</td>\n",
       "      <td>2019-08-01 00:07:16</td>\n",
       "      <td>246</td>\n",
       "      <td>2019-08-01</td>\n",
       "    </tr>\n",
       "    <tr>\n",
       "      <th>...</th>\n",
       "      <td>...</td>\n",
       "      <td>...</td>\n",
       "      <td>...</td>\n",
       "      <td>...</td>\n",
       "      <td>...</td>\n",
       "    </tr>\n",
       "    <tr>\n",
       "      <th>244121</th>\n",
       "      <td>MainScreenAppear</td>\n",
       "      <td>4599628364049201812</td>\n",
       "      <td>2019-08-08 00:12:25</td>\n",
       "      <td>247</td>\n",
       "      <td>2019-08-08</td>\n",
       "    </tr>\n",
       "    <tr>\n",
       "      <th>244122</th>\n",
       "      <td>MainScreenAppear</td>\n",
       "      <td>5849806612437486590</td>\n",
       "      <td>2019-08-08 00:13:59</td>\n",
       "      <td>246</td>\n",
       "      <td>2019-08-08</td>\n",
       "    </tr>\n",
       "    <tr>\n",
       "      <th>244123</th>\n",
       "      <td>MainScreenAppear</td>\n",
       "      <td>5746969938801999050</td>\n",
       "      <td>2019-08-08 00:14:43</td>\n",
       "      <td>246</td>\n",
       "      <td>2019-08-08</td>\n",
       "    </tr>\n",
       "    <tr>\n",
       "      <th>244124</th>\n",
       "      <td>MainScreenAppear</td>\n",
       "      <td>5746969938801999050</td>\n",
       "      <td>2019-08-08 00:14:58</td>\n",
       "      <td>246</td>\n",
       "      <td>2019-08-08</td>\n",
       "    </tr>\n",
       "    <tr>\n",
       "      <th>244125</th>\n",
       "      <td>OffersScreenAppear</td>\n",
       "      <td>5746969938801999050</td>\n",
       "      <td>2019-08-08 00:15:17</td>\n",
       "      <td>246</td>\n",
       "      <td>2019-08-08</td>\n",
       "    </tr>\n",
       "  </tbody>\n",
       "</table>\n",
       "<p>157097 rows × 5 columns</p>\n",
       "</div>"
      ],
      "text/plain": [
       "                event_name            device_id     event_timestamp  exp_id  \\\n",
       "1990      MainScreenAppear  7701922487875823903 2019-08-01 00:00:57     247   \n",
       "1991      MainScreenAppear  2539077412200498909 2019-08-01 00:01:45     247   \n",
       "1993    OffersScreenAppear  3187166762535343300 2019-08-01 00:02:23     247   \n",
       "1996    OffersScreenAppear  3511569580412335882 2019-08-01 00:06:12     246   \n",
       "1997    OffersScreenAppear  3511569580412335882 2019-08-01 00:07:16     246   \n",
       "...                    ...                  ...                 ...     ...   \n",
       "244121    MainScreenAppear  4599628364049201812 2019-08-08 00:12:25     247   \n",
       "244122    MainScreenAppear  5849806612437486590 2019-08-08 00:13:59     246   \n",
       "244123    MainScreenAppear  5746969938801999050 2019-08-08 00:14:43     246   \n",
       "244124    MainScreenAppear  5746969938801999050 2019-08-08 00:14:58     246   \n",
       "244125  OffersScreenAppear  5746969938801999050 2019-08-08 00:15:17     246   \n",
       "\n",
       "              date  \n",
       "1990    2019-08-01  \n",
       "1991    2019-08-01  \n",
       "1993    2019-08-01  \n",
       "1996    2019-08-01  \n",
       "1997    2019-08-01  \n",
       "...            ...  \n",
       "244121  2019-08-08  \n",
       "244122  2019-08-08  \n",
       "244123  2019-08-08  \n",
       "244124  2019-08-08  \n",
       "244125  2019-08-08  \n",
       "\n",
       "[157097 rows x 5 columns]"
      ]
     },
     "execution_count": 43,
     "metadata": {},
     "output_type": "execute_result"
    }
   ],
   "source": [
    "combined_test = actual_data.query('exp_id == 246 or exp_id == 247')\n",
    "combined_test"
   ]
  },
  {
   "cell_type": "code",
   "execution_count": 44,
   "metadata": {},
   "outputs": [
    {
     "data": {
      "text/html": [
       "<div>\n",
       "<style scoped>\n",
       "    .dataframe tbody tr th:only-of-type {\n",
       "        vertical-align: middle;\n",
       "    }\n",
       "\n",
       "    .dataframe tbody tr th {\n",
       "        vertical-align: top;\n",
       "    }\n",
       "\n",
       "    .dataframe thead th {\n",
       "        text-align: right;\n",
       "    }\n",
       "</style>\n",
       "<table border=\"1\" class=\"dataframe\">\n",
       "  <thead>\n",
       "    <tr style=\"text-align: right;\">\n",
       "      <th></th>\n",
       "      <th>event_name</th>\n",
       "      <th>device_id</th>\n",
       "    </tr>\n",
       "  </thead>\n",
       "  <tbody>\n",
       "    <tr>\n",
       "      <th>0</th>\n",
       "      <td>CartScreenAppear</td>\n",
       "      <td>2505</td>\n",
       "    </tr>\n",
       "    <tr>\n",
       "      <th>1</th>\n",
       "      <td>MainScreenAppear</td>\n",
       "      <td>4929</td>\n",
       "    </tr>\n",
       "    <tr>\n",
       "      <th>2</th>\n",
       "      <td>OffersScreenAppear</td>\n",
       "      <td>3066</td>\n",
       "    </tr>\n",
       "    <tr>\n",
       "      <th>3</th>\n",
       "      <td>PaymentScreenSuccessful</td>\n",
       "      <td>2358</td>\n",
       "    </tr>\n",
       "    <tr>\n",
       "      <th>4</th>\n",
       "      <td>Tutorial</td>\n",
       "      <td>562</td>\n",
       "    </tr>\n",
       "  </tbody>\n",
       "</table>\n",
       "</div>"
      ],
      "text/plain": [
       "                event_name  device_id\n",
       "0         CartScreenAppear       2505\n",
       "1         MainScreenAppear       4929\n",
       "2       OffersScreenAppear       3066\n",
       "3  PaymentScreenSuccessful       2358\n",
       "4                 Tutorial        562"
      ]
     },
     "execution_count": 44,
     "metadata": {},
     "output_type": "execute_result"
    }
   ],
   "source": [
    "piv_comb_test = combined_test.pivot_table(index = 'event_name', values = 'device_id', aggfunc = 'nunique').reset_index()\n",
    "piv_comb_test"
   ]
  },
  {
   "cell_type": "code",
   "execution_count": 45,
   "metadata": {},
   "outputs": [
    {
     "data": {
      "text/html": [
       "<div>\n",
       "<style scoped>\n",
       "    .dataframe tbody tr th:only-of-type {\n",
       "        vertical-align: middle;\n",
       "    }\n",
       "\n",
       "    .dataframe tbody tr th {\n",
       "        vertical-align: top;\n",
       "    }\n",
       "\n",
       "    .dataframe thead th {\n",
       "        text-align: right;\n",
       "    }\n",
       "</style>\n",
       "<table border=\"1\" class=\"dataframe\">\n",
       "  <thead>\n",
       "    <tr style=\"text-align: right;\">\n",
       "      <th></th>\n",
       "      <th>event_name</th>\n",
       "      <th>device_id</th>\n",
       "      <th>event_timestamp</th>\n",
       "      <th>exp_id</th>\n",
       "      <th>date</th>\n",
       "    </tr>\n",
       "  </thead>\n",
       "  <tbody>\n",
       "    <tr>\n",
       "      <th>1992</th>\n",
       "      <td>OffersScreenAppear</td>\n",
       "      <td>3286987355161301427</td>\n",
       "      <td>2019-08-01 00:02:21</td>\n",
       "      <td>248</td>\n",
       "      <td>2019-08-01</td>\n",
       "    </tr>\n",
       "    <tr>\n",
       "      <th>1994</th>\n",
       "      <td>MainScreenAppear</td>\n",
       "      <td>1118952406011435924</td>\n",
       "      <td>2019-08-01 00:03:25</td>\n",
       "      <td>248</td>\n",
       "      <td>2019-08-01</td>\n",
       "    </tr>\n",
       "    <tr>\n",
       "      <th>1995</th>\n",
       "      <td>MainScreenAppear</td>\n",
       "      <td>929387516286850088</td>\n",
       "      <td>2019-08-01 00:05:35</td>\n",
       "      <td>248</td>\n",
       "      <td>2019-08-01</td>\n",
       "    </tr>\n",
       "    <tr>\n",
       "      <th>2001</th>\n",
       "      <td>MainScreenAppear</td>\n",
       "      <td>929387516286850088</td>\n",
       "      <td>2019-08-01 00:07:51</td>\n",
       "      <td>248</td>\n",
       "      <td>2019-08-01</td>\n",
       "    </tr>\n",
       "    <tr>\n",
       "      <th>2002</th>\n",
       "      <td>MainScreenAppear</td>\n",
       "      <td>929387516286850088</td>\n",
       "      <td>2019-08-01 00:08:04</td>\n",
       "      <td>248</td>\n",
       "      <td>2019-08-01</td>\n",
       "    </tr>\n",
       "    <tr>\n",
       "      <th>...</th>\n",
       "      <td>...</td>\n",
       "      <td>...</td>\n",
       "      <td>...</td>\n",
       "      <td>...</td>\n",
       "      <td>...</td>\n",
       "    </tr>\n",
       "    <tr>\n",
       "      <th>244082</th>\n",
       "      <td>MainScreenAppear</td>\n",
       "      <td>8249271441488197538</td>\n",
       "      <td>2019-08-08 00:03:33</td>\n",
       "      <td>248</td>\n",
       "      <td>2019-08-08</td>\n",
       "    </tr>\n",
       "    <tr>\n",
       "      <th>244084</th>\n",
       "      <td>OffersScreenAppear</td>\n",
       "      <td>8249271441488197538</td>\n",
       "      <td>2019-08-08 00:03:43</td>\n",
       "      <td>248</td>\n",
       "      <td>2019-08-08</td>\n",
       "    </tr>\n",
       "    <tr>\n",
       "      <th>244109</th>\n",
       "      <td>MainScreenAppear</td>\n",
       "      <td>5317814261427487562</td>\n",
       "      <td>2019-08-08 00:09:22</td>\n",
       "      <td>248</td>\n",
       "      <td>2019-08-08</td>\n",
       "    </tr>\n",
       "    <tr>\n",
       "      <th>244110</th>\n",
       "      <td>OffersScreenAppear</td>\n",
       "      <td>5317814261427487562</td>\n",
       "      <td>2019-08-08 00:09:27</td>\n",
       "      <td>248</td>\n",
       "      <td>2019-08-08</td>\n",
       "    </tr>\n",
       "    <tr>\n",
       "      <th>244115</th>\n",
       "      <td>OffersScreenAppear</td>\n",
       "      <td>5317814261427487562</td>\n",
       "      <td>2019-08-08 00:10:08</td>\n",
       "      <td>248</td>\n",
       "      <td>2019-08-08</td>\n",
       "    </tr>\n",
       "  </tbody>\n",
       "</table>\n",
       "<p>85039 rows × 5 columns</p>\n",
       "</div>"
      ],
      "text/plain": [
       "                event_name            device_id     event_timestamp  exp_id  \\\n",
       "1992    OffersScreenAppear  3286987355161301427 2019-08-01 00:02:21     248   \n",
       "1994      MainScreenAppear  1118952406011435924 2019-08-01 00:03:25     248   \n",
       "1995      MainScreenAppear   929387516286850088 2019-08-01 00:05:35     248   \n",
       "2001      MainScreenAppear   929387516286850088 2019-08-01 00:07:51     248   \n",
       "2002      MainScreenAppear   929387516286850088 2019-08-01 00:08:04     248   \n",
       "...                    ...                  ...                 ...     ...   \n",
       "244082    MainScreenAppear  8249271441488197538 2019-08-08 00:03:33     248   \n",
       "244084  OffersScreenAppear  8249271441488197538 2019-08-08 00:03:43     248   \n",
       "244109    MainScreenAppear  5317814261427487562 2019-08-08 00:09:22     248   \n",
       "244110  OffersScreenAppear  5317814261427487562 2019-08-08 00:09:27     248   \n",
       "244115  OffersScreenAppear  5317814261427487562 2019-08-08 00:10:08     248   \n",
       "\n",
       "              date  \n",
       "1992    2019-08-01  \n",
       "1994    2019-08-01  \n",
       "1995    2019-08-01  \n",
       "2001    2019-08-01  \n",
       "2002    2019-08-01  \n",
       "...            ...  \n",
       "244082  2019-08-08  \n",
       "244084  2019-08-08  \n",
       "244109  2019-08-08  \n",
       "244110  2019-08-08  \n",
       "244115  2019-08-08  \n",
       "\n",
       "[85039 rows x 5 columns]"
      ]
     },
     "execution_count": 45,
     "metadata": {},
     "output_type": "execute_result"
    }
   ],
   "source": [
    "control = actual_data.query('exp_id == 248')\n",
    "control"
   ]
  },
  {
   "cell_type": "code",
   "execution_count": 46,
   "metadata": {},
   "outputs": [
    {
     "data": {
      "text/html": [
       "<div>\n",
       "<style scoped>\n",
       "    .dataframe tbody tr th:only-of-type {\n",
       "        vertical-align: middle;\n",
       "    }\n",
       "\n",
       "    .dataframe tbody tr th {\n",
       "        vertical-align: top;\n",
       "    }\n",
       "\n",
       "    .dataframe thead th {\n",
       "        text-align: right;\n",
       "    }\n",
       "</style>\n",
       "<table border=\"1\" class=\"dataframe\">\n",
       "  <thead>\n",
       "    <tr style=\"text-align: right;\">\n",
       "      <th></th>\n",
       "      <th>event_name</th>\n",
       "      <th>device_id</th>\n",
       "    </tr>\n",
       "  </thead>\n",
       "  <tbody>\n",
       "    <tr>\n",
       "      <th>0</th>\n",
       "      <td>CartScreenAppear</td>\n",
       "      <td>1231</td>\n",
       "    </tr>\n",
       "    <tr>\n",
       "      <th>1</th>\n",
       "      <td>MainScreenAppear</td>\n",
       "      <td>2494</td>\n",
       "    </tr>\n",
       "    <tr>\n",
       "      <th>2</th>\n",
       "      <td>OffersScreenAppear</td>\n",
       "      <td>1531</td>\n",
       "    </tr>\n",
       "    <tr>\n",
       "      <th>3</th>\n",
       "      <td>PaymentScreenSuccessful</td>\n",
       "      <td>1182</td>\n",
       "    </tr>\n",
       "    <tr>\n",
       "      <th>4</th>\n",
       "      <td>Tutorial</td>\n",
       "      <td>281</td>\n",
       "    </tr>\n",
       "  </tbody>\n",
       "</table>\n",
       "</div>"
      ],
      "text/plain": [
       "                event_name  device_id\n",
       "0         CartScreenAppear       1231\n",
       "1         MainScreenAppear       2494\n",
       "2       OffersScreenAppear       1531\n",
       "3  PaymentScreenSuccessful       1182\n",
       "4                 Tutorial        281"
      ]
     },
     "execution_count": 46,
     "metadata": {},
     "output_type": "execute_result"
    }
   ],
   "source": [
    "piv_control = control.pivot_table(index = 'event_name', values = 'device_id', aggfunc = 'nunique').reset_index()\n",
    "piv_control"
   ]
  },
  {
   "cell_type": "markdown",
   "metadata": {},
   "source": [
    "Let's adjust little bit function "
   ]
  },
  {
   "cell_type": "code",
   "execution_count": 47,
   "metadata": {},
   "outputs": [],
   "source": [
    "def check_share_comb(event,alpha=0.05):\n",
    "    success1=piv_comb_test[piv_comb_test.event_name==event]['device_id'].iloc[0]\n",
    "    success2=piv_control[piv_control.event_name==event]['device_id'].iloc[0]\n",
    "    \n",
    "    trials1=combined_test['device_id'].nunique()\n",
    "    trials2=control['device_id'].nunique()\n",
    "    \n",
    "    p1 = success1/trials1\n",
    "    p2 = success2/trials2\n",
    "\n",
    "    p_combined = (success1 + success2) / (trials1 + trials2)\n",
    "\n",
    "    difference = p1 - p2\n",
    "\n",
    "    z_value = difference / mth.sqrt(p_combined * (1 - p_combined) * (1/trials1 + 1/trials2))\n",
    "    distr = stats.norm(0, 1)\n",
    "\n",
    "    p_value = (1 - distr.cdf(abs(z_value))) * 2\n",
    "\n",
    "    print('p-value: ', p_value)\n",
    "\n",
    "    if (p_value < alpha):\n",
    "        print(\"Rejecting the null hypothesis for\", event)\n",
    "    else:\n",
    "        print(\"Failed to reject the null hypothesis for\",event)"
   ]
  },
  {
   "cell_type": "code",
   "execution_count": 48,
   "metadata": {},
   "outputs": [
    {
     "name": "stdout",
     "output_type": "stream",
     "text": [
      "p-value:  0.19819340844527744\n",
      "Failed to reject the null hypothesis for CartScreenAppear\n",
      "p-value:  0.39298914928006035\n",
      "Failed to reject the null hypothesis for MainScreenAppear\n",
      "p-value:  0.418998284007599\n",
      "Failed to reject the null hypothesis for OffersScreenAppear\n",
      "p-value:  0.6452057673098244\n",
      "Failed to reject the null hypothesis for PaymentScreenSuccessful\n",
      "p-value:  0.8333049080125807\n",
      "Failed to reject the null hypothesis for Tutorial\n"
     ]
    }
   ],
   "source": [
    "for i in piv_control.event_name.unique():\n",
    "    check_share_comb(i,alpha=0.05)"
   ]
  },
  {
   "cell_type": "markdown",
   "metadata": {},
   "source": [
    "So, we see, that there is no statistically significant difference between combined control and test groups. It might make sense that our hypothesis with fonts doesn't work "
   ]
  },
  {
   "cell_type": "markdown",
   "metadata": {},
   "source": [
    "### What significance level have you set to test the statistical hypotheses mentioned above? Calculate how many statistical hypothesis tests you carried out. With a statistical significance level of 0.1, one in 10 results could be false. What should the significance level be? If you want to change it, run through the previous steps again and check your conclusions."
   ]
  },
  {
   "cell_type": "markdown",
   "metadata": {},
   "source": [
    "According to the theory that we've passed, doing hypothesis tests we might face two types of errors:   \n",
    "- Type 1 (Null hypothesis wrongly rejected)   \n",
    "- Type 2 (Null hypothesis wrongly accepted)   \n",
    "\n",
    "To avoid that we have to make correlation by using one of method and the **Bonferroni correction** is the most common because of its simplicity. So, we have to reduce alpha value by dividing him into the number of tests that we carried out. It has to look like:    \n",
    "bonferroni_alpha = alpha / number of tests   \n",
    "\n",
    "It is little bit weird, because the p_value that we retrieve all time more than alpha value. And reducing alpha value doesn't give us anything, but let's consider our last test, we have to set correction with 5 tests "
   ]
  },
  {
   "cell_type": "code",
   "execution_count": 49,
   "metadata": {},
   "outputs": [],
   "source": [
    "def check_share_comb1(event,alpha=0.01):\n",
    "    success1=piv_comb_test[piv_comb_test.event_name==event]['device_id'].iloc[0]\n",
    "    success2=piv_control[piv_control.event_name==event]['device_id'].iloc[0]\n",
    "    \n",
    "    trials1=combined_test['device_id'].nunique()\n",
    "    trials2=control['device_id'].nunique()\n",
    "    \n",
    "    p1 = success1/trials1\n",
    "    p2 = success2/trials2\n",
    "\n",
    "    p_combined = (success1 + success2) / (trials1 + trials2)\n",
    "\n",
    "    difference = p1 - p2\n",
    "\n",
    "    z_value = difference / mth.sqrt(p_combined * (1 - p_combined) * (1/trials1 + 1/trials2))\n",
    "    distr = stats.norm(0, 1)\n",
    "\n",
    "    p_value = (1 - distr.cdf(abs(z_value))) * 2\n",
    "\n",
    "    print('p-value: ', p_value)\n",
    "\n",
    "    if (p_value < alpha):\n",
    "        print(\"Rejecting the null hypothesis for\", event)\n",
    "    else:\n",
    "        print(\"Failed to reject the null hypothesis for\",event)"
   ]
  },
  {
   "cell_type": "code",
   "execution_count": 50,
   "metadata": {},
   "outputs": [
    {
     "name": "stdout",
     "output_type": "stream",
     "text": [
      "p-value:  0.19819340844527744\n",
      "Failed to reject the null hypothesis for CartScreenAppear\n",
      "p-value:  0.39298914928006035\n",
      "Failed to reject the null hypothesis for MainScreenAppear\n",
      "p-value:  0.418998284007599\n",
      "Failed to reject the null hypothesis for OffersScreenAppear\n",
      "p-value:  0.6452057673098244\n",
      "Failed to reject the null hypothesis for PaymentScreenSuccessful\n",
      "p-value:  0.8333049080125807\n",
      "Failed to reject the null hypothesis for Tutorial\n"
     ]
    }
   ],
   "source": [
    "for i in piv_control.event_name.unique():\n",
    "    check_share_comb1(i,alpha=0.01)"
   ]
  },
  {
   "cell_type": "markdown",
   "metadata": {},
   "source": [
    "As I've mentioned above, we still have retrieved two groups with no statistically significant difference between them. "
   ]
  },
  {
   "cell_type": "markdown",
   "metadata": {},
   "source": [
    "**Conclusion:**   \n",
    "\n",
    "Ok, based on several results of A/A/B test we could say that there is no evidence of increasing sales after fonts have been changed.   \n",
    "First, our sales funnel looks similar in terms of dividing into three groups, the percentage between stages varies into 1-2%. The most significant loss of leads is between Main Screen and Offer screen.   \n",
    "Also, in all proportion test the results were the same: there is no statistically significant difference neither than we compare two test groups with control in isolation nor between combined test group and control as well. Even if we'll decrease statistical significance level, we'll obtain the same outcomes   "
   ]
  }
 ],
 "metadata": {
  "ExecuteTimeLog": [
   {
    "duration": 375,
    "start_time": "2022-04-25T19:28:09.783Z"
   },
   {
    "duration": 790,
    "start_time": "2022-04-25T19:29:43.544Z"
   },
   {
    "duration": 131,
    "start_time": "2022-04-25T19:30:07.962Z"
   },
   {
    "duration": 281,
    "start_time": "2022-04-25T19:30:24.454Z"
   },
   {
    "duration": 135,
    "start_time": "2022-04-25T19:30:50.624Z"
   },
   {
    "duration": 131,
    "start_time": "2022-04-25T19:30:57.579Z"
   },
   {
    "duration": 262,
    "start_time": "2022-04-25T19:31:08.891Z"
   },
   {
    "duration": 267,
    "start_time": "2022-04-25T19:34:22.084Z"
   },
   {
    "duration": 138,
    "start_time": "2022-04-25T19:34:36.335Z"
   },
   {
    "duration": 274,
    "start_time": "2022-04-25T19:34:45.160Z"
   },
   {
    "duration": 263,
    "start_time": "2022-04-25T19:37:37.536Z"
   },
   {
    "duration": 617,
    "start_time": "2022-04-25T19:37:49.456Z"
   },
   {
    "duration": 162,
    "start_time": "2022-04-25T19:37:56.656Z"
   },
   {
    "duration": 154,
    "start_time": "2022-04-25T19:38:51.534Z"
   },
   {
    "duration": 573,
    "start_time": "2022-04-25T19:38:55.103Z"
   },
   {
    "duration": 134,
    "start_time": "2022-04-25T19:39:07.170Z"
   },
   {
    "duration": 63,
    "start_time": "2022-04-25T19:39:43.225Z"
   },
   {
    "duration": 943,
    "start_time": "2022-04-25T19:40:06.539Z"
   },
   {
    "duration": 932,
    "start_time": "2022-04-25T19:40:12.255Z"
   },
   {
    "duration": 2987,
    "start_time": "2022-04-25T19:40:52.887Z"
   },
   {
    "duration": 2353,
    "start_time": "2022-04-25T19:40:57.582Z"
   },
   {
    "duration": 6,
    "start_time": "2022-04-25T19:41:03.082Z"
   },
   {
    "duration": 21,
    "start_time": "2022-04-25T19:41:20.178Z"
   },
   {
    "duration": 9,
    "start_time": "2022-04-25T19:42:42.209Z"
   },
   {
    "duration": 219,
    "start_time": "2022-04-25T19:42:48.267Z"
   },
   {
    "duration": 29,
    "start_time": "2022-04-25T19:42:53.661Z"
   },
   {
    "duration": 14,
    "start_time": "2022-04-25T19:44:14.030Z"
   },
   {
    "duration": 203,
    "start_time": "2022-04-25T19:44:30.231Z"
   },
   {
    "duration": 28,
    "start_time": "2022-04-25T19:44:32.818Z"
   },
   {
    "duration": 178,
    "start_time": "2022-04-25T19:44:57.538Z"
   },
   {
    "duration": 20,
    "start_time": "2022-04-25T19:44:58.575Z"
   },
   {
    "duration": 40,
    "start_time": "2022-04-25T19:45:21.047Z"
   },
   {
    "duration": 130,
    "start_time": "2022-04-25T19:52:52.043Z"
   },
   {
    "duration": 143,
    "start_time": "2022-04-25T19:53:21.016Z"
   },
   {
    "duration": 12,
    "start_time": "2022-04-25T19:53:33.577Z"
   },
   {
    "duration": 8,
    "start_time": "2022-04-25T19:53:38.712Z"
   },
   {
    "duration": 59,
    "start_time": "2022-04-26T14:47:17.054Z"
   },
   {
    "duration": 3660,
    "start_time": "2022-04-26T14:47:20.710Z"
   },
   {
    "duration": 609,
    "start_time": "2022-04-26T14:47:25.359Z"
   },
   {
    "duration": 255,
    "start_time": "2022-04-26T14:47:28.195Z"
   },
   {
    "duration": 59,
    "start_time": "2022-04-26T14:47:33.361Z"
   },
   {
    "duration": 9,
    "start_time": "2022-04-26T14:47:36.176Z"
   },
   {
    "duration": 713,
    "start_time": "2022-04-26T16:38:02.397Z"
   },
   {
    "duration": 21,
    "start_time": "2022-04-26T16:38:12.129Z"
   },
   {
    "duration": 8,
    "start_time": "2022-04-26T16:58:12.313Z"
   },
   {
    "duration": 207,
    "start_time": "2022-04-26T17:03:17.626Z"
   },
   {
    "duration": 16,
    "start_time": "2022-04-26T17:03:19.641Z"
   },
   {
    "duration": 63,
    "start_time": "2022-04-26T17:03:25.371Z"
   },
   {
    "duration": 140,
    "start_time": "2022-04-26T17:04:02.816Z"
   },
   {
    "duration": 15,
    "start_time": "2022-04-26T17:04:05.219Z"
   },
   {
    "duration": 37,
    "start_time": "2022-04-26T17:04:09.660Z"
   },
   {
    "duration": 31,
    "start_time": "2022-04-26T17:10:19.860Z"
   },
   {
    "duration": 2530,
    "start_time": "2022-04-26T17:11:10.594Z"
   },
   {
    "duration": 2191,
    "start_time": "2022-04-26T17:13:28.734Z"
   },
   {
    "duration": 143,
    "start_time": "2022-04-26T17:14:34.667Z"
   },
   {
    "duration": 14,
    "start_time": "2022-04-26T17:14:36.689Z"
   },
   {
    "duration": 7,
    "start_time": "2022-04-26T17:14:42.406Z"
   },
   {
    "duration": 35,
    "start_time": "2022-04-26T17:14:44.348Z"
   },
   {
    "duration": 42,
    "start_time": "2022-04-26T17:14:50.615Z"
   },
   {
    "duration": 7,
    "start_time": "2022-04-26T17:19:27.143Z"
   },
   {
    "duration": 4,
    "start_time": "2022-04-26T17:20:02.223Z"
   },
   {
    "duration": 222,
    "start_time": "2022-04-26T17:20:03.450Z"
   },
   {
    "duration": 19,
    "start_time": "2022-04-26T17:20:06.083Z"
   },
   {
    "duration": 11,
    "start_time": "2022-04-26T17:20:08.449Z"
   },
   {
    "duration": 10,
    "start_time": "2022-04-26T17:20:09.753Z"
   },
   {
    "duration": 3,
    "start_time": "2022-04-26T17:21:07.116Z"
   },
   {
    "duration": 141,
    "start_time": "2022-04-26T17:21:08.025Z"
   },
   {
    "duration": 9,
    "start_time": "2022-04-26T17:21:12.890Z"
   },
   {
    "duration": 9,
    "start_time": "2022-04-26T17:21:15.191Z"
   },
   {
    "duration": 9,
    "start_time": "2022-04-26T18:07:57.598Z"
   },
   {
    "duration": 21,
    "start_time": "2022-04-26T18:08:12.101Z"
   },
   {
    "duration": 131,
    "start_time": "2022-04-26T18:08:21.197Z"
   },
   {
    "duration": 14,
    "start_time": "2022-04-26T18:08:22.725Z"
   },
   {
    "duration": 19,
    "start_time": "2022-04-26T18:08:24.187Z"
   },
   {
    "duration": 9,
    "start_time": "2022-04-26T18:08:31.663Z"
   },
   {
    "duration": 9,
    "start_time": "2022-04-26T18:08:32.509Z"
   },
   {
    "duration": 2471,
    "start_time": "2022-04-26T18:17:10.024Z"
   },
   {
    "duration": 364,
    "start_time": "2022-04-26T18:17:12.498Z"
   },
   {
    "duration": 142,
    "start_time": "2022-04-26T18:17:12.864Z"
   },
   {
    "duration": 20,
    "start_time": "2022-04-26T18:17:13.008Z"
   },
   {
    "duration": 32,
    "start_time": "2022-04-26T18:17:13.029Z"
   },
   {
    "duration": 19,
    "start_time": "2022-04-26T18:17:13.062Z"
   },
   {
    "duration": 84,
    "start_time": "2022-04-26T18:17:13.082Z"
   },
   {
    "duration": 12,
    "start_time": "2022-04-26T18:21:26.591Z"
   },
   {
    "duration": 12,
    "start_time": "2022-04-26T18:21:30.807Z"
   },
   {
    "duration": 21,
    "start_time": "2022-04-26T18:21:34.235Z"
   },
   {
    "duration": 3,
    "start_time": "2022-04-26T18:21:42.240Z"
   },
   {
    "duration": 151,
    "start_time": "2022-04-26T18:21:43.818Z"
   },
   {
    "duration": 17,
    "start_time": "2022-04-26T18:21:46.557Z"
   },
   {
    "duration": 21,
    "start_time": "2022-04-26T18:21:48.462Z"
   },
   {
    "duration": 41,
    "start_time": "2022-04-26T18:22:13.802Z"
   },
   {
    "duration": 9,
    "start_time": "2022-04-26T18:22:25.234Z"
   },
   {
    "duration": 10,
    "start_time": "2022-04-26T18:22:27.126Z"
   },
   {
    "duration": 69,
    "start_time": "2022-04-26T18:23:11.818Z"
   },
   {
    "duration": 9,
    "start_time": "2022-04-26T18:23:22.153Z"
   },
   {
    "duration": 154,
    "start_time": "2022-04-26T18:24:30.260Z"
   },
   {
    "duration": 54,
    "start_time": "2022-04-27T14:21:11.412Z"
   },
   {
    "duration": 3228,
    "start_time": "2022-04-27T14:21:21.782Z"
   },
   {
    "duration": 405,
    "start_time": "2022-04-27T14:21:25.013Z"
   },
   {
    "duration": 216,
    "start_time": "2022-04-27T14:21:25.420Z"
   },
   {
    "duration": 18,
    "start_time": "2022-04-27T14:21:25.638Z"
   },
   {
    "duration": 51,
    "start_time": "2022-04-27T14:21:25.657Z"
   },
   {
    "duration": 21,
    "start_time": "2022-04-27T14:21:25.710Z"
   },
   {
    "duration": 164,
    "start_time": "2022-04-27T14:21:25.733Z"
   },
   {
    "duration": 174,
    "start_time": "2022-04-27T14:21:56.373Z"
   },
   {
    "duration": 157,
    "start_time": "2022-04-27T14:54:38.845Z"
   },
   {
    "duration": 165,
    "start_time": "2022-04-27T14:54:49.685Z"
   },
   {
    "duration": 13,
    "start_time": "2022-04-27T14:54:51.959Z"
   },
   {
    "duration": 34,
    "start_time": "2022-04-27T14:54:53.136Z"
   },
   {
    "duration": 8,
    "start_time": "2022-04-27T14:54:53.885Z"
   },
   {
    "duration": 155,
    "start_time": "2022-04-27T14:54:54.521Z"
   },
   {
    "duration": 15,
    "start_time": "2022-04-27T14:56:32.224Z"
   },
   {
    "duration": 84,
    "start_time": "2022-04-27T15:00:17.185Z"
   },
   {
    "duration": 39,
    "start_time": "2022-04-27T15:20:06.413Z"
   },
   {
    "duration": 74,
    "start_time": "2022-04-27T15:21:20.514Z"
   },
   {
    "duration": 8,
    "start_time": "2022-04-27T16:31:54.713Z"
   },
   {
    "duration": 18,
    "start_time": "2022-04-27T16:33:55.683Z"
   },
   {
    "duration": 56,
    "start_time": "2022-04-27T16:49:55.322Z"
   },
   {
    "duration": 111,
    "start_time": "2022-04-27T16:50:29.896Z"
   },
   {
    "duration": 63,
    "start_time": "2022-04-27T16:50:38.849Z"
   },
   {
    "duration": 57,
    "start_time": "2022-04-27T16:51:04.099Z"
   },
   {
    "duration": 61,
    "start_time": "2022-04-27T18:11:05.109Z"
   },
   {
    "duration": 55,
    "start_time": "2022-04-27T18:16:50.466Z"
   },
   {
    "duration": 97,
    "start_time": "2022-04-27T18:21:54.039Z"
   },
   {
    "duration": 62,
    "start_time": "2022-04-27T18:22:06.155Z"
   },
   {
    "duration": 15,
    "start_time": "2022-04-27T18:31:10.625Z"
   },
   {
    "duration": 4,
    "start_time": "2022-04-27T18:31:29.980Z"
   },
   {
    "duration": 5,
    "start_time": "2022-04-27T18:31:44.378Z"
   },
   {
    "duration": 100,
    "start_time": "2022-04-27T18:33:07.925Z"
   },
   {
    "duration": 6217,
    "start_time": "2022-04-27T18:37:59.522Z"
   },
   {
    "duration": 5429,
    "start_time": "2022-04-27T18:40:01.242Z"
   },
   {
    "duration": 5135,
    "start_time": "2022-04-27T18:46:44.751Z"
   },
   {
    "duration": 5203,
    "start_time": "2022-04-27T18:50:35.062Z"
   },
   {
    "duration": 51,
    "start_time": "2022-04-30T16:16:10.202Z"
   },
   {
    "duration": 49912,
    "start_time": "2022-04-30T16:20:20.374Z"
   },
   {
    "duration": 143,
    "start_time": "2022-04-30T16:21:17.596Z"
   },
   {
    "duration": 160,
    "start_time": "2022-04-30T16:21:19.285Z"
   },
   {
    "duration": 21,
    "start_time": "2022-04-30T16:21:22.562Z"
   },
   {
    "duration": 40,
    "start_time": "2022-04-30T16:21:23.769Z"
   },
   {
    "duration": 42,
    "start_time": "2022-04-30T16:21:24.706Z"
   },
   {
    "duration": 8,
    "start_time": "2022-04-30T16:21:27.973Z"
   },
   {
    "duration": 160,
    "start_time": "2022-04-30T16:21:28.940Z"
   },
   {
    "duration": 78,
    "start_time": "2022-04-30T16:21:29.900Z"
   },
   {
    "duration": 12,
    "start_time": "2022-04-30T16:21:33.480Z"
   },
   {
    "duration": 22,
    "start_time": "2022-04-30T16:21:35.951Z"
   },
   {
    "duration": 61,
    "start_time": "2022-04-30T16:21:36.734Z"
   },
   {
    "duration": 6,
    "start_time": "2022-04-30T16:21:39.771Z"
   },
   {
    "duration": 5,
    "start_time": "2022-04-30T16:21:40.571Z"
   },
   {
    "duration": 6473,
    "start_time": "2022-04-30T16:21:42.033Z"
   },
   {
    "duration": 18,
    "start_time": "2022-04-30T16:43:45.258Z"
   },
   {
    "duration": 23,
    "start_time": "2022-04-30T16:43:51.854Z"
   },
   {
    "duration": 333,
    "start_time": "2022-04-30T16:45:13.920Z"
   },
   {
    "duration": 24,
    "start_time": "2022-04-30T16:46:37.573Z"
   },
   {
    "duration": 6019,
    "start_time": "2022-04-30T16:48:08.597Z"
   },
   {
    "duration": 30,
    "start_time": "2022-04-30T16:50:09.890Z"
   },
   {
    "duration": 7,
    "start_time": "2022-04-30T16:53:37.748Z"
   },
   {
    "duration": 11,
    "start_time": "2022-04-30T17:00:29.553Z"
   },
   {
    "duration": 22,
    "start_time": "2022-04-30T17:00:49.612Z"
   },
   {
    "duration": 56,
    "start_time": "2022-04-30T17:16:41.797Z"
   },
   {
    "duration": 51,
    "start_time": "2022-04-30T17:16:59.185Z"
   },
   {
    "duration": 59,
    "start_time": "2022-04-30T17:18:08.435Z"
   },
   {
    "duration": 62,
    "start_time": "2022-04-30T18:45:46.298Z"
   },
   {
    "duration": 57,
    "start_time": "2022-04-30T18:45:50.384Z"
   },
   {
    "duration": 9,
    "start_time": "2022-04-30T18:46:54.220Z"
   },
   {
    "duration": 5009,
    "start_time": "2022-05-02T19:21:58.080Z"
   },
   {
    "duration": 719,
    "start_time": "2022-05-02T19:22:03.093Z"
   },
   {
    "duration": 384,
    "start_time": "2022-05-02T19:22:03.856Z"
   },
   {
    "duration": 29,
    "start_time": "2022-05-02T19:22:04.243Z"
   },
   {
    "duration": 85,
    "start_time": "2022-05-02T19:22:04.274Z"
   },
   {
    "duration": 89,
    "start_time": "2022-05-02T19:22:04.362Z"
   },
   {
    "duration": 11,
    "start_time": "2022-05-02T19:22:04.454Z"
   },
   {
    "duration": 293,
    "start_time": "2022-05-02T19:22:04.467Z"
   },
   {
    "duration": 140,
    "start_time": "2022-05-02T19:22:04.763Z"
   },
   {
    "duration": 20,
    "start_time": "2022-05-02T19:22:04.910Z"
   },
   {
    "duration": 26,
    "start_time": "2022-05-02T19:22:04.932Z"
   },
   {
    "duration": 120,
    "start_time": "2022-05-02T19:22:04.960Z"
   },
   {
    "duration": 17,
    "start_time": "2022-05-02T19:22:05.082Z"
   },
   {
    "duration": 32,
    "start_time": "2022-05-02T19:22:05.102Z"
   },
   {
    "duration": 11778,
    "start_time": "2022-05-02T19:22:05.136Z"
   },
   {
    "duration": 103,
    "start_time": "2022-05-02T19:22:16.918Z"
   },
   {
    "duration": 97,
    "start_time": "2022-05-02T19:22:17.024Z"
   },
   {
    "duration": 17,
    "start_time": "2022-05-02T19:22:17.125Z"
   },
   {
    "duration": 167,
    "start_time": "2022-05-02T19:22:17.145Z"
   },
   {
    "duration": 183,
    "start_time": "2022-05-02T19:22:17.324Z"
   },
   {
    "duration": 210,
    "start_time": "2022-05-02T19:22:17.511Z"
   },
   {
    "duration": 201,
    "start_time": "2022-05-02T19:22:17.725Z"
   },
   {
    "duration": 12,
    "start_time": "2022-05-02T19:22:17.929Z"
   },
   {
    "duration": 10,
    "start_time": "2022-05-02T19:45:08.835Z"
   },
   {
    "duration": 14,
    "start_time": "2022-05-02T19:45:14.893Z"
   },
   {
    "duration": 5,
    "start_time": "2022-05-02T19:45:39.197Z"
   },
   {
    "duration": 192,
    "start_time": "2022-05-02T19:45:48.488Z"
   },
   {
    "duration": 12,
    "start_time": "2022-05-02T19:45:58.046Z"
   },
   {
    "duration": 15,
    "start_time": "2022-05-02T19:46:37.006Z"
   },
   {
    "duration": 12,
    "start_time": "2022-05-02T19:47:34.537Z"
   },
   {
    "duration": 11,
    "start_time": "2022-05-02T19:47:56.381Z"
   },
   {
    "duration": 11,
    "start_time": "2022-05-02T19:48:07.954Z"
   },
   {
    "duration": 25,
    "start_time": "2022-05-02T19:48:31.109Z"
   },
   {
    "duration": 30,
    "start_time": "2022-05-02T19:49:35.608Z"
   },
   {
    "duration": 39,
    "start_time": "2022-05-02T19:49:44.742Z"
   },
   {
    "duration": 54,
    "start_time": "2022-05-02T19:50:04.991Z"
   },
   {
    "duration": 38,
    "start_time": "2022-05-02T19:53:22.930Z"
   },
   {
    "duration": 38,
    "start_time": "2022-05-02T19:53:34.377Z"
   },
   {
    "duration": 44,
    "start_time": "2022-05-02T19:53:48.496Z"
   },
   {
    "duration": 40,
    "start_time": "2022-05-02T19:54:48.598Z"
   },
   {
    "duration": 6,
    "start_time": "2022-05-02T19:57:24.367Z"
   },
   {
    "duration": 12,
    "start_time": "2022-05-02T19:57:29.732Z"
   },
   {
    "duration": 13,
    "start_time": "2022-05-02T19:58:22.330Z"
   },
   {
    "duration": 42,
    "start_time": "2022-05-02T20:00:55.752Z"
   },
   {
    "duration": 41,
    "start_time": "2022-05-02T20:01:13.206Z"
   },
   {
    "duration": 46,
    "start_time": "2022-05-02T20:01:28.612Z"
   },
   {
    "duration": 15,
    "start_time": "2022-05-02T20:01:30.679Z"
   },
   {
    "duration": 74,
    "start_time": "2022-05-02T20:01:40.488Z"
   },
   {
    "duration": 78,
    "start_time": "2022-05-02T20:01:49.488Z"
   },
   {
    "duration": 77,
    "start_time": "2022-05-02T20:02:40.617Z"
   },
   {
    "duration": 15,
    "start_time": "2022-05-03T14:49:12.439Z"
   },
   {
    "duration": 131,
    "start_time": "2022-05-03T14:52:31.096Z"
   },
   {
    "duration": 5,
    "start_time": "2022-05-03T14:55:58.286Z"
   },
   {
    "duration": 20,
    "start_time": "2022-05-03T14:58:09.939Z"
   },
   {
    "duration": 25,
    "start_time": "2022-05-03T14:59:41.772Z"
   },
   {
    "duration": 207,
    "start_time": "2022-05-03T15:00:06.233Z"
   },
   {
    "duration": 13,
    "start_time": "2022-05-03T15:00:46.883Z"
   },
   {
    "duration": 5,
    "start_time": "2022-05-03T15:02:56.983Z"
   },
   {
    "duration": 19,
    "start_time": "2022-05-03T15:03:10.639Z"
   },
   {
    "duration": 27,
    "start_time": "2022-05-03T15:03:18.219Z"
   },
   {
    "duration": 17,
    "start_time": "2022-05-03T15:06:53.539Z"
   },
   {
    "duration": 118,
    "start_time": "2022-05-03T15:07:00.983Z"
   },
   {
    "duration": 26,
    "start_time": "2022-05-03T15:10:48.698Z"
   },
   {
    "duration": 15,
    "start_time": "2022-05-03T15:11:08.859Z"
   },
   {
    "duration": 21,
    "start_time": "2022-05-03T15:11:34.929Z"
   },
   {
    "duration": 21,
    "start_time": "2022-05-03T15:12:06.258Z"
   },
   {
    "duration": 17,
    "start_time": "2022-05-03T15:12:20.974Z"
   },
   {
    "duration": 18,
    "start_time": "2022-05-03T15:13:14.327Z"
   },
   {
    "duration": 213,
    "start_time": "2022-05-03T15:13:53.416Z"
   },
   {
    "duration": 200,
    "start_time": "2022-05-03T15:13:57.502Z"
   },
   {
    "duration": 24,
    "start_time": "2022-05-03T15:14:03.253Z"
   },
   {
    "duration": 3652,
    "start_time": "2022-05-05T07:37:07.068Z"
   },
   {
    "duration": 624,
    "start_time": "2022-05-05T07:37:10.723Z"
   },
   {
    "duration": 196,
    "start_time": "2022-05-05T07:37:11.349Z"
   },
   {
    "duration": 30,
    "start_time": "2022-05-05T07:37:11.548Z"
   },
   {
    "duration": 64,
    "start_time": "2022-05-05T07:37:11.580Z"
   },
   {
    "duration": 75,
    "start_time": "2022-05-05T07:37:11.647Z"
   },
   {
    "duration": 12,
    "start_time": "2022-05-05T07:37:11.725Z"
   },
   {
    "duration": 255,
    "start_time": "2022-05-05T07:37:11.740Z"
   },
   {
    "duration": 125,
    "start_time": "2022-05-05T07:37:11.997Z"
   },
   {
    "duration": 14,
    "start_time": "2022-05-05T07:37:12.125Z"
   },
   {
    "duration": 52,
    "start_time": "2022-05-05T07:37:12.141Z"
   },
   {
    "duration": 78,
    "start_time": "2022-05-05T07:37:12.195Z"
   },
   {
    "duration": 19,
    "start_time": "2022-05-05T07:37:12.275Z"
   },
   {
    "duration": 6,
    "start_time": "2022-05-05T07:37:12.296Z"
   },
   {
    "duration": 9671,
    "start_time": "2022-05-05T07:37:12.305Z"
   },
   {
    "duration": 113,
    "start_time": "2022-05-05T07:37:21.980Z"
   },
   {
    "duration": 37,
    "start_time": "2022-05-05T07:37:22.096Z"
   },
   {
    "duration": 63,
    "start_time": "2022-05-05T07:37:22.135Z"
   },
   {
    "duration": 38,
    "start_time": "2022-05-05T07:37:22.200Z"
   },
   {
    "duration": 118,
    "start_time": "2022-05-05T07:37:22.294Z"
   },
   {
    "duration": 184,
    "start_time": "2022-05-05T07:37:22.415Z"
   },
   {
    "duration": 135,
    "start_time": "2022-05-05T07:37:22.601Z"
   },
   {
    "duration": 11,
    "start_time": "2022-05-05T07:37:22.739Z"
   },
   {
    "duration": 73,
    "start_time": "2022-05-05T07:37:22.752Z"
   },
   {
    "duration": 43,
    "start_time": "2022-05-05T07:37:22.828Z"
   },
   {
    "duration": 43,
    "start_time": "2022-05-05T07:37:22.894Z"
   },
   {
    "duration": 13,
    "start_time": "2022-05-05T07:37:22.939Z"
   },
   {
    "duration": 112,
    "start_time": "2022-05-05T07:37:22.956Z"
   },
   {
    "duration": 176,
    "start_time": "2022-05-05T07:49:10.274Z"
   },
   {
    "duration": 0,
    "start_time": "2022-05-05T07:49:36.269Z"
   },
   {
    "duration": 23,
    "start_time": "2022-05-05T07:49:46.520Z"
   },
   {
    "duration": 16,
    "start_time": "2022-05-05T07:54:52.952Z"
   },
   {
    "duration": 19,
    "start_time": "2022-05-05T07:55:14.902Z"
   },
   {
    "duration": 19,
    "start_time": "2022-05-05T07:55:47.199Z"
   },
   {
    "duration": 14,
    "start_time": "2022-05-05T08:33:51.209Z"
   },
   {
    "duration": 403,
    "start_time": "2022-05-05T08:36:01.098Z"
   },
   {
    "duration": 26,
    "start_time": "2022-05-05T08:37:15.142Z"
   },
   {
    "duration": 346,
    "start_time": "2022-05-05T08:43:19.069Z"
   },
   {
    "duration": 74,
    "start_time": "2022-05-05T08:43:35.474Z"
   },
   {
    "duration": 76,
    "start_time": "2022-05-05T08:43:50.372Z"
   },
   {
    "duration": 21,
    "start_time": "2022-05-05T08:48:23.297Z"
   },
   {
    "duration": 867,
    "start_time": "2022-05-05T08:51:13.526Z"
   },
   {
    "duration": 48,
    "start_time": "2022-05-05T08:52:23.930Z"
   },
   {
    "duration": 32,
    "start_time": "2022-05-05T08:52:39.935Z"
   },
   {
    "duration": 50,
    "start_time": "2022-05-05T08:53:24.350Z"
   },
   {
    "duration": 19,
    "start_time": "2022-05-05T08:53:38.911Z"
   },
   {
    "duration": 20,
    "start_time": "2022-05-05T09:19:57.974Z"
   },
   {
    "duration": 18,
    "start_time": "2022-05-05T09:22:10.026Z"
   },
   {
    "duration": 19,
    "start_time": "2022-05-05T09:25:54.844Z"
   },
   {
    "duration": 20,
    "start_time": "2022-05-05T09:46:22.655Z"
   },
   {
    "duration": 14,
    "start_time": "2022-05-05T10:07:59.378Z"
   },
   {
    "duration": 13,
    "start_time": "2022-05-05T10:08:25.681Z"
   },
   {
    "duration": 13,
    "start_time": "2022-05-05T10:21:45.653Z"
   },
   {
    "duration": 13,
    "start_time": "2022-05-05T10:22:01.869Z"
   },
   {
    "duration": 39,
    "start_time": "2022-05-05T10:22:45.495Z"
   },
   {
    "duration": 48,
    "start_time": "2022-05-05T10:36:18.403Z"
   },
   {
    "duration": 54,
    "start_time": "2022-05-05T10:36:42.510Z"
   },
   {
    "duration": 51,
    "start_time": "2022-05-05T10:37:43.594Z"
   },
   {
    "duration": 56,
    "start_time": "2022-05-05T12:43:18.312Z"
   },
   {
    "duration": 50,
    "start_time": "2022-05-06T19:07:28.732Z"
   },
   {
    "duration": 2963,
    "start_time": "2022-05-06T19:07:32.632Z"
   },
   {
    "duration": 4135,
    "start_time": "2022-05-06T19:07:49.911Z"
   },
   {
    "duration": 524,
    "start_time": "2022-05-06T19:07:54.049Z"
   },
   {
    "duration": 144,
    "start_time": "2022-05-06T19:07:54.574Z"
   },
   {
    "duration": 18,
    "start_time": "2022-05-06T19:07:54.720Z"
   },
   {
    "duration": 43,
    "start_time": "2022-05-06T19:07:54.740Z"
   },
   {
    "duration": 36,
    "start_time": "2022-05-06T19:07:54.784Z"
   },
   {
    "duration": 7,
    "start_time": "2022-05-06T19:07:54.822Z"
   },
   {
    "duration": 163,
    "start_time": "2022-05-06T19:07:54.830Z"
   },
   {
    "duration": 79,
    "start_time": "2022-05-06T19:07:54.995Z"
   },
   {
    "duration": 8,
    "start_time": "2022-05-06T19:07:55.077Z"
   },
   {
    "duration": 18,
    "start_time": "2022-05-06T19:07:55.087Z"
   },
   {
    "duration": 65,
    "start_time": "2022-05-06T19:07:55.106Z"
   },
   {
    "duration": 4,
    "start_time": "2022-05-06T19:07:55.173Z"
   },
   {
    "duration": 5,
    "start_time": "2022-05-06T19:07:55.178Z"
   },
   {
    "duration": 6199,
    "start_time": "2022-05-06T19:07:55.184Z"
   },
   {
    "duration": 70,
    "start_time": "2022-05-06T19:08:01.384Z"
   },
   {
    "duration": 102,
    "start_time": "2022-05-06T19:08:01.458Z"
   },
   {
    "duration": 8,
    "start_time": "2022-05-06T19:08:01.562Z"
   },
   {
    "duration": 82,
    "start_time": "2022-05-06T19:08:01.572Z"
   },
   {
    "duration": 120,
    "start_time": "2022-05-06T19:08:01.656Z"
   },
   {
    "duration": 180,
    "start_time": "2022-05-06T19:08:01.778Z"
   },
   {
    "duration": 115,
    "start_time": "2022-05-06T19:08:01.960Z"
   },
   {
    "duration": 8,
    "start_time": "2022-05-06T19:08:02.076Z"
   },
   {
    "duration": 12,
    "start_time": "2022-05-06T19:08:02.085Z"
   },
   {
    "duration": 75,
    "start_time": "2022-05-06T19:08:02.098Z"
   },
   {
    "duration": 28,
    "start_time": "2022-05-06T19:08:02.175Z"
   },
   {
    "duration": 51,
    "start_time": "2022-05-06T19:08:02.205Z"
   },
   {
    "duration": 17,
    "start_time": "2022-05-06T19:08:02.259Z"
   },
   {
    "duration": 29,
    "start_time": "2022-05-06T19:08:02.277Z"
   },
   {
    "duration": 62,
    "start_time": "2022-05-06T19:08:02.308Z"
   },
   {
    "duration": 11,
    "start_time": "2022-05-06T19:08:02.372Z"
   },
   {
    "duration": 16,
    "start_time": "2022-05-06T19:12:07.563Z"
   },
   {
    "duration": 9,
    "start_time": "2022-05-08T16:33:47.284Z"
   },
   {
    "duration": 3193,
    "start_time": "2022-05-08T16:33:50.462Z"
   },
   {
    "duration": 2694,
    "start_time": "2022-05-08T16:34:17.752Z"
   },
   {
    "duration": 579,
    "start_time": "2022-05-08T16:34:20.449Z"
   },
   {
    "duration": 751,
    "start_time": "2022-05-08T16:34:21.030Z"
   },
   {
    "duration": 28,
    "start_time": "2022-05-08T16:34:21.783Z"
   },
   {
    "duration": 42,
    "start_time": "2022-05-08T16:34:21.813Z"
   },
   {
    "duration": 66,
    "start_time": "2022-05-08T16:34:21.857Z"
   },
   {
    "duration": 8,
    "start_time": "2022-05-08T16:34:21.925Z"
   },
   {
    "duration": 288,
    "start_time": "2022-05-08T16:34:21.935Z"
   },
   {
    "duration": 127,
    "start_time": "2022-05-08T16:34:22.225Z"
   },
   {
    "duration": 14,
    "start_time": "2022-05-08T16:34:22.356Z"
   },
   {
    "duration": 42,
    "start_time": "2022-05-08T16:34:22.372Z"
   },
   {
    "duration": 61,
    "start_time": "2022-05-08T16:34:22.416Z"
   },
   {
    "duration": 12,
    "start_time": "2022-05-08T16:34:22.493Z"
   },
   {
    "duration": 20,
    "start_time": "2022-05-08T16:34:22.507Z"
   },
   {
    "duration": 7437,
    "start_time": "2022-05-08T16:34:22.530Z"
   },
   {
    "duration": 49,
    "start_time": "2022-05-08T16:34:29.969Z"
   },
   {
    "duration": 108,
    "start_time": "2022-05-08T16:34:30.022Z"
   },
   {
    "duration": 64,
    "start_time": "2022-05-08T16:34:30.132Z"
   },
   {
    "duration": 38,
    "start_time": "2022-05-08T16:34:30.198Z"
   },
   {
    "duration": 187,
    "start_time": "2022-05-08T16:34:30.239Z"
   },
   {
    "duration": 177,
    "start_time": "2022-05-08T16:34:30.429Z"
   },
   {
    "duration": 116,
    "start_time": "2022-05-08T16:34:30.613Z"
   },
   {
    "duration": 9,
    "start_time": "2022-05-08T16:34:30.731Z"
   },
   {
    "duration": 43,
    "start_time": "2022-05-08T16:34:30.795Z"
   },
   {
    "duration": 33,
    "start_time": "2022-05-08T16:34:30.841Z"
   },
   {
    "duration": 37,
    "start_time": "2022-05-08T16:34:30.876Z"
   },
   {
    "duration": 49,
    "start_time": "2022-05-08T16:34:30.917Z"
   },
   {
    "duration": 70,
    "start_time": "2022-05-08T16:34:30.971Z"
   },
   {
    "duration": 32,
    "start_time": "2022-05-08T16:34:31.043Z"
   },
   {
    "duration": 44,
    "start_time": "2022-05-08T16:34:31.077Z"
   },
   {
    "duration": 14,
    "start_time": "2022-05-08T16:34:31.122Z"
   },
   {
    "duration": 126,
    "start_time": "2022-05-09T16:11:40.663Z"
   },
   {
    "duration": 29,
    "start_time": "2022-05-09T16:12:14.746Z"
   },
   {
    "duration": 4,
    "start_time": "2022-05-09T16:12:22.320Z"
   },
   {
    "duration": 5,
    "start_time": "2022-05-09T16:30:00.637Z"
   },
   {
    "duration": 16,
    "start_time": "2022-05-09T16:30:37.788Z"
   },
   {
    "duration": 125,
    "start_time": "2022-05-09T16:30:54.163Z"
   },
   {
    "duration": 4,
    "start_time": "2022-05-09T16:31:18.180Z"
   },
   {
    "duration": 14,
    "start_time": "2022-05-09T16:31:20.190Z"
   },
   {
    "duration": 488,
    "start_time": "2022-05-09T16:32:00.263Z"
   },
   {
    "duration": 11,
    "start_time": "2022-05-09T16:32:06.321Z"
   },
   {
    "duration": 5,
    "start_time": "2022-05-09T16:55:14.533Z"
   },
   {
    "duration": 9,
    "start_time": "2022-05-09T16:55:16.772Z"
   },
   {
    "duration": 86,
    "start_time": "2022-05-09T17:05:04.202Z"
   },
   {
    "duration": 70,
    "start_time": "2022-05-09T17:05:17.926Z"
   },
   {
    "duration": 5,
    "start_time": "2022-05-09T17:15:47.315Z"
   },
   {
    "duration": 52,
    "start_time": "2022-05-09T17:16:34.645Z"
   },
   {
    "duration": 3,
    "start_time": "2022-05-09T17:17:53.564Z"
   },
   {
    "duration": 29,
    "start_time": "2022-05-09T17:18:01.546Z"
   },
   {
    "duration": 5,
    "start_time": "2022-05-09T17:18:37.846Z"
   },
   {
    "duration": 24,
    "start_time": "2022-05-09T17:18:40.754Z"
   },
   {
    "duration": 6,
    "start_time": "2022-05-09T17:20:00.892Z"
   },
   {
    "duration": 3,
    "start_time": "2022-05-09T17:20:27.218Z"
   },
   {
    "duration": 5,
    "start_time": "2022-05-09T17:25:26.134Z"
   },
   {
    "duration": 8,
    "start_time": "2022-05-09T17:25:29.105Z"
   },
   {
    "duration": 5,
    "start_time": "2022-05-09T17:26:01.262Z"
   },
   {
    "duration": 20,
    "start_time": "2022-05-09T17:31:00.431Z"
   },
   {
    "duration": 21,
    "start_time": "2022-05-09T17:32:47.632Z"
   },
   {
    "duration": 26,
    "start_time": "2022-05-09T17:33:45.734Z"
   },
   {
    "duration": 25,
    "start_time": "2022-05-09T17:34:24.518Z"
   },
   {
    "duration": 6,
    "start_time": "2022-05-09T17:55:07.476Z"
   },
   {
    "duration": 21,
    "start_time": "2022-05-09T17:55:15.933Z"
   },
   {
    "duration": 21,
    "start_time": "2022-05-09T17:55:32.020Z"
   },
   {
    "duration": 20,
    "start_time": "2022-05-09T17:55:39.066Z"
   },
   {
    "duration": 19,
    "start_time": "2022-05-09T17:55:40.661Z"
   },
   {
    "duration": 19,
    "start_time": "2022-05-09T17:55:42.749Z"
   },
   {
    "duration": 6,
    "start_time": "2022-05-09T17:57:33.693Z"
   },
   {
    "duration": 8,
    "start_time": "2022-05-09T17:57:36.748Z"
   },
   {
    "duration": 93,
    "start_time": "2022-05-09T19:37:30.071Z"
   },
   {
    "duration": 88,
    "start_time": "2022-05-09T19:38:00.011Z"
   },
   {
    "duration": 9,
    "start_time": "2022-05-10T16:36:01.597Z"
   },
   {
    "duration": 3133,
    "start_time": "2022-05-10T16:36:08.892Z"
   },
   {
    "duration": 1041,
    "start_time": "2022-05-10T16:36:12.028Z"
   },
   {
    "duration": 161,
    "start_time": "2022-05-10T16:36:13.072Z"
   },
   {
    "duration": 30,
    "start_time": "2022-05-10T16:36:13.236Z"
   },
   {
    "duration": 42,
    "start_time": "2022-05-10T16:36:13.268Z"
   },
   {
    "duration": 67,
    "start_time": "2022-05-10T16:36:13.312Z"
   },
   {
    "duration": 8,
    "start_time": "2022-05-10T16:36:13.381Z"
   },
   {
    "duration": 181,
    "start_time": "2022-05-10T16:36:13.390Z"
   },
   {
    "duration": 83,
    "start_time": "2022-05-10T16:36:13.573Z"
   },
   {
    "duration": 20,
    "start_time": "2022-05-10T16:36:13.662Z"
   },
   {
    "duration": 25,
    "start_time": "2022-05-10T16:36:13.684Z"
   },
   {
    "duration": 83,
    "start_time": "2022-05-10T16:36:13.711Z"
   },
   {
    "duration": 5,
    "start_time": "2022-05-10T16:36:13.797Z"
   },
   {
    "duration": 17,
    "start_time": "2022-05-10T16:36:13.804Z"
   },
   {
    "duration": 6363,
    "start_time": "2022-05-10T16:36:13.823Z"
   },
   {
    "duration": 73,
    "start_time": "2022-05-10T16:36:20.188Z"
   },
   {
    "duration": 30,
    "start_time": "2022-05-10T16:36:20.263Z"
   },
   {
    "duration": 7,
    "start_time": "2022-05-10T16:36:20.295Z"
   },
   {
    "duration": 23,
    "start_time": "2022-05-10T16:36:20.355Z"
   },
   {
    "duration": 111,
    "start_time": "2022-05-10T16:36:20.380Z"
   },
   {
    "duration": 162,
    "start_time": "2022-05-10T16:36:20.493Z"
   },
   {
    "duration": 115,
    "start_time": "2022-05-10T16:36:20.657Z"
   },
   {
    "duration": 9,
    "start_time": "2022-05-10T16:36:20.775Z"
   },
   {
    "duration": 73,
    "start_time": "2022-05-10T16:36:20.786Z"
   },
   {
    "duration": 38,
    "start_time": "2022-05-10T16:36:20.861Z"
   },
   {
    "duration": 31,
    "start_time": "2022-05-10T16:36:20.900Z"
   },
   {
    "duration": 40,
    "start_time": "2022-05-10T16:36:20.956Z"
   },
   {
    "duration": 18,
    "start_time": "2022-05-10T16:36:20.999Z"
   },
   {
    "duration": 66,
    "start_time": "2022-05-10T16:36:21.019Z"
   },
   {
    "duration": 39,
    "start_time": "2022-05-10T16:36:21.087Z"
   },
   {
    "duration": 32,
    "start_time": "2022-05-10T16:36:21.128Z"
   },
   {
    "duration": 32,
    "start_time": "2022-05-10T16:36:21.162Z"
   },
   {
    "duration": 4,
    "start_time": "2022-05-10T16:36:21.196Z"
   },
   {
    "duration": 17,
    "start_time": "2022-05-10T16:36:21.201Z"
   },
   {
    "duration": 91,
    "start_time": "2022-05-10T16:36:21.220Z"
   },
   {
    "duration": 5,
    "start_time": "2022-05-10T16:36:21.312Z"
   },
   {
    "duration": 23,
    "start_time": "2022-05-10T16:36:21.319Z"
   },
   {
    "duration": 21,
    "start_time": "2022-05-10T16:36:21.356Z"
   },
   {
    "duration": 23,
    "start_time": "2022-05-10T16:36:21.379Z"
   },
   {
    "duration": 23,
    "start_time": "2022-05-10T16:36:21.403Z"
   },
   {
    "duration": 55,
    "start_time": "2022-05-10T16:36:21.428Z"
   },
   {
    "duration": 102,
    "start_time": "2022-05-10T16:36:21.487Z"
   },
   {
    "duration": 99,
    "start_time": "2022-05-10T16:36:21.591Z"
   },
   {
    "duration": 8,
    "start_time": "2022-05-10T16:48:28.785Z"
   },
   {
    "duration": 7,
    "start_time": "2022-05-10T16:48:32.541Z"
   },
   {
    "duration": 141,
    "start_time": "2022-05-10T16:52:55.058Z"
   },
   {
    "duration": 13,
    "start_time": "2022-05-10T16:55:21.860Z"
   },
   {
    "duration": 4,
    "start_time": "2022-05-10T16:56:07.101Z"
   },
   {
    "duration": 9,
    "start_time": "2022-05-10T16:56:12.387Z"
   },
   {
    "duration": 13,
    "start_time": "2022-05-10T17:06:27.474Z"
   },
   {
    "duration": 143,
    "start_time": "2022-05-10T17:07:40.201Z"
   },
   {
    "duration": 135,
    "start_time": "2022-05-10T17:08:24.205Z"
   },
   {
    "duration": 170,
    "start_time": "2022-05-10T17:10:01.056Z"
   },
   {
    "duration": 159,
    "start_time": "2022-05-10T17:10:12.645Z"
   },
   {
    "duration": 150,
    "start_time": "2022-05-10T17:10:21.215Z"
   },
   {
    "duration": 143,
    "start_time": "2022-05-10T17:10:38.791Z"
   },
   {
    "duration": 128,
    "start_time": "2022-05-10T17:11:28.439Z"
   },
   {
    "duration": 16,
    "start_time": "2022-05-10T17:19:25.996Z"
   },
   {
    "duration": 18,
    "start_time": "2022-05-10T17:19:56.634Z"
   },
   {
    "duration": 21,
    "start_time": "2022-05-10T17:22:02.464Z"
   },
   {
    "duration": 11,
    "start_time": "2022-05-10T17:27:58.415Z"
   },
   {
    "duration": 15,
    "start_time": "2022-05-10T17:28:23.792Z"
   },
   {
    "duration": 20,
    "start_time": "2022-05-10T17:28:31.367Z"
   },
   {
    "duration": 18,
    "start_time": "2022-05-10T17:28:43.064Z"
   },
   {
    "duration": 27,
    "start_time": "2022-05-10T17:28:59.020Z"
   },
   {
    "duration": 19,
    "start_time": "2022-05-10T17:29:08.745Z"
   },
   {
    "duration": 22,
    "start_time": "2022-05-10T17:29:19.221Z"
   },
   {
    "duration": 20,
    "start_time": "2022-05-10T17:29:42.173Z"
   },
   {
    "duration": 19,
    "start_time": "2022-05-10T17:30:39.058Z"
   },
   {
    "duration": 16,
    "start_time": "2022-05-10T17:33:14.165Z"
   },
   {
    "duration": 26,
    "start_time": "2022-05-10T17:34:12.473Z"
   },
   {
    "duration": 82,
    "start_time": "2022-05-10T17:35:03.392Z"
   },
   {
    "duration": 9,
    "start_time": "2022-05-10T17:36:28.806Z"
   },
   {
    "duration": 2218,
    "start_time": "2022-05-10T17:36:56.706Z"
   },
   {
    "duration": 137,
    "start_time": "2022-05-10T17:37:24.199Z"
   },
   {
    "duration": 153,
    "start_time": "2022-05-10T18:05:10.054Z"
   },
   {
    "duration": 18,
    "start_time": "2022-05-10T18:05:17.424Z"
   },
   {
    "duration": 2170,
    "start_time": "2022-05-10T18:05:41.249Z"
   },
   {
    "duration": 2195,
    "start_time": "2022-05-10T18:05:50.457Z"
   },
   {
    "duration": 10,
    "start_time": "2022-05-10T18:06:30.232Z"
   },
   {
    "duration": 154,
    "start_time": "2022-05-10T18:06:34.696Z"
   },
   {
    "duration": 82,
    "start_time": "2022-05-10T18:06:36.890Z"
   },
   {
    "duration": 27,
    "start_time": "2022-05-10T18:06:41.108Z"
   },
   {
    "duration": 12,
    "start_time": "2022-05-10T18:06:53.727Z"
   },
   {
    "duration": 95,
    "start_time": "2022-05-10T18:12:51.039Z"
   },
   {
    "duration": 98,
    "start_time": "2022-05-10T18:17:00.039Z"
   },
   {
    "duration": 82,
    "start_time": "2022-05-10T18:17:17.687Z"
   },
   {
    "duration": 78,
    "start_time": "2022-05-10T18:24:06.290Z"
   },
   {
    "duration": 13,
    "start_time": "2022-05-10T18:27:19.134Z"
   },
   {
    "duration": 91,
    "start_time": "2022-05-10T18:30:10.440Z"
   },
   {
    "duration": 76,
    "start_time": "2022-05-10T18:30:24.145Z"
   },
   {
    "duration": 77,
    "start_time": "2022-05-10T18:30:27.197Z"
   },
   {
    "duration": 74,
    "start_time": "2022-05-10T18:30:32.623Z"
   },
   {
    "duration": 2106,
    "start_time": "2022-05-10T18:35:41.941Z"
   },
   {
    "duration": 2090,
    "start_time": "2022-05-10T18:36:35.313Z"
   },
   {
    "duration": 71,
    "start_time": "2022-05-10T18:36:54.064Z"
   },
   {
    "duration": 22,
    "start_time": "2022-05-10T18:37:12.958Z"
   },
   {
    "duration": 78,
    "start_time": "2022-05-10T18:37:34.415Z"
   },
   {
    "duration": 2200,
    "start_time": "2022-05-10T18:37:44.733Z"
   },
   {
    "duration": 2344,
    "start_time": "2022-05-10T18:38:07.432Z"
   },
   {
    "duration": 3,
    "start_time": "2022-05-10T18:42:21.486Z"
   },
   {
    "duration": 10,
    "start_time": "2022-05-10T18:42:26.769Z"
   },
   {
    "duration": 26,
    "start_time": "2022-05-10T19:11:29.480Z"
   },
   {
    "duration": 83,
    "start_time": "2022-05-10T19:11:39.391Z"
   },
   {
    "duration": 5,
    "start_time": "2022-05-10T19:15:59.321Z"
   },
   {
    "duration": 9,
    "start_time": "2022-05-10T19:16:04.969Z"
   },
   {
    "duration": 54,
    "start_time": "2022-05-10T19:21:41.922Z"
   },
   {
    "duration": 58,
    "start_time": "2022-05-10T19:21:47.184Z"
   },
   {
    "duration": 65,
    "start_time": "2022-05-10T19:22:02.373Z"
   },
   {
    "duration": 198,
    "start_time": "2022-05-10T20:02:50.388Z"
   },
   {
    "duration": 16,
    "start_time": "2022-05-10T20:03:22.659Z"
   },
   {
    "duration": 26,
    "start_time": "2022-05-10T20:03:38.035Z"
   },
   {
    "duration": 10,
    "start_time": "2022-05-10T20:03:48.609Z"
   },
   {
    "duration": 31,
    "start_time": "2022-05-10T20:06:29.332Z"
   },
   {
    "duration": 16,
    "start_time": "2022-05-10T20:06:41.596Z"
   },
   {
    "duration": 27,
    "start_time": "2022-05-10T20:06:56.546Z"
   },
   {
    "duration": 27,
    "start_time": "2022-05-10T20:07:13.563Z"
   },
   {
    "duration": 30,
    "start_time": "2022-05-10T20:08:50.443Z"
   },
   {
    "duration": 103,
    "start_time": "2022-05-10T20:09:47.512Z"
   },
   {
    "duration": 15,
    "start_time": "2022-05-10T20:10:22.519Z"
   },
   {
    "duration": 27,
    "start_time": "2022-05-10T20:10:27.821Z"
   },
   {
    "duration": 25,
    "start_time": "2022-05-10T20:18:17.896Z"
   },
   {
    "duration": 4,
    "start_time": "2022-05-10T20:18:21.972Z"
   },
   {
    "duration": 48,
    "start_time": "2022-05-10T20:26:15.579Z"
   },
   {
    "duration": 43,
    "start_time": "2022-05-10T20:26:22.148Z"
   },
   {
    "duration": 22,
    "start_time": "2022-05-10T20:30:16.834Z"
   },
   {
    "duration": 20,
    "start_time": "2022-05-10T20:30:22.348Z"
   },
   {
    "duration": 29,
    "start_time": "2022-05-10T20:31:27.211Z"
   },
   {
    "duration": 31,
    "start_time": "2022-05-10T20:31:46.589Z"
   },
   {
    "duration": 143,
    "start_time": "2022-05-10T20:35:07.000Z"
   },
   {
    "duration": 43,
    "start_time": "2022-05-10T20:35:26.561Z"
   },
   {
    "duration": 47,
    "start_time": "2022-05-10T20:36:00.006Z"
   },
   {
    "duration": 44,
    "start_time": "2022-05-10T20:37:05.687Z"
   },
   {
    "duration": 6,
    "start_time": "2022-05-10T20:37:10.400Z"
   },
   {
    "duration": 6,
    "start_time": "2022-05-10T20:37:40.629Z"
   },
   {
    "duration": 2095,
    "start_time": "2022-05-10T20:40:15.488Z"
   },
   {
    "duration": 6,
    "start_time": "2022-05-10T20:40:26.967Z"
   },
   {
    "duration": 2108,
    "start_time": "2022-05-10T20:40:34.476Z"
   },
   {
    "duration": 5,
    "start_time": "2022-05-10T20:40:40.101Z"
   },
   {
    "duration": 6,
    "start_time": "2022-05-10T20:40:55.545Z"
   },
   {
    "duration": 6,
    "start_time": "2022-05-10T20:42:00.502Z"
   },
   {
    "duration": 7,
    "start_time": "2022-05-10T20:44:35.619Z"
   },
   {
    "duration": 5,
    "start_time": "2022-05-10T20:45:31.742Z"
   },
   {
    "duration": 7,
    "start_time": "2022-05-10T20:45:42.992Z"
   },
   {
    "duration": 22,
    "start_time": "2022-05-10T20:46:07.867Z"
   },
   {
    "duration": 4,
    "start_time": "2022-05-10T20:47:10.260Z"
   },
   {
    "duration": 30,
    "start_time": "2022-05-10T20:47:13.305Z"
   },
   {
    "duration": 2575,
    "start_time": "2022-05-10T20:48:04.257Z"
   },
   {
    "duration": 936,
    "start_time": "2022-05-10T20:48:06.835Z"
   },
   {
    "duration": 157,
    "start_time": "2022-05-10T20:48:07.773Z"
   },
   {
    "duration": 25,
    "start_time": "2022-05-10T20:48:07.932Z"
   },
   {
    "duration": 56,
    "start_time": "2022-05-10T20:48:07.959Z"
   },
   {
    "duration": 45,
    "start_time": "2022-05-10T20:48:08.017Z"
   },
   {
    "duration": 9,
    "start_time": "2022-05-10T20:48:08.064Z"
   },
   {
    "duration": 165,
    "start_time": "2022-05-10T20:48:08.074Z"
   },
   {
    "duration": 86,
    "start_time": "2022-05-10T20:48:08.241Z"
   },
   {
    "duration": 28,
    "start_time": "2022-05-10T20:48:08.332Z"
   },
   {
    "duration": 20,
    "start_time": "2022-05-10T20:48:08.362Z"
   },
   {
    "duration": 77,
    "start_time": "2022-05-10T20:48:08.384Z"
   },
   {
    "duration": 6,
    "start_time": "2022-05-10T20:48:08.463Z"
   },
   {
    "duration": 28,
    "start_time": "2022-05-10T20:48:08.471Z"
   },
   {
    "duration": 6238,
    "start_time": "2022-05-10T20:48:08.501Z"
   },
   {
    "duration": 48,
    "start_time": "2022-05-10T20:48:14.740Z"
   },
   {
    "duration": 79,
    "start_time": "2022-05-10T20:48:14.790Z"
   },
   {
    "duration": 6,
    "start_time": "2022-05-10T20:48:14.871Z"
   },
   {
    "duration": 81,
    "start_time": "2022-05-10T20:48:14.878Z"
   },
   {
    "duration": 103,
    "start_time": "2022-05-10T20:48:14.960Z"
   },
   {
    "duration": 102,
    "start_time": "2022-05-10T20:48:15.065Z"
   },
   {
    "duration": 106,
    "start_time": "2022-05-10T20:48:15.169Z"
   },
   {
    "duration": 8,
    "start_time": "2022-05-10T20:48:15.277Z"
   },
   {
    "duration": 75,
    "start_time": "2022-05-10T20:48:15.287Z"
   },
   {
    "duration": 46,
    "start_time": "2022-05-10T20:48:15.364Z"
   },
   {
    "duration": 33,
    "start_time": "2022-05-10T20:48:15.412Z"
   },
   {
    "duration": 39,
    "start_time": "2022-05-10T20:48:15.447Z"
   },
   {
    "duration": 16,
    "start_time": "2022-05-10T20:48:15.490Z"
   },
   {
    "duration": 62,
    "start_time": "2022-05-10T20:48:15.507Z"
   },
   {
    "duration": 39,
    "start_time": "2022-05-10T20:48:15.570Z"
   },
   {
    "duration": 12,
    "start_time": "2022-05-10T20:48:15.611Z"
   },
   {
    "duration": 43,
    "start_time": "2022-05-10T20:48:15.624Z"
   },
   {
    "duration": 12,
    "start_time": "2022-05-10T20:48:15.668Z"
   },
   {
    "duration": 32,
    "start_time": "2022-05-10T20:48:15.681Z"
   },
   {
    "duration": 103,
    "start_time": "2022-05-10T20:48:15.714Z"
   },
   {
    "duration": 6,
    "start_time": "2022-05-10T20:48:15.819Z"
   },
   {
    "duration": 61,
    "start_time": "2022-05-10T20:48:15.827Z"
   },
   {
    "duration": 36,
    "start_time": "2022-05-10T20:48:15.890Z"
   },
   {
    "duration": 46,
    "start_time": "2022-05-10T20:48:15.928Z"
   },
   {
    "duration": 38,
    "start_time": "2022-05-10T20:48:15.976Z"
   },
   {
    "duration": 43,
    "start_time": "2022-05-10T20:48:16.017Z"
   },
   {
    "duration": 94,
    "start_time": "2022-05-10T20:48:16.063Z"
   },
   {
    "duration": 98,
    "start_time": "2022-05-10T20:48:16.159Z"
   },
   {
    "duration": 22,
    "start_time": "2022-05-10T20:48:16.259Z"
   },
   {
    "duration": 47,
    "start_time": "2022-05-10T20:48:16.284Z"
   },
   {
    "duration": 38,
    "start_time": "2022-05-10T20:48:16.333Z"
   },
   {
    "duration": 38,
    "start_time": "2022-05-10T20:48:16.372Z"
   },
   {
    "duration": 4,
    "start_time": "2022-05-10T20:48:16.412Z"
   },
   {
    "duration": 71,
    "start_time": "2022-05-10T20:48:16.418Z"
   },
   {
    "duration": 3284,
    "start_time": "2022-05-11T14:38:59.113Z"
   },
   {
    "duration": 916,
    "start_time": "2022-05-11T14:39:02.400Z"
   },
   {
    "duration": 2885,
    "start_time": "2022-05-11T14:39:03.318Z"
   },
   {
    "duration": 18,
    "start_time": "2022-05-11T14:39:06.205Z"
   },
   {
    "duration": 36,
    "start_time": "2022-05-11T14:39:06.224Z"
   },
   {
    "duration": 55,
    "start_time": "2022-05-11T14:39:06.262Z"
   },
   {
    "duration": 8,
    "start_time": "2022-05-11T14:39:06.319Z"
   },
   {
    "duration": 160,
    "start_time": "2022-05-11T14:39:06.328Z"
   },
   {
    "duration": 77,
    "start_time": "2022-05-11T14:39:06.490Z"
   },
   {
    "duration": 9,
    "start_time": "2022-05-11T14:39:06.571Z"
   },
   {
    "duration": 31,
    "start_time": "2022-05-11T14:39:06.581Z"
   },
   {
    "duration": 55,
    "start_time": "2022-05-11T14:39:06.614Z"
   },
   {
    "duration": 30,
    "start_time": "2022-05-11T14:39:06.672Z"
   },
   {
    "duration": 6,
    "start_time": "2022-05-11T14:39:06.704Z"
   },
   {
    "duration": 5950,
    "start_time": "2022-05-11T14:39:06.712Z"
   },
   {
    "duration": 52,
    "start_time": "2022-05-11T14:39:12.665Z"
   },
   {
    "duration": 81,
    "start_time": "2022-05-11T14:39:12.719Z"
   },
   {
    "duration": 6,
    "start_time": "2022-05-11T14:39:12.802Z"
   },
   {
    "duration": 24,
    "start_time": "2022-05-11T14:39:12.810Z"
   },
   {
    "duration": 100,
    "start_time": "2022-05-11T14:39:12.836Z"
   },
   {
    "duration": 106,
    "start_time": "2022-05-11T14:39:12.938Z"
   },
   {
    "duration": 104,
    "start_time": "2022-05-11T14:39:13.101Z"
   },
   {
    "duration": 7,
    "start_time": "2022-05-11T14:39:13.207Z"
   },
   {
    "duration": 26,
    "start_time": "2022-05-11T14:39:13.216Z"
   },
   {
    "duration": 30,
    "start_time": "2022-05-11T14:39:13.243Z"
   },
   {
    "duration": 49,
    "start_time": "2022-05-11T14:39:13.274Z"
   },
   {
    "duration": 28,
    "start_time": "2022-05-11T14:39:13.325Z"
   },
   {
    "duration": 15,
    "start_time": "2022-05-11T14:39:13.356Z"
   },
   {
    "duration": 46,
    "start_time": "2022-05-11T14:39:13.373Z"
   },
   {
    "duration": 36,
    "start_time": "2022-05-11T14:39:13.420Z"
   },
   {
    "duration": 48,
    "start_time": "2022-05-11T14:39:13.457Z"
   },
   {
    "duration": 5,
    "start_time": "2022-05-11T14:39:13.506Z"
   },
   {
    "duration": 17,
    "start_time": "2022-05-11T14:39:13.512Z"
   },
   {
    "duration": 92,
    "start_time": "2022-05-11T14:39:13.530Z"
   },
   {
    "duration": 6,
    "start_time": "2022-05-11T14:39:13.623Z"
   },
   {
    "duration": 52,
    "start_time": "2022-05-11T14:39:13.630Z"
   },
   {
    "duration": 28,
    "start_time": "2022-05-11T14:39:13.684Z"
   },
   {
    "duration": 19,
    "start_time": "2022-05-11T14:39:13.714Z"
   },
   {
    "duration": 22,
    "start_time": "2022-05-11T14:39:13.735Z"
   },
   {
    "duration": 42,
    "start_time": "2022-05-11T14:39:13.758Z"
   },
   {
    "duration": 79,
    "start_time": "2022-05-11T14:39:13.802Z"
   },
   {
    "duration": 97,
    "start_time": "2022-05-11T14:39:13.883Z"
   },
   {
    "duration": 36,
    "start_time": "2022-05-11T14:39:13.982Z"
   },
   {
    "duration": 39,
    "start_time": "2022-05-11T14:39:14.020Z"
   },
   {
    "duration": 40,
    "start_time": "2022-05-11T14:39:14.061Z"
   },
   {
    "duration": 29,
    "start_time": "2022-05-11T14:39:14.102Z"
   },
   {
    "duration": 4,
    "start_time": "2022-05-11T14:39:14.133Z"
   },
   {
    "duration": 60,
    "start_time": "2022-05-11T14:39:14.139Z"
   },
   {
    "duration": 5,
    "start_time": "2022-05-11T19:24:41.876Z"
   },
   {
    "duration": 28,
    "start_time": "2022-05-11T19:24:58.052Z"
   },
   {
    "duration": 2612,
    "start_time": "2022-05-11T20:02:54.902Z"
   },
   {
    "duration": 857,
    "start_time": "2022-05-11T20:02:57.516Z"
   },
   {
    "duration": 1108,
    "start_time": "2022-05-11T20:02:58.375Z"
   },
   {
    "duration": 19,
    "start_time": "2022-05-11T20:02:59.485Z"
   },
   {
    "duration": 35,
    "start_time": "2022-05-11T20:02:59.505Z"
   },
   {
    "duration": 42,
    "start_time": "2022-05-11T20:02:59.541Z"
   },
   {
    "duration": 16,
    "start_time": "2022-05-11T20:02:59.584Z"
   },
   {
    "duration": 154,
    "start_time": "2022-05-11T20:02:59.602Z"
   },
   {
    "duration": 75,
    "start_time": "2022-05-11T20:02:59.758Z"
   },
   {
    "duration": 8,
    "start_time": "2022-05-11T20:02:59.836Z"
   },
   {
    "duration": 16,
    "start_time": "2022-05-11T20:02:59.846Z"
   },
   {
    "duration": 75,
    "start_time": "2022-05-11T20:02:59.863Z"
   },
   {
    "duration": 4,
    "start_time": "2022-05-11T20:02:59.940Z"
   },
   {
    "duration": 5,
    "start_time": "2022-05-11T20:02:59.946Z"
   },
   {
    "duration": 6053,
    "start_time": "2022-05-11T20:02:59.952Z"
   },
   {
    "duration": 34,
    "start_time": "2022-05-11T20:03:06.010Z"
   },
   {
    "duration": 95,
    "start_time": "2022-05-11T20:03:06.046Z"
   },
   {
    "duration": 63,
    "start_time": "2022-05-11T20:03:06.143Z"
   },
   {
    "duration": 26,
    "start_time": "2022-05-11T20:03:06.208Z"
   },
   {
    "duration": 95,
    "start_time": "2022-05-11T20:03:06.236Z"
   },
   {
    "duration": 102,
    "start_time": "2022-05-11T20:03:06.333Z"
   },
   {
    "duration": 108,
    "start_time": "2022-05-11T20:03:06.437Z"
   },
   {
    "duration": 57,
    "start_time": "2022-05-11T20:03:06.546Z"
   },
   {
    "duration": 22,
    "start_time": "2022-05-11T20:03:06.605Z"
   },
   {
    "duration": 26,
    "start_time": "2022-05-11T20:03:06.629Z"
   },
   {
    "duration": 56,
    "start_time": "2022-05-11T20:03:06.657Z"
   },
   {
    "duration": 31,
    "start_time": "2022-05-11T20:03:06.715Z"
   },
   {
    "duration": 24,
    "start_time": "2022-05-11T20:03:06.750Z"
   },
   {
    "duration": 46,
    "start_time": "2022-05-11T20:03:06.775Z"
   },
   {
    "duration": 37,
    "start_time": "2022-05-11T20:03:06.822Z"
   },
   {
    "duration": 14,
    "start_time": "2022-05-11T20:03:06.860Z"
   },
   {
    "duration": 4,
    "start_time": "2022-05-11T20:03:06.876Z"
   },
   {
    "duration": 14,
    "start_time": "2022-05-11T20:03:06.903Z"
   },
   {
    "duration": 89,
    "start_time": "2022-05-11T20:03:06.918Z"
   },
   {
    "duration": 6,
    "start_time": "2022-05-11T20:03:07.011Z"
   },
   {
    "duration": 25,
    "start_time": "2022-05-11T20:03:07.019Z"
   },
   {
    "duration": 19,
    "start_time": "2022-05-11T20:03:07.046Z"
   },
   {
    "duration": 19,
    "start_time": "2022-05-11T20:03:07.067Z"
   },
   {
    "duration": 21,
    "start_time": "2022-05-11T20:03:07.109Z"
   },
   {
    "duration": 18,
    "start_time": "2022-05-11T20:03:07.131Z"
   },
   {
    "duration": 95,
    "start_time": "2022-05-11T20:03:07.151Z"
   },
   {
    "duration": 123,
    "start_time": "2022-05-11T20:03:07.248Z"
   },
   {
    "duration": 38,
    "start_time": "2022-05-11T20:03:07.373Z"
   },
   {
    "duration": 41,
    "start_time": "2022-05-11T20:03:07.413Z"
   },
   {
    "duration": 16,
    "start_time": "2022-05-11T20:03:07.456Z"
   },
   {
    "duration": 46,
    "start_time": "2022-05-11T20:03:07.474Z"
   },
   {
    "duration": 6,
    "start_time": "2022-05-11T20:03:07.523Z"
   },
   {
    "duration": 35,
    "start_time": "2022-05-11T20:03:07.531Z"
   },
   {
    "duration": 4,
    "start_time": "2022-05-11T20:03:07.568Z"
   },
   {
    "duration": 48,
    "start_time": "2022-05-11T20:03:07.574Z"
   },
   {
    "duration": 4275,
    "start_time": "2022-05-12T07:23:25.328Z"
   },
   {
    "duration": 1219,
    "start_time": "2022-05-12T07:23:29.606Z"
   },
   {
    "duration": 339,
    "start_time": "2022-05-12T07:23:30.827Z"
   },
   {
    "duration": 30,
    "start_time": "2022-05-12T07:23:31.169Z"
   },
   {
    "duration": 74,
    "start_time": "2022-05-12T07:23:31.201Z"
   },
   {
    "duration": 94,
    "start_time": "2022-05-12T07:23:31.277Z"
   },
   {
    "duration": 18,
    "start_time": "2022-05-12T07:23:31.374Z"
   },
   {
    "duration": 465,
    "start_time": "2022-05-12T07:23:31.394Z"
   },
   {
    "duration": 203,
    "start_time": "2022-05-12T07:23:31.862Z"
   },
   {
    "duration": 16,
    "start_time": "2022-05-12T07:23:32.072Z"
   },
   {
    "duration": 36,
    "start_time": "2022-05-12T07:23:32.091Z"
   },
   {
    "duration": 123,
    "start_time": "2022-05-12T07:23:32.153Z"
   },
   {
    "duration": 8,
    "start_time": "2022-05-12T07:23:32.279Z"
   },
   {
    "duration": 12,
    "start_time": "2022-05-12T07:23:32.289Z"
   },
   {
    "duration": 17087,
    "start_time": "2022-05-12T07:23:32.303Z"
   },
   {
    "duration": 40,
    "start_time": "2022-05-12T07:23:49.451Z"
   },
   {
    "duration": 39,
    "start_time": "2022-05-12T07:23:49.552Z"
   },
   {
    "duration": 64,
    "start_time": "2022-05-12T07:23:49.593Z"
   },
   {
    "duration": 38,
    "start_time": "2022-05-12T07:23:49.659Z"
   },
   {
    "duration": 170,
    "start_time": "2022-05-12T07:23:49.699Z"
   },
   {
    "duration": 178,
    "start_time": "2022-05-12T07:23:49.874Z"
   },
   {
    "duration": 140,
    "start_time": "2022-05-12T07:23:50.054Z"
   },
   {
    "duration": 66,
    "start_time": "2022-05-12T07:23:50.197Z"
   },
   {
    "duration": 23,
    "start_time": "2022-05-12T07:23:50.265Z"
   },
   {
    "duration": 95,
    "start_time": "2022-05-12T07:23:50.290Z"
   },
   {
    "duration": 90,
    "start_time": "2022-05-12T07:23:50.387Z"
   },
   {
    "duration": 102,
    "start_time": "2022-05-12T07:23:50.480Z"
   },
   {
    "duration": 84,
    "start_time": "2022-05-12T07:23:50.587Z"
   },
   {
    "duration": 92,
    "start_time": "2022-05-12T07:23:50.674Z"
   },
   {
    "duration": 103,
    "start_time": "2022-05-12T07:23:50.768Z"
   },
   {
    "duration": 21,
    "start_time": "2022-05-12T07:23:50.873Z"
   },
   {
    "duration": 9,
    "start_time": "2022-05-12T07:23:50.952Z"
   },
   {
    "duration": 24,
    "start_time": "2022-05-12T07:23:50.964Z"
   },
   {
    "duration": 304,
    "start_time": "2022-05-12T07:23:50.991Z"
   },
   {
    "duration": 60,
    "start_time": "2022-05-12T07:23:51.297Z"
   },
   {
    "duration": 38,
    "start_time": "2022-05-12T07:23:51.360Z"
   },
   {
    "duration": 29,
    "start_time": "2022-05-12T07:23:51.451Z"
   },
   {
    "duration": 85,
    "start_time": "2022-05-12T07:23:51.482Z"
   },
   {
    "duration": 26,
    "start_time": "2022-05-12T07:23:51.569Z"
   },
   {
    "duration": 27,
    "start_time": "2022-05-12T07:23:51.651Z"
   },
   {
    "duration": 285,
    "start_time": "2022-05-12T07:23:51.680Z"
   },
   {
    "duration": 285,
    "start_time": "2022-05-12T07:23:51.968Z"
   },
   {
    "duration": 32,
    "start_time": "2022-05-12T07:23:52.255Z"
   },
   {
    "duration": 164,
    "start_time": "2022-05-12T07:23:52.289Z"
   },
   {
    "duration": 27,
    "start_time": "2022-05-12T07:23:52.455Z"
   },
   {
    "duration": 88,
    "start_time": "2022-05-12T07:23:52.484Z"
   },
   {
    "duration": 7,
    "start_time": "2022-05-12T07:23:52.574Z"
   },
   {
    "duration": 106,
    "start_time": "2022-05-12T07:23:52.583Z"
   },
   {
    "duration": 7,
    "start_time": "2022-05-12T07:23:52.691Z"
   },
   {
    "duration": 43,
    "start_time": "2022-05-12T07:23:52.751Z"
   },
   {
    "duration": 107,
    "start_time": "2022-05-12T07:27:11.007Z"
   }
  ],
  "kernelspec": {
   "display_name": "Python 3 (ipykernel)",
   "language": "python",
   "name": "python3"
  },
  "language_info": {
   "codemirror_mode": {
    "name": "ipython",
    "version": 3
   },
   "file_extension": ".py",
   "mimetype": "text/x-python",
   "name": "python",
   "nbconvert_exporter": "python",
   "pygments_lexer": "ipython3",
   "version": "3.7.10"
  },
  "toc": {
   "base_numbering": 1,
   "nav_menu": {
    "height": "277px",
    "width": "683px"
   },
   "number_sections": true,
   "sideBar": true,
   "skip_h1_title": true,
   "title_cell": "Table of Contents",
   "title_sidebar": "Contents",
   "toc_cell": false,
   "toc_position": {},
   "toc_section_display": true,
   "toc_window_display": false
  }
 },
 "nbformat": 4,
 "nbformat_minor": 2
}
